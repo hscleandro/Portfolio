{
 "cells": [
  {
   "cell_type": "markdown",
   "metadata": {},
   "source": [
    "## Spark Streaming - Plotando o gráfico de sentimento"
   ]
  },
  {
   "cell_type": "markdown",
   "metadata": {},
   "source": [
    "### Author: Leandro Correa; Versão: 1.0.0-beta; Update: 01-02-2022\n"
   ]
  },
  {
   "cell_type": "code",
   "execution_count": 1,
   "metadata": {},
   "outputs": [],
   "source": [
    "import time\n",
    "from watchdog.observers import Observer\n",
    "from watchdog.events import PatternMatchingEventHandler\n",
    "import types\n",
    "#!pip install money_parser\n",
    "from money_parser import price_str\n",
    "import re\n",
    "import matplotlib.pyplot as plt\n",
    "import numpy as np\n",
    "import json\n",
    "import os\n",
    "import pdb\n",
    "from IPython import display\n",
    "#pdb.set_trace()\n",
    "\n",
    "%matplotlib inline\n",
    "plt.rcParams['animation.html'] = 'jshtml'"
   ]
  },
  {
   "cell_type": "code",
   "execution_count": 2,
   "metadata": {},
   "outputs": [],
   "source": [
    "#variavel com o nome da pesquisa\n",
    "global search_term \n",
    "# Diretorio onde o projeto está sendo executado\n",
    "PATH = re.sub(\"notebooks\",\"\",os.getcwd())\n",
    "# Aqruivo gerado contendo o nome do termo usado na busca do spark streaming\n",
    "OUTPUT = PATH + 'data/term/output.txt'\n",
    "# Diretorio onde sera registrado os resultados da analise do spark streaming\n",
    "LISTENER = PATH + 'data/record'\n",
    "\n",
    "# Variáveis globais\n",
    "bad_felling = []\n",
    "good_feling = []\n",
    "timecolect = []\n",
    "timecolect2 = []\n",
    "list_consumed_files = []\n",
    "list_visited_dir = []"
   ]
  },
  {
   "cell_type": "code",
   "execution_count": 3,
   "metadata": {},
   "outputs": [],
   "source": [
    "def get_parameters(line):\n",
    "    for l in line:\n",
    "        global good_feling\n",
    "        global bad_felling\n",
    "        global timecolect\n",
    "        global timecolect2\n",
    "        aux = l.split(\", \")\n",
    "        if len(aux) > 2:\n",
    "            if price_str(aux[1]) == '1':\n",
    "                good_feling.append(int(price_str(aux[2])))\n",
    "                bad_felling.append(int(price_str(aux[4])))\n",
    "            else:\n",
    "                good_feling.append(int(price_str(aux[4])))\n",
    "                bad_felling.append(int(price_str(aux[2])))\n",
    "            timestm = l[2:16]\n",
    "            timestm2 = l[8:16]\n",
    "            timecolect.append(str(timestm))\n",
    "            timecolect2.append(str(timestm2))\n",
    "        \n",
    "            x = [x for x in range(1,len(timecolect)+1)]\n",
    "            plt.rcParams[\"figure.figsize\"] = (14.5,8)\n",
    "            fig = plt.figure()\n",
    "            ax = fig.add_subplot(111)\n",
    "            title = 'Análise de sentimento do termo ' + search_term\n",
    "            plt.suptitle(title, fontsize=18)\n",
    "            plt.xticks(rotation=90)\n",
    "\n",
    "            index = np.argsort(timecolect)\n",
    "            \n",
    "            timecolect = [timecolect[i] for i in index]\n",
    "            timecolect2 = [timecolect2[i] for i in index]\n",
    "            bad_felling = [bad_felling[i] for i in index]\n",
    "            good_feling = [good_feling[i] for i in index]\n",
    "            \n",
    "            # Numero maximo de pontos no gráfico\n",
    "            slide = 40\n",
    "            \n",
    "            if len(good_feling) > slide:\n",
    "                good = good_feling[-slide:]\n",
    "                bad = bad_felling[-slide:]\n",
    "                tiime = timecolect2[-slide:]\n",
    "                tstv= 'l1'\n",
    "            else:\n",
    "                good = good_feling\n",
    "                bad = bad_felling\n",
    "                tiime = timecolect2\n",
    "                tstv= 'l2'\n",
    "\n",
    "            plt.ylabel('Numero de twittes')\n",
    "            plt.xlabel('Tempo (H:M)')\n",
    "            ax.plot(tiime,good, c='b', label='good feeling',linewidth=4.0)\n",
    "            ax.plot(tiime, bad, c='r', label='bad feeling' ,linewidth=4.0)\n",
    "\n",
    "            ax.legend(loc='upper center', bbox_to_anchor=(0.5, -0.14),\n",
    "                      fancybox=True, shadow=True, ncol=5)\n",
    "            \n",
    "            display.display(plt.gcf())\n",
    "            display.clear_output(wait=True)\n",
    "\n",
    "            time.sleep(0.1)"
   ]
  },
  {
   "cell_type": "code",
   "execution_count": 4,
   "metadata": {},
   "outputs": [],
   "source": [
    "def on_created(event):\n",
    "    global LISTENER\n",
    "    global list_consumed_files\n",
    "    global list_visited_dir\n",
    "\n",
    "    record = os.listdir(LISTENER)\n",
    "    if record:\n",
    "        index = np.argsort(record)\n",
    "        record = [record[i] for i in index]\n",
    "        for r in record: \n",
    "            if r not in list_visited_dir:\n",
    "                path = LISTENER + '/' + r + '/'\n",
    "                files = [x for x in os.listdir(path) if x[0] != '.' and x != '_SUCCESS']\n",
    "                for i in files:\n",
    "                    file_path = path + i\n",
    "                    if os.path.isdir(file_path) == False:\n",
    "                        list_visited_dir.append(r)\n",
    "                        f = open(file_path, \"r\")\n",
    "                        line = f.readlines()\n",
    "                        if file_path not in list_consumed_files:\n",
    "                            get_parameters(line)\n",
    "                            list_consumed_files.append(file_path)\n",
    "    '''\n",
    "    if timecolect:\n",
    "        print(\"good:\")\n",
    "        print(good_feling)\n",
    "        print(\"bad:\")\n",
    "        print(bad_felling)\n",
    "        print(\"time:\")\n",
    "        print(timecolect)\n",
    "    '''\n",
    "    "
   ]
  },
  {
   "cell_type": "code",
   "execution_count": 5,
   "metadata": {},
   "outputs": [],
   "source": [
    "patterns = \"*\"\n",
    "ignore_patterns = \"\"\n",
    "ignore_directories = False\n",
    "case_sensitive = True\n",
    "my_event_handler = PatternMatchingEventHandler(patterns, ignore_patterns, ignore_directories, case_sensitive)"
   ]
  },
  {
   "cell_type": "code",
   "execution_count": 6,
   "metadata": {},
   "outputs": [],
   "source": [
    "my_event_handler.on_created = on_created"
   ]
  },
  {
   "cell_type": "code",
   "execution_count": 7,
   "metadata": {},
   "outputs": [],
   "source": [
    "with open(OUTPUT) as json_file:\n",
    "    output = json.load(json_file)\n",
    "search_term = output['search_term']\n"
   ]
  },
  {
   "cell_type": "code",
   "execution_count": 8,
   "metadata": {},
   "outputs": [
    {
     "data": {
      "text/plain": [
       "'/home/leandro/Workspace/mm/dsml-twitter-real-time/data/record'"
      ]
     },
     "execution_count": 8,
     "metadata": {},
     "output_type": "execute_result"
    }
   ],
   "source": [
    "LISTENER"
   ]
  },
  {
   "cell_type": "code",
   "execution_count": 9,
   "metadata": {},
   "outputs": [
    {
     "data": {
      "text/plain": [
       "<ObservedWatch: path=/home/leandro/Workspace/mm/dsml-twitter-real-time/data/record, is_recursive=True>"
      ]
     },
     "execution_count": 9,
     "metadata": {},
     "output_type": "execute_result"
    }
   ],
   "source": [
    "go_recursively = True\n",
    "my_observer = Observer()\n",
    "my_observer.schedule(my_event_handler, LISTENER, recursive=go_recursively)"
   ]
  },
  {
   "cell_type": "code",
   "execution_count": null,
   "metadata": {
    "scrolled": true
   },
   "outputs": [
    {
     "data": {
      "image/png": "[encoded data removed]",
      "text/plain": [
       "<Figure size 1044x576 with 1 Axes>"
      ]
     },
     "metadata": {},
     "output_type": "display_data"
    }
   ],
   "source": [
    "my_observer.start()\n",
    "try:\n",
    "    while True:\n",
    "        time.sleep(5)\n",
    "except KeyboardInterrupt:\n",
    "    my_observer.stop()"
   ]
  },
  {
   "cell_type": "code",
   "execution_count": null,
   "metadata": {},
   "outputs": [],
   "source": []
  }
 ],
 "metadata": {
  "kernelspec": {
   "display_name": "Python 3",
   "language": "python",
   "name": "python3"
  },
  "language_info": {
   "codemirror_mode": {
    "name": "ipython",
    "version": 3
   },
   "file_extension": ".py",
   "mimetype": "text/x-python",
   "name": "python",
   "nbconvert_exporter": "python",
   "pygments_lexer": "ipython3",
   "version": "3.7.10"
  }
 },
 "nbformat": 4,
 "nbformat_minor": 4
}
