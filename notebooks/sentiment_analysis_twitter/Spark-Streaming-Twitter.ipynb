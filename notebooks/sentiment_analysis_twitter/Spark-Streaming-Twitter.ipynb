{
 "cells": [
  {
   "cell_type": "markdown",
   "metadata": {},
   "source": [
    "Acesse http://localhost:4040 sempre que quiser acompanhar a execução dos jobs"
   ]
  },
  {
   "cell_type": "markdown",
   "metadata": {},
   "source": [
    "## Spark Streaming - Twitter"
   ]
  },
  {
   "cell_type": "markdown",
   "metadata": {},
   "source": [
    "### Author: Leandro Correa; Versão: 1.0.0-beta; Update: 01-02-2022"
   ]
  },
  {
   "cell_type": "code",
   "execution_count": 1,
   "metadata": {},
   "outputs": [],
   "source": [
    "# Pode ser necessário instalar esses pacotes\n",
    "#!pip install requests_oauthlib\n",
    "#!pip install twython\n",
    "#!pip install nltk"
   ]
  },
  {
   "cell_type": "code",
   "execution_count": 2,
   "metadata": {},
   "outputs": [],
   "source": [
    "# Módulos usados\n",
    "from pyspark.streaming import StreamingContext\n",
    "from pyspark import SparkContext\n",
    "from requests_oauthlib import OAuth1Session\n",
    "from operator import add\n",
    "import requests_oauthlib\n",
    "from time import gmtime, strftime\n",
    "import requests\n",
    "import time\n",
    "import string\n",
    "import ast\n",
    "import json\n",
    "import pandas as pd\n",
    "from sklearn.metrics import precision_score, recall_score, f1_score, accuracy_score, roc_auc_score\n",
    "from unicodedata import normalize \n",
    "import re\n",
    "from pathlib import Path"
   ]
  },
  {
   "cell_type": "code",
   "execution_count": 3,
   "metadata": {},
   "outputs": [],
   "source": [
    "# Pacote NLTK\n",
    "import nltk\n",
    "from nltk.classify import NaiveBayesClassifier\n",
    "from nltk.sentiment import SentimentAnalyzer\n",
    "from nltk.corpus import subjectivity\n",
    "from nltk.corpus import stopwords\n",
    "from nltk.sentiment.util import *"
   ]
  },
  {
   "cell_type": "markdown",
   "metadata": {},
   "source": [
    "## Setando variáveis de controle do streaming"
   ]
  },
  {
   "cell_type": "code",
   "execution_count": 4,
   "metadata": {},
   "outputs": [],
   "source": [
    "# Frequência de update do spark\n",
    "INTERVALO_BATCH = 5\n",
    "\n",
    "# Numero de arquivos contendo análises salvos em cada pasta\n",
    "# Cada arquivo contém duas análises\n",
    "UPDATE = 5\n",
    "\n",
    "# Total de tweets por análise \n",
    "# Numeros muito altos (acima de 1500) podem fazer com que o Twitter interrompa o serviço na conta Free)\n",
    "NUM_TWEETS = 500\n",
    "\n",
    "# Termo de busca desejado\n",
    "SEARCH_TERM = 'AVON'\n",
    "\n",
    "# Horário final de execução\n",
    "FINAL_TIME = '2022-02-11-11-30-00'\n"
   ]
  },
  {
   "cell_type": "code",
   "execution_count": 5,
   "metadata": {},
   "outputs": [],
   "source": [
    "# Ajustuando PATHS de input e output\n",
    "PATH = re.sub(\"notebooks\",\"\",os.getcwd())\n",
    "\n",
    "# Setando conunto de treino, teste, onde o termo e os resultados firacão armazenados\n",
    "#DATASET = PATH + \"data/train/dataset_analise_sentimento_ptbr.csv\"\n",
    "DATASET = PATH + \"data/train/train_sentimento_ptbr_theme.csv\"\n",
    "#TEST = PATH + 'data/test/test_sentimento_ptbr.csv'\n",
    "TEST = PATH + \"data/test/teste_sentimento_ptbr_theme.csv\"\n",
    "TERM = PATH + 'data/term/output.txt'\n",
    "RDD_ADDRESS = PATH + \"data/record/r\"\n",
    "OUTPUT_DATA = PATH + \"data/tweeters/t\"\n",
    "\n",
    "\n",
    "output ={'search_term': SEARCH_TERM}\n",
    "with open(TERM, 'w') as outfile:\n",
    "    json.dump(output, outfile)"
   ]
  },
  {
   "cell_type": "code",
   "execution_count": 6,
   "metadata": {},
   "outputs": [],
   "source": [
    "# Criando o StreamingContext\n",
    "ssc = StreamingContext(sc, INTERVALO_BATCH)"
   ]
  },
  {
   "cell_type": "markdown",
   "metadata": {},
   "source": [
    "## Treinando o Classificador de Análise de Sentimento"
   ]
  },
  {
   "cell_type": "markdown",
   "metadata": {},
   "source": [
    "Tomaremos como base para treino o dataset obtido a partir da competição do Kaggle -> https://www.kaggle.com/augustop/portuguese-tweets-for-sentiment-analysis\n"
   ]
  },
  {
   "cell_type": "markdown",
   "metadata": {},
   "source": [
    "Esse dataset contém 500.000 tweets classificados e cada linha é marcada como: \n",
    "\n",
    "### 1 para o sentimento positivo \n",
    "### 0 para o sentimento negativo "
   ]
  },
  {
   "cell_type": "code",
   "execution_count": 7,
   "metadata": {},
   "outputs": [],
   "source": [
    "# Lendo o arquivo texto e criando um RDD em memória com Spark\n",
    "arquivo = sc.textFile(DATASET)\n"
   ]
  },
  {
   "cell_type": "code",
   "execution_count": 8,
   "metadata": {},
   "outputs": [],
   "source": [
    "# Removendo o cabeçalho\n",
    "header = arquivo.take(1)[0]\n",
    "dataset = arquivo.filter(lambda line: line != header)"
   ]
  },
  {
   "cell_type": "code",
   "execution_count": 9,
   "metadata": {},
   "outputs": [],
   "source": [
    "# Essa função separa as colunas em cada linha, cria uma tupla e remove a pontuação.\n",
    "def get_row(line):\n",
    "  row = line.split(',')\n",
    "  sentimento = row[1]\n",
    "  tweet = row[3].strip()\n",
    "  translator = str.maketrans({key: None for key in string.punctuation})\n",
    "  tweet = tweet.translate(translator)\n",
    "  tweet = tweet.split(' ')\n",
    "  tweet_lower = []\n",
    "  for word in tweet:\n",
    "    tweet_lower.append(word.lower())\n",
    "  \n",
    "  tweet_lower = [re.sub(\"(.)\\\\1{\"+str(2)+\",}\", '', w) for w in tweet_lower] \n",
    "  tweet_lower = [normalize('NFKD', w).encode('ASCII', 'ignore').decode('ASCII') for w in tweet_lower]\n",
    "  \n",
    "  return (tweet_lower, sentimento)"
   ]
  },
  {
   "cell_type": "code",
   "execution_count": 10,
   "metadata": {},
   "outputs": [],
   "source": [
    "# Aplica a função a cada linha do dataset\n",
    "dataset_treino = dataset.map(lambda line: get_row(line))"
   ]
  },
  {
   "cell_type": "code",
   "execution_count": 11,
   "metadata": {},
   "outputs": [],
   "source": [
    "# Cria um objeto SentimentAnalyzer \n",
    "sentiment_analyzer = SentimentAnalyzer()"
   ]
  },
  {
   "cell_type": "code",
   "execution_count": 12,
   "metadata": {},
   "outputs": [
    {
     "name": "stderr",
     "output_type": "stream",
     "text": [
      "[nltk_data] Downloading package stopwords to\n",
      "[nltk_data]     /home/leandro/nltk_data...\n",
      "[nltk_data]   Package stopwords is already up-to-date!\n"
     ]
    },
    {
     "data": {
      "text/plain": [
       "True"
      ]
     },
     "execution_count": 12,
     "metadata": {},
     "output_type": "execute_result"
    }
   ],
   "source": [
    "# Certifique-se de ter espaço em disco - Aproximadamente 5GB\n",
    "# https://raw.githubusercontent.com/nltk/nltk_data/gh-pages/index.xml\n",
    "# nltk.download()\n",
    "nltk.download(\"stopwords\")"
   ]
  },
  {
   "cell_type": "code",
   "execution_count": 13,
   "metadata": {},
   "outputs": [],
   "source": [
    "# Obtém a lista de stopwords em Inglês \n",
    "stopwords_all = []\n",
    "#for word in stopwords.words('english'):\n",
    "stopwords = stopwords.words('portuguese')\n",
    "stopwords.extend(['pra', 'pro', 'muito', 'muita', 'pq', 'ai', 'coisa', 'tipo'])\n",
    "\n",
    "for word in stopwords:\n",
    "  stopwords_all.append(word)\n",
    "  stopwords_all.append(word + '_NEG')"
   ]
  },
  {
   "cell_type": "code",
   "execution_count": 14,
   "metadata": {},
   "outputs": [],
   "source": [
    "# Obtém 50.000 tweets do dataset de treino \n",
    "dataset_treino_amostra = dataset_treino.take(50000)"
   ]
  },
  {
   "cell_type": "code",
   "execution_count": 15,
   "metadata": {},
   "outputs": [],
   "source": [
    "# retorna todas as palavras que não são stopwords\n",
    "all_words_neg = sentiment_analyzer.all_words([mark_negation(doc) for doc in dataset_treino_amostra])\n",
    "all_words_neg_nostops = [x for x in all_words_neg if x not in stopwords_all]"
   ]
  },
  {
   "cell_type": "code",
   "execution_count": 16,
   "metadata": {},
   "outputs": [],
   "source": [
    "# Cria um unigram (n-grama) e extrai as features\n",
    "unigram_feats = sentiment_analyzer.unigram_word_feats(all_words_neg_nostops, top_n = 200)\n",
    "sentiment_analyzer.add_feat_extractor(extract_unigram_feats, unigrams = unigram_feats)\n",
    "training_set = sentiment_analyzer.apply_features(dataset_treino_amostra)"
   ]
  },
  {
   "cell_type": "code",
   "execution_count": 17,
   "metadata": {},
   "outputs": [
    {
     "name": "stdout",
     "output_type": "stream",
     "text": [
      "Training classifier\n"
     ]
    }
   ],
   "source": [
    "# Treinar o modelo\n",
    "trainer = NaiveBayesClassifier.train\n",
    "classifier = sentiment_analyzer.train(trainer, training_set)"
   ]
  },
  {
   "cell_type": "markdown",
   "metadata": {},
   "source": [
    "## Testando o classificador"
   ]
  },
  {
   "cell_type": "code",
   "execution_count": 18,
   "metadata": {},
   "outputs": [],
   "source": [
    "# Obtendo o conjunto de teste\n",
    "test_dataset = pd.read_csv(TEST)\n",
    "predictions = []\n",
    "\n",
    "for tweet in test_dataset.SentimentText:\n",
    "    translator = str.maketrans({key: None for key in string.punctuation})\n",
    "    tweet = tweet.translate(translator)\n",
    "    tweet = tweet.split(' ')\n",
    "    tweet_lower = []\n",
    "    for word in tweet:\n",
    "        if word != '':\n",
    "            tweet_lower.append(word.lower())\n",
    "    \n",
    "    #r = '(.*).com+|\\W+|_+|[0-9]+|(http|www)\\S+|(http|www)' # 0.70\n",
    "    #r = '\\W+|_+|[0-9]+' # 0.712\n",
    "    #tweet_lower = [w for w in tweet_lower if len(w) > 2] # 0.68\n",
    "    \n",
    "    tweet_lower = [re.sub(\"(.)\\\\1{\"+str(2)+\",}\", '', w) for w in tweet_lower]\n",
    "    tweet_lower = [normalize('NFKD', w).encode('ASCII', 'ignore').decode('ASCII') for w in tweet_lower]\n",
    "\n",
    "    test_set = sentiment_analyzer.apply_features([([tweet_lower,''])])\n",
    "    \n",
    "    y = classifier.classify(test_set[0][0])\n",
    "    predictions.append(int(y.replace('\"', '')))"
   ]
  },
  {
   "cell_type": "code",
   "execution_count": 19,
   "metadata": {},
   "outputs": [
    {
     "data": {
      "text/plain": [
       "{'Modelo': 'NaiveBayes',\n",
       " 'Versão': '1',\n",
       " 'Precision': 0.852,\n",
       " 'Recall': 0.613479262672811,\n",
       " 'F1 Score': 0.7133288680509042,\n",
       " 'Acurácia': 0.6576,\n",
       " 'AUC': 0.6576}"
      ]
     },
     "execution_count": 19,
     "metadata": {},
     "output_type": "execute_result"
    }
   ],
   "source": [
    "# Escrevendo os resultados da acurácia da previsão\n",
    "y_teste = [y for y in test_dataset.Sentiment]\n",
    "dict_previsions = {'Modelo':'NaiveBayes',\n",
    "                   'Versão':'1',\n",
    "                   'Precision':precision_score(predictions, y_teste),\n",
    "                   'Recall':recall_score(predictions, y_teste),\n",
    "                   'F1 Score':f1_score(predictions, y_teste),\n",
    "                   'Acurácia':accuracy_score(predictions, y_teste),\n",
    "                   'AUC':roc_auc_score(y_teste, predictions)}\n",
    "dict_previsions"
   ]
  },
  {
   "cell_type": "markdown",
   "metadata": {},
   "source": [
    "## Integrando com o Twitter\n"
   ]
  },
  {
   "cell_type": "code",
   "execution_count": 20,
   "metadata": {},
   "outputs": [],
   "source": [
    "# Autenticação do Twitter \n",
    "consumer_key = \"#########################\"\n",
    "consumer_secret = \"#########################\"\n",
    "access_token = \"#########################\"\n",
    "access_token_secret = \"#########################\""
   ]
  },
  {
   "cell_type": "code",
   "execution_count": 21,
   "metadata": {},
   "outputs": [],
   "source": [
    "# Especifica a URL termo de busca\n",
    "sample_url = 'https://stream.twitter.com/1.1/statuses/sample.json'\n",
    "filter_url = 'https://stream.twitter.com/1.1/statuses/filter.json?track='+SEARCH_TERM\n",
    "#callback_url = \"http://127.0.0.1:8080\""
   ]
  },
  {
   "cell_type": "code",
   "execution_count": 22,
   "metadata": {},
   "outputs": [],
   "source": [
    "# Criando o objeto de atutenticação para o Twitter\n",
    "auth = requests_oauthlib.OAuth1(consumer_key, consumer_secret, access_token, access_token_secret)"
   ]
  },
  {
   "cell_type": "code",
   "execution_count": 23,
   "metadata": {},
   "outputs": [],
   "source": [
    "# Configurando o Stream\n",
    "rdd = ssc.sparkContext.parallelize([0])\n",
    "stream = ssc.queueStream([], default = rdd)"
   ]
  },
  {
   "cell_type": "code",
   "execution_count": 24,
   "metadata": {},
   "outputs": [],
   "source": [
    "# Essa função conecta ao Twitter e retorna um número específico de Tweets (NUM_TWEETS)\n",
    "def tfunc(t, rdd):\n",
    "  return rdd.flatMap(lambda x: stream_twitter_data())\n",
    "\n",
    "def stream_twitter_data():\n",
    "  response = requests.get(filter_url, auth = auth, stream = True)\n",
    "  print(filter_url, response)\n",
    "  count = 0\n",
    "  for line in response.iter_lines():\n",
    "    try:\n",
    "      if count > NUM_TWEETS:\n",
    "        break\n",
    "      post = json.loads(line.decode('utf-8'))\n",
    "      contents = [post['text']]\n",
    "      count += 1\n",
    "      yield str(contents)\n",
    "    except:\n",
    "      result = False"
   ]
  },
  {
   "cell_type": "code",
   "execution_count": 25,
   "metadata": {},
   "outputs": [],
   "source": [
    "stream = stream.transform(tfunc)"
   ]
  },
  {
   "cell_type": "code",
   "execution_count": 26,
   "metadata": {},
   "outputs": [],
   "source": [
    "coord_stream = stream.map(lambda line: ast.literal_eval(line))"
   ]
  },
  {
   "cell_type": "code",
   "execution_count": 27,
   "metadata": {},
   "outputs": [],
   "source": [
    "# Essa função classifica os tweets, aplicando as features do modelo criado anteriormente\n",
    "def classifica_tweet(tweet):\n",
    "  sentence = [(tweet, '')]\n",
    "  test_set = sentiment_analyzer.apply_features(sentence)\n",
    "  print(tweet, classifier.classify(test_set[0][0]))\n",
    "  return(tweet, classifier.classify(test_set[0][0]))"
   ]
  },
  {
   "cell_type": "code",
   "execution_count": 28,
   "metadata": {},
   "outputs": [],
   "source": [
    "# Essa função retorna o texto do Twitter\n",
    "def get_tweet_text(rdd):\n",
    "  for line in rdd:\n",
    "    tweet = line.strip()\n",
    "    translator = str.maketrans({key: None for key in string.punctuation})\n",
    "    tweet = tweet.translate(translator)\n",
    "    tweet = tweet.split(' ')\n",
    "    tweet_lower = []\n",
    "    for word in tweet:\n",
    "      tweet_lower.append(word.lower())\n",
    "    \n",
    "    tweet_lower = [re.sub(\"(.)\\\\1{\"+str(2)+\",}\", '', w) for w in tweet_lower]\n",
    "    tweet_lower = [normalize('NFKD', w).encode('ASCII', 'ignore').decode('ASCII') for w in tweet_lower]\n",
    "    \n",
    "    return(classifica_tweet(tweet_lower))"
   ]
  },
  {
   "cell_type": "code",
   "execution_count": 29,
   "metadata": {},
   "outputs": [],
   "source": [
    "# Essa função grava os twitters em um arquivo\n",
    "def record_twitter_text(rdd):\n",
    "    list_tweeters = [] \n",
    "    for line in rdd:\n",
    "      tweet = line.strip()\n",
    "      translator = str.maketrans({key: None for key in string.punctuation})\n",
    "      tweet = tweet.translate(translator)\n",
    "      tweet = tweet.split(' ')\n",
    "      tweet_lower = []\n",
    "      for word in tweet:\n",
    "        tweet_lower.append(word.lower())\n",
    "      \n",
    "      tweet_lower = [re.sub(\"(.)\\\\1{\"+str(2)+\",}\", '', w) for w in tweet_lower]\n",
    "      tweet_lower = [normalize('NFKD', w).encode('ASCII', 'ignore').decode('ASCII') for w in tweet_lower]\n",
    "      \n",
    "      list_tweeters.append(tweet_lower)\n",
    "    \n",
    "    return(list_tweeters)    \n",
    "    "
   ]
  },
  {
   "cell_type": "code",
   "execution_count": 30,
   "metadata": {},
   "outputs": [],
   "source": [
    "# Cria uma lista vazia para os resultados\n",
    "resultados = []\n",
    "tweet_list = []"
   ]
  },
  {
   "cell_type": "code",
   "execution_count": 31,
   "metadata": {},
   "outputs": [],
   "source": [
    "import pdb\n",
    "\n",
    "# Essa função salva o resultado dos batches de Tweets junto com o timestamp\n",
    "def output_rdd(rdd):\n",
    "  global resultados\n",
    "  global tweet_list\n",
    "  \n",
    "  pairs = rdd.map(lambda x: (get_tweet_text(x)[1],1))\n",
    "  \n",
    "  counts = pairs.reduceByKey(add)\n",
    "  output = []\n",
    "  for count in counts.collect():\n",
    "    output.append(count)\n",
    "    \n",
    "  result = [time.strftime(\"%d:%m:%I:%M:%S\"), output]\n",
    "  resultados.append(result)\n",
    "    \n",
    "  tweets = rdd.map(lambda x: get_tweet_text(x))\n",
    "  output = []\n",
    "  for count in tweets.collect():\n",
    "    output.append(count)\n",
    "    \n",
    "  tweet_list.append(output)\n",
    "\n",
    "  print(result)\n",
    "  print(tweet_list)"
   ]
  },
  {
   "cell_type": "code",
   "execution_count": 32,
   "metadata": {},
   "outputs": [],
   "source": [
    "# A função foreachRDD() aplica uma função a cada RDD to streaming de dados\n",
    "coord_stream.foreachRDD(lambda t, rdd: output_rdd(rdd))"
   ]
  },
  {
   "cell_type": "markdown",
   "metadata": {},
   "source": [
    "## Startando o streaming e processando as análises"
   ]
  },
  {
   "cell_type": "code",
   "execution_count": 33,
   "metadata": {},
   "outputs": [],
   "source": [
    "# Start streaming\n",
    "ssc.start()\n",
    "# ssc.awaitTermination()"
   ]
  },
  {
   "cell_type": "code",
   "execution_count": 34,
   "metadata": {
    "scrolled": true
   },
   "outputs": [
    {
     "name": "stdout",
     "output_type": "stream",
     "text": [
      "['10:02:11:06:51', []]\n",
      "[[]]\n",
      "['10:02:11:12:10', [('1', 433), ('0', 68)]]\n",
      "[[], [(['cheirar', 'revistinha', 'da', 'avon', 'sem', 'duvidas', 'foi', 'meu', 'primeiro', 'vicio'], '1'), (['avon', 'me', 'lembra', 'minha', 'avo', ''], '1'), (['rt', 'centralreaiity', 'to', 'passada', 'chocada', '22'], '0'), (['rt', 'danbarbosa', 'e', 'hj', 'a', 'prova', 'do', 'lider', 'e', 'com', 'aquela', 'marca', 'la', 'avon\\n\\ntadeu', 'schimidt', '\\n22', 'provadolider', 'httpstcofobggkrd1w'], '1'), (['bchartsnet', 'avon', 'tapete', 'da', 'natura', 'avisa', 'bc'], '1'), (['avon', 'colocou', 'o', 'cheiro', 'na', 'parede', '\\nagr', 'ela', 'passou', 'dos', 'limites\\n22'], '1'), (['ninguem', 'deu', 'moral', 'pro', 'perfume', 'da', 'avon', 'poxa', '22'], '0'), (['rt', 'tracklist', 'tadeu', 'falando', 'aquela', 'marca', 'la', 'para', 'falar', 'da', 'avon', '', '22', 'httpstco3tiusg4win'], '1'), (['a', 'publi', 'de', 'milhoes', 'que', 'tadeu', 'pediu', 'pra', 'nat', 'agr', 'avon', 'de', 'oportunidade', 'a', 'quem', 'merece', '22'], '1'), (['esse', 'perfume', 'preto', 'da', 'avon', 'e', 'uma', 'delicia', 'eu', 'comprei', 'quando', 'lancou', '22'], '1'), (['jade', 'vai', 'ter', 'um', 'colapso', 'com', 'essa', 'prova', 'da', 'avon\\n22'], '1'), (['amva', 'passar', 'o', 'pulso', 'na', 'fragrancia', 'do', 'perfume', 'da', 'avon', 'seculos', 'q', 'nao', 'faco', 'isso'], '1'), (['avon', 'tem', 'que', 'chamar', 'a', 'natalia', 'pra', 'ser', 'garota', 'propaganda', '', '22'], '0'), (['primeiro', 'grupo', 'da', 'prova', 'do', 'lider', 'avon', '\\n\\n1', 'natalia\\n2', 'vyni\\n3', 'paulo\\n4', 'arthur\\n5', 'lucas\\n6', 'douglas\\n\\n22'], '1'), (['natalia', 'humilde', 'com', 'seu', 'avon', 'enquanto', 'a', 'jade', 'aquela', 'marca', 'la'], '1'), (['levantar', 'a', 'etiqueta', '\\nno', 'meu', 'tempo', 'a', 'gente', 'tinha', 'que', 'esfregar', 'o', 'pulso', 'na', 'revista', 'avon', ''], '0'), (['eu', 'amo', 'revistinha', 'da', 'avon'], '0'), (['acho', 'incrivel', 'como', 'a', 'avon', 'coloca', 'o', 'cheiro', 'do', 'perfume', 'em', 'um', 'pedaco', 'de', 'papel', 'enfim', '', '22'], '0'), (['eu', 'amava', 'sentir', 'cheiro', 'dos', 'perfumes', 'da', 'revista', 'avon', 'da', 'minha', 'vo'], '1'), (['minha', 'mae', 'ja', 'vendeu', 'avon', 'e', 'eu', 'amo', 'esfregar', 'minha', 'mao', 'no', 'livrinho', 'pois', 'tem', 'o', 'cheiro'], '0'), (['e', 'o', 'boninho', 'q', 'aproveitou', 'o', 'hype', 'da', 'jade', 'c', 'a', 'avon', 'aq', 'fora', 'e', 'fez', 'a', 'prova', 'do', 'lider', 'c', 'a', 'gatah', 'o', 'daddy', 'nao', 'perde', 'uma'], '1'), (['que', 'publi', 'horrivel', 'avon', 'pelo', 'amor', 'de', 'deus'], '1'), (['cara', 'eu', 'nem', 'vou', 'comentar', 'o', 'que', 'acho', 'dos', 'perfumes', 'da', 'avon', ''], '0'), (['rt', 'tatinefertari', 'a', 'prova', 'de', 'hoje', 'e', 'com', 'aquela', 'marca', 'la', 'a', 'avon', '\\n\\no', 'deboche', 'do', 'tadeu', 'reizinho', 'melhor', 'apresentador...'], '1'), (['a', 'adm', 'da', 'jade', 'contra', 'a', 'avon', 'e', 'a', 'melhor', 'rivalidade', 'de', 'hoje', 'no', 'jogo', 'a', 'piton', 'nao', 'pode', 'ganhr', '22'], '1'), (['toda', 'vez', 'a', 'mesma', 'duvida', 'como', 'que', 'a', 'avon', 'faz', 'pra', 'colocar', 'perfume', 'na', 'revista'], '1'), (['nao', 'gosto', 'do', 'perfume', 'da', 'avon'], '1'), (['vivendo', 'pra', 'ver', 'a', 'jade', 'esfregar', 'o', 'pulso', 'na', 'revista', 'da', 'avon'], '1'), (['tadeuschmidt', 'vc', 'tem', 'que', 'fazer', 'a', 'jade', 'falar', 'o', 'nome', 'da', 'avon', 'por', 'favor', 'eu', 'imploro'], '1'), (['amei', 'm', 'esse', 'grude', 'de', 'revistinh', 'avon'], '1'), (['quando', 'eu', 'era', 'pequena', 'eu', 'ficava', 'um', 'tempao', 'cheirando', 'as', 'amostras', 'nas', 'revistas', 'da', 'avon'], '1'), (['nossa', 'bad', 'nati', 'ja', 'profissional', 'fazendo', 'a', 'publi', 'da', 'avon'], '1'), (['que', 'horror', 'usar', 'os', 'perfume', 'da', 'avon'], '1'), (['quando', 'crianca', 'amava', 'pegar', 'as', 'revistas', 'da', 'avon', 'pra', 'ficar', 'esfregando', 'o', 'pulso', 'pra', 'sentir', 'as', 'fragrancias', 'achava', 'o', 'maximo', '', '', '22'], '0'), (['rt', 'chicobarney', 'tadeu', 'meteu', 'aquela', 'marca', 'la', 'para', 'se', 'referir', 'a', 'avon', 'no', 'programa', 'da', 'globo', '22'], '1'), (['saudades', 'de', 'quando', 'eu', 'esfregava', 'os', 'meus', 'pulsos', 'nas', 'revistas', 'da', 'avon', '', '22'], '1'), (['nunca', 'entendi', 'como', 'q', 'o', 'cheiro', 'do', 'perfume', 'fica', 'na', 'revista', 'da', 'avon'], '1'), (['so', 'quem', 'passou', 'a', 'infancia', 'se', 'esfregando', 'nas', 'revistas', 'da', 'avon', 'pra', 'ficar', 'com', 'perfume', 'sabe', 'a', 'frustracao', 'quando', 'inventam', 'esse', 'plastico'], '1'), (['quero', 'um', 'avon', 'segno'], '1'), (['eu', 'esfregava', 'as', 'revistinhas', 'da', 'avon', 'no', 'corpo', 'todo', 'ficar', 'com', 'o', 'cheiro'], '1'), (['que', 'loucura', 'senti', 'o', 'cheiro', 'de', 'revista', 'de', 'perfume', 'vendo', 'essa', 'prova', 'da', 'avon', '', 'natalia', 'mexeu', 'la', 'e', 'o', 'cheiro', 'de', 'revista', 'veio', 'no', 'meu', 'nariz'], '1'), (['triste', 'que', 'a', 'avon', 'esta', 'mostrando', 'o', 'attraction', 'pra', 'todo', 'mundo', 'e', 'e', 'meu', 'perfume', 'preferido', '', 'meu', 'cheirinho'], '0'), (['ha', 'anos', 'nao', 'vejo', 'uma', 'revistinha', 'da', 'avon', 'sdds'], '1'), (['esse', 'negocio', 'de', 'cheirar', 'o', 'perfume', 'e', 'um', 'classico', 'da', 'avon', '22'], '1'), (['o', 'perfume', 'da', 'avon', 'no', 'adesivo', ''], '1'), (['avon', 'nunca', 'teve', 'perfume', 'bom', 'sera', 'que', 'mudou'], '1'), (['estranhissimo', 'lembrar', 'que', 'eu', 'levava', 'revista', 'da', 'avon', 'na', 'escola', 'pra', 'vender', 'pra', 'minha', 'mae', 'e', 'os', 'cara', 'tao', 'patrocinando', 'o', ''], '0'), (['nunca', 'entendi', 'a', 'magia', 'do', 'perfume', 'na', 'revista', 'avon', 'mas', 'sempre', 'amei', 'cheirar', 'todos', '22'], '1'), (['avon', 'ja', 'pode', 'contratar', 'a', 'natalia', 'arrasou', 'na', 'propaganda', 'no', 'ao', 'vivo'], '1'), (['conhece', 'avon', 'a', 'vontade', 'que', 'eu', 'to', 'de', 'te', 'bloquear'], '0'), (['sempre', 'tenho', 'impressao', 'de', 'que', 'marketing', 'nao', 'foi', 'feito', 'pra', 'mim\\n\\nse', 'eu', 'vou', 'na', 'avon', 'e', 'o', 'vendedor', 'me', 'fala', 'esse', 'e', 'a', 'sua...', 'httpstcojvzxnnsfmi'], '1'), (['minha', 'infancia', 'foi', 'ficar', 'levantando', 'os', 'plastiquinhos', 'e', 'esfregando', 'o', 'pulso', 'pra', 'sentir', 'cheiro', 'de', 'perfume', 'em', 'revista', 'da', 'avon', ''], '0'), (['avicmonteiro', 'acho', 'q', 'foi', 'o', 'unico', 'perfume', 'da', 'avon', 'e', 'doce', 'q', 'usei', 'na', 'vida'], '0'), (['quem', 'nunca', 'esfregou', 'uma', 'revista', 'avon', 'pra', 'sentir', 'o', 'cheiro', 'do', 'perfume', 'super', 'classico', 'mesmo', '22'], '1'), (['amo', 'levantar', 'esse', 'negocinho', 'na', 'revista', 'da', 'avon', 'amava', 'esfregar', 'o', 'pulso', 'na', 'revista', 'tb', 'quase', 'rasgava'], '0'), (['me', 'sentindo', 'muito', 'blogueira', 'porque', 'a', 'dona', 'avon', 'me', 'mandou', 'esses', 'perfumes', 'todos', 'ano', 'passado', '', 'mo', 'cheirosos', 'amo'], '0'), (['tem', 'que', 'tirar', 'o', 'chapeu', 'pra', 'pessoa', 'que', 'bolou', 'o', 'slogan', 'vem', 'de', 'avon', 'danizudo', 'is', 'proud'], '1'), (['memoria', 'desbloqueada', 'vovo', 'vendia', 'natura', 'e', 'mainha', 'vendia', 'avon', 'ai', 'eu', 'sempre', 'esfregava', 'p', 'pulso', 'nesse', 'negocio', 'p', 'ficar', 'com', 'o', 'cheiro', 'do', 'perfume'], '1'), (['amo', 'esfregar', 'meu', 'pulso', 'na', 'revista', 'da', 'avon', 'pra', 'sentir', 'a', 'fragrancia'], '0'), (['bad', 'naty', 'humilde', 'usando', 'avon', 'httpstcounlcyuzvuf'], '1'), (['sera', 'se', 'esses', 'perfumes', 'da', 'avon', 'sao', 'bons', 'eu', 'lembro', 'que', 'quando', 'criancaminha', 'mae', 'falava', 'que', 'fedia', 'a', 'remedio', '', '22'], '1'), (['melhor', 'perfume', 'da', 'avon', 'disparado'], '1'), (['quem', 'nunca', 'esfregou', 'a', 'revista', 'da', 'avon', 'no', 'corpo', 'nao', 'teve', 'infancia'], '1'), (['natalia', 'deixando', 'a', 'avon', 'feliz', 'fazendo', 'a', 'publi', 'dela'], '1'), (['maior', 'misterio', 'da', 'vida', 'e', 'como', 'colocam', 'o', 'cheiro', 'do', 'perfume', 'na', 'revista', 'da', 'avon'], '1'), (['ai', 'dona', 'avon', 'convida', 'a', 'bannat', 'para', 'ser', 'garota', 'propaganda', '\\nela', 'nao', 'diria', 'aquela', 'marca', 'la', '22'], '1'), (['rt', 'quelquinveiga', 'amei', 'esse', 'plotwist', 'de', 'nao', 'ter', 'veto', 'pra', 'jade', 'e', 'ser', 'prova', 'da', 'avon', '', 'a', 'vinganca', 'e', 'um', 'prato', 'que', 'se', 'come', 'frio'], '0'), (['so', 'pq', 'os', 'adms', 'da', 'jade', 'debocharam', 'da', 'avon', 'hoje', 'a', 'prova', 'e', 'dela', ''], '0'), (['ja', 'quero', 'natalia', 'como', 'capa', 'da', 'avon', '22'], '1'), (['perfume', 'da', 'avon', 'eu', 'nao', 'queria', 'nem', 'de', 'graca', 'deus', 'me', 'livre'], '0'), (['os', '6', 'primeiros', 'douglas', 'arthur', 'paulo', 'lucas', 'natalia', 'e', 'vinicius', 'estao', 'na', 'area', 'de', 'provas\\n\\na', 'prova', 'do', 'lider', 'de', 'hoj...', 'httpstcoxdzjj4mklg'], '1'), (['avon', 'manda', 'um', 'perfume', 'aqui', 'pra', 'minha', 'casa', 'o', 'meu', 'acabou'], '1'), (['que', 'avon', 'o', 'que', 'o', 'negocio', 'e', 'usar', 'kaiak', 'de', 'preferencia', 'kaiak', 'urbe', 'saca', ''], '1'), (['meu', 'deus', 'uma', 'revistinha', 'avon', 'gigante'], '1'), (['quero', 'nat', 'na', 'capa', 'dos', 'catalogos', 'da', 'avon', ''], '0'), (['so', 'lembro', 'da', 'minha', 'avo', 'com', 'a', 'revista', 'da', 'avon', 'e', 'eu', 'esfregando', 'um', 'perfume', 'em', 'cada', 'parte', 'do', 'corpo', 'quando', 'era', 'crianca', '22'], '1'), (['saudosas', 'revistas', 'perfumadas', 'da', 'avon', 'rasguei', 'muitas', '', '22'], '1'), (['bad', 'naty', 'fazendo', 'uma', 'publi', 'da', 'avon', 'e', 'humilhando', 'a', 'picao', 'que', 'usou', 'o', 'celular', 'da', 'casa', 'pra', 'debochar', 'da', 'marca', 'nas', 'redes...', 'httpstcolldt32k'], '1'), (['a', 'prova', 'de', 'esfregar', 'o', 'pulso', 'na', 'revista', 'avon', 'pra', 'sentir', 'o', 'cheiro', 'do', 'perfume', 'nao', 'prestei', 'atencao', 'na', 'explicacao', '22'], '1'), (['avon', 'pediu', 'pra', 'naty', 'fazer', 'merchan', 'foi', 'isso', '', 'top', '', '22'], '1'), (['perfumes', 'da', 'avonnatura', 'dao', 'dor', 'de', 'cabeca', 'pra', 'caralh'], '1'), (['melhor', 'ficar', 'sem', 'a', 'lideranca', 'q', 'usar', 'perfume', 'da', 'avon'], '1'), (['muito', 'orgulho', 'de', 'ser', 'representada', 'no', '', 'sim', 'amigos', 'sou', 'revendedora', 'avon'], '0'), (['quem', 'n', 'amava', 'esfregar', 'o', 'pulso', 'na', 'avon', 'e', 'sentir', 'o', 'cheirinho', 'ne'], '1'), (['badnat', 'garota', 'propaganda', 'avon', '22'], '1'), (['faz', 'a', 'publi', 'gente', '\\n\\ntadeu', 'falou', 'se', 'alguem', 'quiser', 'experimentar', 'o', 'perfume', 'da', 'avon', '\\n\\nninguem', 'se', 'mexeu', 't...', 'httpstcohpgo7ybxgo'], '1'), (['ai', 'eu', 'amava', 'ficar', 'esfregando', 'meu', 'pulso', 'nas', 'revistinhas', 'da', 'avon'], '1'), (['a', 'jade', 'nao', 'ia', 'saber', 'o', 'que', 'fazer', 'pra', 'sentir', 'o', 'cheiro', 'nunca', 'viu', 'uma', 'revista', 'avon', '22'], '0'), (['ja', 'esfreguei', 'muito', 'meu', 'braco', 'na', 'revista', 'avon', 'de', 'dona', 'cleide', 'la', 'em', 'sta', 'filomena'], '1'), (['e', 'a', 'pergunta', 'que', 'fica', 'e', 'como', 'a', 'avon', 'bota', 'o', 'cheiro', 'do', 'bglh', 'na', 'revista'], '1'), (['igual', 'na', 'revista', 'avon', 'classic', 'diz', 'tadeu', 'fingindo', 'q', 'algum', 'dia', 'esfregou', 'o', 'punho', 'em', 'revista'], '1'), (['classico', 'da', 'revista', 'avon', 'mesmo'], '1'), (['mds', 'minha', 'infancia', 'todinha', 'foi', 'me', 'drogando', 'com', 'cheiros', 'da', 'revista', 'avon', 'que', 'minha', 'madrinha', 'vendia'], '1'), (['aquela', 'marca', 'la', 'e', 'a', 'patrocinadora', 'da', 'prova', 'de', 'hoje', '22', 'rede', 'provadolider', 'avon'], '1'), (['o', 'tadeu', 'falando', 'pra', 'quem', 'quiser', 'ir', 'cheirar', 'o', 'perfume', 'da', 'avon', 'era', 'so', 'ir', 'la', 'atras', 'e', 'ninguem', 'foi', 'httpstcoxcehaqw9jf'], '0'), (['saudades', 'esfregar', 'meu', 'pulso', 'na', 'revista', 'avon', '22'], '1'), (['a', 'publi', 'da', 'nath', 'avon', 'contrata', 'ela', 'pra', 'ser', 'garota', 'propaganda', 'por', 'favor'], '1'), (['naty', 'fazendo', 'uma', 'publi', 'pra', 'avon', '22'], '1'), (['avon', 'catar', 'coquinho', 'que', 'e', 'outra', 'prova', 'igual', 'a', 'anterior'], '1'), (['se', 'um', 'dia', 'eu', 'for', 'pro', '', 'quero', 'ganhar', 'mtos', 'perfumes', 'avon'], '0'), (['natalia', 'it', 'girl', 'da', 'avon\\njade', 'aquela', 'girl', 'la', '', 'httpstco5wq1rn085l'], '1'), (['rt', 'pocah', 'claro', 'que', 'eu', 'tambem', 'faco', 'parte', 'dessa', 'torcida', 'perfumada', 'da', 'avonbr', 'e', 'ja', 'to', 'aqui', 'de', 'olho', 'nessa', 'prova', '\\nquem', 'voces', 'acham', 'que', 'leva', 'a...'], '1'), (['esse', 'adesivo', 'de', 'sentir', 'cheiro', 'da', 'avon', 'e', 'o', 'primeiro', 'entorpecente', 'da', 'crianca'], '1'), (['publicidade', 'e', 'um', 'negocio', 'serio', 'to', 'sentindo', 'o', 'cheiro', 'da', 'avon', 'aq', '', '22'], '0'), (['saudade', 'de', 'esfregar', 'meu', 'pulso', 'nos', 'perfumes', 'nas', 'revistas', 'da', 'avon'], '1'), (['bchartsnet', 'prova', 'da', 'avon', '1', 'dia', 'apos', 'o', 'afronte', 'do', 'adm', 'da', 'patricinha', 'httpstco0qgm3tv1oi'], '1'), (['', 'prova', 'do', 'lider', 'da', 'avon\\n\\n1', 'natalia\\n2', 'vyni\\n3', 'paulo', 'andre\\n4', 'arthur\\n5', 'lucas\\n6', 'douglas\\n7', 'lina\\n8', 'barbara\\n9', 'lai...', 'httpstcodnosbnljxg'], '1'), (['a', 'prova', 'e', 'da', 'avon', 'e', 'a', 'jade', 'nao', 'pode', 'vetar', 'ninguem', ''], '1'), (['saudade', 'de', 'folhear', 'uma', 'revistinha', 'da', 'avon', 'e', 'da', 'natura', ''], '1'), (['que', 'fofo', 'um', 'revistao', 'da', 'avon', 'nostalgia', '22'], '1'), (['a', 'pobi', 'da', 'jade', 'nao', 'sabe', 'o', 'que', 'e', 'esfregar', 'o', 'pulso', 'numa', 'revistinha', 'da', 'avon', 'pra', 'sentir', 'o', 'cheiro'], '1'), (['rt', 'laurabaptista', 'avon', 'ja', 'pode', 'contratar', 'a', 'natalia', 'arrasou', 'na', 'propaganda', 'no', 'ao', 'vivo'], '1'), (['28', 'anos', 'e', 'nao', 'sei', 'como', 'a', 'avon', 'coloca', 'o', 'perfume', 'na', 'revista', '', '22'], '0'), (['crianca', 'eu', 'esfregava', 'era', 'o', 'pulso', 'pra', 'sentir', 'o', 'cheiro', 'na', 'amostra', 'da', 'avon', ''], '1'), (['esse', 'bglh', 'da', 'avon', 'ta', 'parecendo', 'o', 'palco', 'do', 'silvio', 'santos', 'mane', 'i'], '1'), (['no', 'auge', 'dos', 'meus', '23', 'anos', 'eu', 'ainda', 'nao', 'sei', 'como', 'a', 'avon', 'botava', 'perfume', 'nas', 'revistas', ''], '0'), (['opensource', 'architect', 'missouri', 'clearthinking', 'avon', 'buckinghamshire', 'lira', 'automated', 'account', 'berkshire', 'cook', 'fantastic'], '1'), (['desbloqueou', 'uma', 'memoria', 'de', 'infancia', 'que', 'era', 'eu', 'pegando', 'a', 'revistinha', 'da', 'avon', 'e', 'cacando', 'todos', 'os', 'adesivos', 'perfumados', 'pra', 'cheirar', 'loucamente'], '1'), (['gente', 'e', 'a', 'natalia', 'cheirando', 'essa', 'revistona', 'da', 'avon', '', '', '22'], '0'), (['jade', 'com', 'certeza', 'nao', 'tem', 'essa', 'referencia', 'de', 'esfregar', 'o', 'pulso', 'na', 'revista', 'avon', '22'], '1'), (['program', 'optical', 'ssl', 'copying', 'tan', 'berkshire', 'views', 'integrate', 'small', 'avon', 'pants', 'sdr'], '1'), (['pizza', 'books', 'human', 'cyan', 'station', 'avon', 'matrix', 'channels', 'users', 'solutions', 'myanmar', 'circuit'], '1'), (['cade', 'a', 'galera', 'falando', 'que', 'hoje', 'a', 'prova', 'do', 'lider', 'e', 'da', 'avon', 'so', 'por', 'causa', 'daquela', 'menina', 'la', '22', '2022'], '1'), (['so', 'eu', 'sei', 'o', 'tanto', 'que', 'eu', 'passava', 'os', 'pulso', 'em', 'revista', 'da', 'avon', 'quando', 'era', 'crianca', 'tinha', 'uns', 'que', 'o', 'cheiro', 'tava', 'so', 'da...', 'httpstcomonnjcmiur'], '0'), (['ate', 'hoje', 'eu', 'nao', 'sei', 'como', 'a', 'avon', 'bota', 'o', 'cheiro', 'na', 'revista', 'rsrs'], '0'), (['esses', 'perfumes', 'da', 'avon', 'tem', 'nem', 'como', 'defender'], '1'), (['isisrrv1', 'bchartsnet', 'a', 'natura', 'e', 'dona', 'da', 'avon', 'mo'], '1'), (['rt', 'babi', 'so', 'lembro', 'da', 'minha', 'avo', 'com', 'a', 'revista', 'da', 'avon', 'e', 'eu', 'esfregando', 'um', 'perfume', 'em', 'cada', 'parte', 'do', 'corpo', 'quando', 'era', 'crianca', '22'], '1'), (['e', 'o', 'que', 'eu', 'to', 'usando', '', 'muito', 'bom', 'avon', 'patrocina', 'el'], '0'), (['meu', 'deus', 'avon', 'reseta', 'essa', 'prova'], '1'), (['rt', 'chicobarney', 'tadeu', 'meteu', 'aquela', 'marca', 'la', 'para', 'se', 'referir', 'a', 'avon', 'no', 'programa', 'da', 'globo', '22'], '1'), (['sempre', 'achei', 'fascinante', 'essa', 'tecnologia', 'da', 'avon', 'que', 'vc', 'esfrega', 'o', 'braco', 'na', 'revista', 'e', 'fica', 'cheiroso'], '1'), (['quando', 'eu', 'era', 'crianca', 'amava', 'esfregar', 'o', 'pulso', 'na', 'revista', 'da', 'avon', 'pra', 'sentir', 'o', 'cheiro', 'dos', 'perfumes', 'hahahaha'], '1'), (['ergonomic', 'platforms', 'accounts', 'revolutionary', 'internal', 'assistant', 'soap', 'metical', 'avon', 'refined', 'generic', 'function'], '1'), (['nossa', 'saudades', 'pegar', 'as', 'revistinhas', 'da', 'minha', 'manicure', 'ficar', 'folheando', 'toda', 'e', 'no', 'final', 'comprar', 'so', 'tuppweare', 'da', 'dis...', 'httpstcoygncq33wiv'], '1'), (['essa', 'parada', 'da', 'avon', 'e', 'ate', 'hoje', 'eu', 'me', 'questiono', 'como', 'pode', 'uma', 'revista', 'ter', 'cheiro'], '1'), (['essa', 'prova', 'ai', 'foi', 'a', 'avon', 'copiando', 'sem', 'fazer', 'igual', 'a', 'prova', 'da', 'americanas', 'da', 'semana', 'passada', 'ne'], '1'), (['avon', 'colocando', 'a', 'amostra', 'da', 'revista', 'no', '22'], '1'), (['tava', 'pensando', 'com', 'essa', 'prova', 'da', 'avon', 'como', 'que', 'aquelas', 'revista', 'da', 'natura', 'a', 'gente', 'esfregava', 'o', 'dedo', 'e', 'tinha', 'o', 'cheiro...', 'httpstcolk5sghibt8'], '0'), (['como', 'pode', 'um', 'papel', 'tao', 'fino', 'conter', 'um', 'cheiro', 'tao', 'bom\\n\\navon', 'desafiando', 'as', 'leis', 'da', 'fisica', 'desde', 'que', 'me', 'entendo', 'por', 'gnt\\n\\n22'], '1'), (['quando', 'eu', 'era', 'pequena', 'eu', 'me', 'esfregava', 'toda', 'na', 'revista', 'daquela', 'marca', 'la', 'para', 'ficar', 'cheirosinha', 'achava', 'uma', 'magica', 'com...', 'httpstcoc1o6x9vgkz'], '1'), (['tinha', 'que', 'ser', 'avon', 'msm', 'pra', 'uma', 'prova', 'tosca', 'dessas', 'plmds\\n22'], '1'), (['prova', 'de', 'perfume', 'da', 'avon'], '1'), (['tive', 'intoxicacao', 'de', 'tanto', 'cheirar', 'revista', 'avon'], '0'), (['isso', 'nat', 'sai', 'dai', 'embaixadora', 'da', 'avon', ''], '1'), (['tinha', 'que', 'esfregar', 'o', 'pulso', 'natalia', 'isso', 'e', 'basico', 'de', 'quem', 'usa', 'avon', '22'], '1'), (['managed', 'implement', 'trail', 'market', 'generate', 'borders', 'small', 'handcrafted', 'solutions', 'chips', 'invoice', 'avon'], '1'), (['tadeu', 'eu', 'te', 'imploro', 'peca', 'a', 'jade', 'para', 'cheirar', 'a', 'revista', 'da', 'avon'], '1'), (['lembrando', 'de', 'qdo', 'eu', 'era', 'crianca', 'e', 'era', 'viciado', 'em', 'cheirar', 'catalogo', 'da', 'avon', ''], '1'), (['voces', 'tambem', 'esfregavam', 'o', 'pulso', 'em', 'toda', 'a', 'revista', 'da', 'avon'], '1'), (['a', 'globo', 'tendo', 'q', 'fazer', 'um', 'merchanzao', 'da', 'avon', 'por', 'causa', 'de', 'quem', 'tem', 'a', 'senha', 'do', 'perfil', 'da', 'jade'], '1'), (['andson020', 'e', 'bem', 'parecida', 'com', 'a', 'da', 'americanasso', 'que', 'e', 'da', 'avon', 'agora', 'eles', 'tem', 'que', 'adivinhar', 'o', 'nome', 'das', 'palavras', 'qu...', 'httpstcoiulrv31aqe'], '1'), (['meu', 'deus', '', 'eu', 'amava', 'as', 'revistas', 'da', 'avon', 'que', 'esfregava', 'o', 'pulso', 'pra', 'sentir', 'o', 'cheiro', 'dos', 'perfumes', '22'], '0'), (['memoria', 'desbloqueada', 'com', 'sucesso', 'com', 'esse', 'plastiquinho', 'pra', 'cheirar', 'perfume', 'da', 'revista', 'da', 'avon'], '1'), (['navigating', 'programmable', 'walk', 'system', 'qatari', 'phased', 'helena', 'avon', 'agp', 'kentucky', 'background', 'shoes'], '1'), (['memoria', 'infantil', 'desbloqueada', 'minha', 'avo', 'vendia', 'avon', 'e', 'sempre', 'que', 'pegava', 'a', 'revista', 'pra', 'olhar', 'eu', 'passava', 'o', 'pulso', 'na...', 'httpstcocbzzxnvdu7'], '1'), (['jade', 'ta', 'vendo', 'a', 'avon', 'ai\\nto\\nseus', 'adms', 'nao\\n22'], '1'), (['os', 'produtos', 'da', 'avon', 'sao', 'tudo', 'em', 'ingles', 'agora', 'ne'], '1'), (['rt', 'tatinefertari', 'a', 'prova', 'de', 'hoje', 'e', 'com', 'aquela', 'marca', 'la', 'a', 'avon', '\\n\\no', 'deboche', 'do', 'tadeu', 'reizinho', 'melhor', 'apresentador...'], '1'), (['22', 'o', 'deboche', 'do', 'tadeu', 'aquela', 'marca', 'la', '', 'junto', 'com', 'avon', 'para', 'os', 'adms', 'da', 'jade', 'podiam', 'ter', 'ficado', 'sem', 'mais', 'essa', ''], '0'), (['rt', 'vitoriabottelho', 'esses', 'perfumes', 'da', 'avon', 'tem', 'nem', 'como', 'defender'], '1'), (['json', 'intelligent', 'navigate', 'overriding', 'strategize', 'incentivize', 'state', 'bandwidth', 'implementation', 'handcrafted', 'avon', 'tan'], '1'), (['rt', 'flps77', 'isisrrv1', 'bchartsnet', 'a', 'natura', 'e', 'dona', 'da', 'avon', 'mo'], '1'), (['eu', 'tinha', 'uma', 'colega', 'que', 'vendia', 'avon', 'e', 'uma', 'vez', 'ela', 'me', 'xingou', 'pq', 'eu', 'levantei', 'o', 'coisinha', 'pra', 'cheirar', 'o', 'perfume', 'mandei...', 'httpstcoix3iea9urq'], '1'), (['rt', 'chicobarney', 'tadeu', 'meteu', 'aquela', 'marca', 'la', 'para', 'se', 'referir', 'a', 'avon', 'no', 'programa', 'da', 'globo', '22'], '1'), (['esse', 'povo', 'deve', 'ta', 'fedendo', 'demais', 'pra', 'ter', 'uma', 'prova', 'da', 'avon'], '0'), (['sera', 'que', 'a', 'jade', 'ja', 'cheirou', 'a', 'revistinha', 'avon', '\\n22'], '1'), (['eu', 'amva', 'esfregar', 'o', 'pulso', 'nos', 'perfuminho', 'que', 'tinha', 'nas', 'paginas', 'da', 'revistinha', 'da', 'avon'], '1'), (['se', 'a', 'avon', 'nao', 'contratar', 'a', 'naty', 'como', 'embaixadora', 'depois', 'do', '', '', 'vai', 'ter', 'boicote', '\\n22'], '0'), (['rt', 'babi', 'so', 'lembro', 'da', 'minha', 'avo', 'com', 'a', 'revista', 'da', 'avon', 'e', 'eu', 'esfregando', 'um', 'perfume', 'em', 'cada', 'parte', 'do', 'corpo', 'quando', 'era', 'crianca', '22'], '1'), (['prova', 'igual', 'da', 'semana', 'passada', 'porem', 'da', 'avon', '', 'cada', 'ano', 'pior', 'de', 'prova'], '0'), (['toda', 'vez', 'que', 'vejo', 'esse', 'perfume', 'far', 'away', 'da', 'avon', 'me', 'da', 'arrepio\\npode', 'nao', 'ser', 'o', 'mesmo', 'de', 'qnd', 'era', 'crianca', 'mas', 'nunca', 'vou...', 'httpstcogv9izneynu'], '1'), (['rt', 'tracklist', 'tadeu', 'falando', 'aquela', 'marca', 'la', 'para', 'falar', 'da', 'avon', '', '22', 'httpstco3tiusg4win'], '1'), (['que', 'saudade', 'de', 'cheirar', 'um', 'perfume', 'na', 'revistinha', 'da', 'avon'], '1'), (['rt', 'sonsaabrao', 'saudades', 'esfregar', 'meu', 'pulso', 'na', 'revista', 'avon', '22'], '1'), (['nenhum', 'camarote', 'merece', 'ganhar', 'essa', 'prova', 'pq', 'eu', 'duvido', 'que', 'algum', 'deles', 'ja', 'tenha', 'esfregado', 'o', 'pulso', 'em', 'revistinha', 'da', 'a...', 'httpstcodlkxwo1aaw'], '1'), (['', 'uma', 'revista', 'gigante', 'da', 'avon', 'com', 'aquele', 'plastico', 'que', 'vem', 'o', 'cheiro', 'do', 'perfume', 'sensacional\\n\\n22', 'rede', 'httpstcoedja3lpne5'], '1'), (['que', 'nostalgia', 'levantar', 'as', 'tampinhas', 'e', 'esfregar', 'a', 'revista', 'da', 'avon', 'no', 'corpo', 'todo', 'pra', 'aproveitar', 'o', 'perfume', '', '22'], '0'), (['sdds', 'de', 'esfregar', 'o', 'braco', 'nas', 'revistas', 'da', 'avon', 'tds', 'as', 'revendedoras', 'q', 'eu', 'conheco', 'deixou', 'de', 'ser\\n22'], '1'), (['inclusive', 'minha', 'mae', 'vende', 'avon', 'podem', 'comprar', ''], '0'), (['bateu', 'uma', 'vontade', 'de', 'folhar', 'uma', 'revistinha', 'da', 'avon'], '1'), (['quando', 'eu', 'era', 'crianca', 'pegava', 'todas', 'as', 'revistas', 'de', 'avonnatura', 'e', 'procurava', 'onde', 'tinha', 'o', 'perfume', 'p', 'cheirar', 'ou', 'passar', 'o', 'pulso', ''], '1'), (['classico', 'avon', 'e', 'esfregar', 'o', 'pulso', 'na', 'revistinha', '22'], '1'), (['imagina', 'a', 'jade', 'indo', 'cheirar', 'perfume', 'na', 'revista', 'da', 'avon'], '1'), (['ja', 'tive', 'esse', 'perfume', 'da', 'avon', 'e', 'nao', 'e', 'bom', 'nao', '22', '2022'], '1'), (['o', 'povo', 'quer', 'concentrar', 'na', 'prova', 'e', 'nao', 'ficar', 'sentindo', 'fragrancia', 'de', 'perfume', '', 'a', 'avon', 'vai', 'perdoar', 'eles', '22'], '1'), (['avon', 'monitor', 'maryland', 'crossmedia', 'lavender', 'gabon', 'clothing', 'gloves', 'sausages', 'executive', 'franc', 'shoes'], '1'), (['perfumes', 'da', 'avon', 'sao', 'pavorosos', 'prefiro', 'boticario'], '1'), (['so', 'quem', 'teve', 'mae', 'vendedora', 'avon', 'vai', 'lembrar', 'desse', 'daqui\\n\\navontaon', 'avon', 'avon', 'httpstcozantehgs5p'], '1'), (['nossa', 'esse', 'dia', 'foi', 'tenso', 'gritei', 'muito', 'com', 'a', 'vitoria', 'dele', 'nossa', 'ta', 'passando', 'um', 'filme', 'na', 'minha', 'cabeca', 'com', 'essa', 'prov...', 'httpstcoma8lkzs60c'], '1'), (['rt', 'tracklist', 'tadeu', 'falando', 'aquela', 'marca', 'la', 'para', 'falar', 'da', 'avon', '', '22', 'httpstco3tiusg4win'], '1'), (['jade', 'patrocinando', 'a', 'provadolider', 'com', 'suas', 'muambas', 'da', 'avon\\nrede', '22', 'httpstcogrm2zulo2u'], '1'), (['avon', 'com', 'essas', 'petalas', 'ta', 'parecendo', 'amaciante', 'doni', '22'], '1'), (['amei', 'esse', 'toque', 'de', 'nostalgia', 'da', 'revista', 'avon', '', 'quantos', 'brasileiros', 'nao', 'tem', 'a', 'memoria', 'de', 'levantar', 'o', 'adesivo', 'pra', 'sent...', 'httpstco0ge7gt7liq'], '0'), (['eu', 'num', '', 'iam', 'ter', 'que', 'mudar', 'minha', 'camera', 'muitas', 'vezes', 'por', 'dia', 'ia', 'so', 'dar', 'eu', 'falando', 'mal', 'de', 'patrocinador', 'nossa', 'to', 'co...', 'httpstcocokupzxgex'], '0'), (['rt', 'dudu', 'so', 'eu', 'sei', 'o', 'tanto', 'que', 'eu', 'passava', 'os', 'pulso', 'em', 'revista', 'da', 'avon', 'quando', 'era', 'crianca', 'tinha', 'uns', 'que', 'o', 'cheiro', 'tava', 'so', 'da', 'seringueira', 'e...'], '0'), (['adoro', 'esse', 'far', 'away', 'da', 'avon', 'uma', 'delicinha'], '1'), (['a', 'comunicacao', 'da', 'avon', 'e', 'mt', 'feia'], '0'), (['esfregar', 'a', 'mao', 'na', 'revista', 'da', 'avon', 'para', 'sentir', 'o', 'cheiro', 'dos', 'perfumes', 'e', 'tao', 'minha', 'infancia', 'me', 'lembra', 'a', 'vizinha', 'da', 'mi...', 'httpstcouvbcd861ra'], '0'), (['a', 'gente', 'falando', 'mal', 'dos', 'perfumes', 'da', 'avon', 'baseado', 'nos', 'perfumes', 'de', '10', 'anos', 'atras', 'ai', 'e', 'foda', '22\\n\\nhttpstcoq8pgzhcojr'], '0'), (['rt', 'pocah', 'claro', 'que', 'eu', 'tambem', 'faco', 'parte', 'dessa', 'torcida', 'perfumada', 'da', 'avonbr', 'e', 'ja', 'to', 'aqui', 'de', 'olho', 'nessa', 'prova', '\\nquem', 'voces', 'acham', 'que', 'leva', 'a...'], '1'), (['rt', 'tracklist', 'tadeu', 'falando', 'aquela', 'marca', 'la', 'para', 'falar', 'da', 'avon', '', '22', 'httpstco3tiusg4win'], '1'), (['coe', 'mito', 'bom', 'pegar', 'revista', 'da', 'avon', 'e', 'subir', 'o', 'plastico', 'pra', 'sentir', 'o', 'cheiro', 'ta', 'maluco'], '1'), (['a', 'avon', 'ja', 'deve', 'estar', 'com', 'o', 'contrato', 'da', 'nat', 'pronto', 'pra', 'quando', 'ela', 'sair', 'da', 'casa', 'ne', 'ela', 'e', 'muito', 'a', 'garota', 'propaganda', 'perfeita'], '1'), (['esse', 'perfume', 'far', 'away', 'da', 'avon', 'e', 'uma', 'delicinha', 'mas', 'ele', 'e', 'doce', 'e', 'depois', 'de', 'um', 'tempo', 'enjoa', 'nao', 'consigo', 'nem', 'sentir', 'o', 'cheiro', 'mais'], '1'), (['se', 'e', 'um', 'pobre', 'mesmo', 'nessa', 'prova', 'ai', 'teria', 'esfregado', 'o', 'pulso', 'na', 'revista', 'gigante', 'pra', 'sentir', 'o', 'cheiro', 'do', 'perfume', 'da', 'avon', '22'], '1'), (['eu', 'fazia', 'assim', 'mesmo', 'na', 'revista', 'da', 'avon'], '1'), (['quem', 'nunca', 'esfregou', 'o', 'pulso', 'na', 'revistinha', 'da', 'avon', '22'], '1'), (['sente', 'o', 'xeru', 'da', 'avon'], '1'), (['petermr', 'acho', 'q', 'os', 'adms', 'dela', 'nao', 'fariam', 'isso', 'se', 'nao', 'fosse', 'de', 'acordo', 'cm', 'a', 'avon'], '0'), (['rt', 'tracklist', 'tadeu', 'falando', 'aquela', 'marca', 'la', 'para', 'falar', 'da', 'avon', '', '22', 'httpstco3tiusg4win'], '1'), (['i', 'just', 'listed', 'avon', 'care', 'set', 'of', '2', 'rich', 'moisture', 'comforting', 'nourishing', 'cream', '50', 'fl', 'oz', '3874', 'for', '3490', 'via...', 'httpstco68ukovrvik'], '1'), (['rt', 'vallreal', 'esses', 'adms', 'da', 'jade', 'piton', 'sao', 'horriveis', 'nunca', 'vi', 'uma', 'equipe', 'de', 'um', '', 'tao', 'ruim', 'como', 'essa', 'estao', 'afundando', 'a', 'propria', 'participa...'], '0'), (['rede\\n\\n22', 'um', 'oferecimento\\n\\n', '', '', '', '', '', '', '', '', '', '', '', '', '', '', '', '', '', '', '', '', '', '', '', '', '', '', '', '', '', '', '', '', '', '', '', '', '', '', '', '', '', '', '', '', '', '', 'avonpantene', 'httpstcohfzvurmpgv'], '1'), (['a', 'jade', 'nunca', 'esfregou', 'o', 'pulso', 'numa', 'revistinha', 'avon', '\\n\\n22', 'rede'], '1'), (['rt', 'lpdoug', 'saudades', 'esfregar', 'o', 'pulso', 'na', 'revista', 'da', 'avon', '22'], '1'), (['rt', 'jessica51132901', 'o', 'avonbr', 'voces', 'estao', '', 'perdendo', '\\n', 'webtvbrasileira', 'e', 'os', 'webtvzeiros', 'tudo', 'avon', '22', 'httpstcopdwbaonpqd'], '1'), (['rt', 'chicobarney', 'tadeu', 'meteu', 'aquela', 'marca', 'la', 'para', 'se', 'referir', 'a', 'avon', 'no', 'programa', 'da', 'globo', '22'], '1'), (['os', '6', 'primeiros', 'dg', 'arthur', 'paulo', 'lucas', 'natalia', 'e', 'vinicius', 'estao', 'na', 'area', 'de', 'provas\\n\\na', 'prova', 'do', 'lider', 'de', 'hoje', 'e', 'p...', 'httpstco80snxato4k'], '1'), (['gente', 'avon', 'ao', 'contrario', 'eh', 'nova', 'vcs', 'ja', 'tinha', 'se', 'ligado'], '0'), (['a', 'jade', 'fazendo', 'a', 'prova', 'da', 'avon', 'sera', 'que', 'algum', 'dia', 'ela', 'ja', 'borrifou', 'um', 'nela', 'httpstco8535ebsnxl'], '1'), (['hoje', 'na', 'aula', 'de', 'tributario', 'aprendi', 'que', 'revestinha', 'que', 'tem', 'como', 'objetivo', 'venda', 'avon', 'natura', 'nao', 'tem', 'imunidade', 'tributaria', ''], '0'), (['rt', 'ticorilo', 'prova', 'da', 'avon', 'me', 'lembrando', 'ela', 'tendo', 'pane', 'no', 'cabecao', '', 'httpstcoaeb8lb1s37'], '1'), (['alestreetera', 'eii\\n\\nele', 'e', 'tudo\\n\\nhttpstcoegkaqnmb5k', '\\n\\n', 'cupom', 'bv15conecta', 'para', 'ganhar', '15', 'de', 'desconto', 'na', 'sua', '1a', 'compra'], '1'), (['na', 'infancia', 'eu', 'amava', 'ficar', 'cheirando', 'os', 'perfumes', 'na', 'revista', 'da', 'avon', 'que', 'nostalgia', 'isso', '22'], '1'), (['2022', 'e', 'eu', 'ainda', 'nao', 'sei', 'como', 'a', 'avon', 'coloca', 'o', 'cheiro', 'nas', 'revistas'], '0'), (['por', 'favor', 'tadeu', 'schmidt', 'faz', 'a', 'jade', 'picon', 'ir', 'la', 'cheirar', 'o', 'perfume', 'da', 'avon', 'levantando', 'o', 'plastiquinho', 'igual', 'da', 'revista', 'por', 'favor'], '1'), (['bad', 'naty', 'embaixadora', 'da', 'avon'], '1'), (['criancas', 'que', 'eram', 'viciadas', 'em', 'cheirar', 'perfume', 'na', 'revista', 'do', 'avon', '1', 'membro'], '1'), (['prova', 'do', 'lider', 'avon', 'quem', 'esfrega', 'pulso', 'em', 'mais', 'perfumes', 'das', 'revistinhas', 'da', 'avon', 'em', 'menos', 'tempo', '22'], '1'), (['rt', 'jonathanwsg', 'o', 'tiago', 'abravanel', 'quando', 'sair', 'da', 'casa', 'apos', 'usar', 'avon', 'em', 'vez', 'de', 'jequiti', '\\n\\n22', 'provadolider', 'rede', 'httpstcoeff...'], '1'), (['quem', 'nunca', 'esfregou', 'o', 'pulso', 'na', 'revista', 'da', 'avon', 'ne', 'gente'], '0'), (['sera', 'que', 'hj', 'a', 'avon', 'vai', 'explicar', 'como', 'eles', 'poe', 'o', 'cheirinho', 'dos', 'perfumes', 'nas', 'revistas', '22'], '1'), (['rt', 'oxelarissaa', 'quem', 'nunca', 'esfregou', 'o', 'pulso', 'numa', 'revista', 'da', 'avon', 'e', 'maluco', '22', 'httpstcoqbvu3behrx'], '1'), (['ta', 'faltando', 'criatividade', 'pro', '22', 'a', 'prova', 'da', 'avon', 'e', 'a', 'mesma', 'coisa', 'da', 'semana', 'passada', 'depois', 'nao', 'reclamem', 'da', 'audiencia', 'e', 'nem', 'do', 'flop'], '1'), (['rt', 'kakabairros', 'toda', 'vez', 'a', 'mesma', 'duvida', 'como', 'que', 'a', 'avon', 'faz', 'pra', 'colocar', 'perfume', 'na', 'revista'], '1'), (['adoro', 'os', 'eau', 'de', 'parfum', 'da', 'avon', '\\n', 'rede'], '1'), (['rt', 'babi', 'so', 'lembro', 'da', 'minha', 'avo', 'com', 'a', 'revista', 'da', 'avon', 'e', 'eu', 'esfregando', 'um', 'perfume', 'em', 'cada', 'parte', 'do', 'corpo', 'quando', 'era', 'crianca', '22'], '1'), (['rt', 'lorenagolucci', 'tadeu', 'e', 'com', 'aquela', 'marca', 'la', 'a', 'avon', 'o', 'protagonismo', 'da', 'gat'], '1'), (['eles', 'cagando', 'pro', 'perfume', 'da', 'avon', 'e', 'o', 'tadeu', 'tendo', 'que', 'forcar', 'muito', 'a', 'propaganda'], '1'), (['gente', 'merchan', 'funciona', 'ne', 'to', 'aqui', 'e', 'veio', 'a', 'vontade', 'de', 'comprar', 'perfume', 'da', 'avon'], '0'), (['esfreguei', 'tanto', 'o', 'pulso', 'na', 'revistinha', 'da', 'avon', 'rs'], '0'), (['rt', 'vinecedro', 'jade', 'vai', 'ter', 'um', 'colapso', 'com', 'essa', 'prova', 'da', 'avon\\n22'], '1'), (['precognitiva', 'e', 'ruim', 'que', 'a', 'avon', 'quer', 'a', 'jade', 'ganhando', 'depois', 'dela', 'desdenhar', 'da', 'marca'], '1'), (['mount', 'state', 'granite', 'pizza', 'sausages', 'mesh', 'yellow', 'parsing', 'car', 'agp', 'avon', 'panel'], '1'), (['a', 'americanas', 'agora', 'percebendo', 'que', 'a', 'avon', 'copiou', 'a', 'prova', 'dela'], '1'), (['gente', 'dica', 'sobre', 'essas', 'abinhas', 'pra', 'vc', 'sentir', 'o', 'cheiro', 'nas', 'revistas', 'avon', 'nao', 'apenas', 'levante', 'e', 'sinta', 'o', 'cheiro', 'passe...', 'httpstcoikaw9ijhfu'], '1'), (['reconstituiram', 'um', 'classico', 'brasileiro', 'na', 'parede', 'do', '', 'o', 'perfume', 'na', 'revista', 'do', 'avon', '22'], '1'), (['a', 'prova', 'da', 'avon', 'e', 'que', 'nem', 'o', 'nome', 'dos', 'perfumes', 'deles', 'ninguem', 'entende', 'nada'], '1'), (['rt', 'tracklist', 'tadeu', 'falando', 'aquela', 'marca', 'la', 'para', 'falar', 'da', 'avon', '', '22', 'httpstco3tiusg4win'], '1'), (['as', 'revistas', 'da', 'avon', 'terem', 'o', 'cheiro', 'dos', 'perfumes', 'e', 'uma', 'tecnologia', 'que', 'nao', 'entra', 'na', 'minha', 'cabeca'], '1'), (['avonbr', 'minhas', 'filhas', 'fazem', 'igual', 'n', 'dou', 'conta', 'de', 'comprar', 'delineador', 'avon', 'do', 'tanto', 'q', 'elas', 'se', 'tatuam'], '0'), (['as', 'embalagens', 'da', 'avon', 'completamente', 'copiadas', 'de', 'outros', 'perfumes', ''], '1'), (['quem', 'e', 'que', 'usa', 'perfume', 'da', 'avon', 'gente', 'e', 'natura', 'ou', 'boticario'], '1'), (['quem', 'ja', 'esfregou', 'o', 'pulso', 'na', 'revista', 'do', 'avon', 'mao', '', 'avon', 'provadolider'], '1'), (['rt', 'babi', 'so', 'lembro', 'da', 'minha', 'avo', 'com', 'a', 'revista', 'da', 'avon', 'e', 'eu', 'esfregando', 'um', 'perfume', 'em', 'cada', 'parte', 'do', 'corpo', 'quando', 'era', 'crianca', '22'], '1'), (['eu', 'tentando', 'entender', 'essa', 'prova', 'da', 'avon', 'provadolider', '22', 'httpstcolkzkyg3'], '1'), (['ibaffabia', 'itspedrito', 'porque', 'o', 'adm', 'da', 'jade', 'nao', 'quis', 'falar', 'o', 'nome', 'da', 'marca', 'do', 'batom', 'que', 'ela', 'tava', 'usando', 'que', 'era', 'av...', 'httpstcos8uw3vwu0u'], '0'), (['i', 'just', 'listed', 'avon', 'advance', 'techniques', '360', 'nourish', 'moroccan', 'argan', 'oil', 'leavein', 'treatment', 'lot', '3', 'bottle', 'for', '3', 'v...', 'httpstcovpdqwxw4ci'], '1'), (['rt', 'vaidesmaiar', 'esfregar', 'a', 'mao', 'na', 'revista', 'da', 'avon', 'para', 'sentir', 'o', 'cheiro', 'dos', 'perfumes', 'e', 'tao', 'minha', 'infancia', 'me', 'lembra', 'a', 'vizinha', 'da', 'minha', 'vo...'], '0'), (['qdo', 'eu', 'tinha', '9', 'anos', 'eu', 'colecionava', 'vidro', 'de', 'perfume', 'vazio', 'e', 'saia', 'catando', 'os', 'avon', 'de', 'todo', 'mundo', 'um', 'dia', 'minha', 'mae', 'se...', 'httpstcoxieey6kp4x'], '1'), (['rt', 'dudu', 'so', 'eu', 'sei', 'o', 'tanto', 'que', 'eu', 'passava', 'os', 'pulso', 'em', 'revista', 'da', 'avon', 'quando', 'era', 'crianca', 'tinha', 'uns', 'que', 'o', 'cheiro', 'tava', 'so', 'da', 'seringueira', 'e...'], '0'), (['perfume', 'bom', 'e', 'avon', 'na', 'msm', 'frase', 'e', 'dificil'], '1'), (['rt', 'babi', 'so', 'lembro', 'da', 'minha', 'avo', 'com', 'a', 'revista', 'da', 'avon', 'e', 'eu', 'esfregando', 'um', 'perfume', 'em', 'cada', 'parte', 'do', 'corpo', 'quando', 'era', 'crianca', '22'], '1'), (['nessa', 'prova', 'da', 'avon', 'eles', 'poderiam', 'ter', 'que', 'identificar', 'o', 'perfume', 'pelo', 'cheiro', 'ou', 'algo', 'do', 'tipo', 'seria', 'interessante'], '1'), (['eu', 'vou', 'morrer', 'sem', 'saber', 'como', 'a', 'avon', 'colocava', 'o', 'cheiro', 'na', 'revista', 'pra', 'sair', 'so', 'quando', 'a', 'gente', 'esfregava', 'o', 'pulso', 'magi...', 'httpstcokv0n1yhcuw'], '0'), (['que', 'nunca', 'esfregou', 'o', 'pulso', 'numa', 'revista', 'avon', 'pra', 'sentir', 'o', 'cheiro', 'de', 'um', 'perfume', 'e', 'burgues', 'safado', '21'], '1'), (['avon', 'ta', 'cheia', 'de', 'espaco', 'dentro', 'da', 'edicao', 'respeita', 'o', 'patrocinio', 'de', 'milhoes', '22', 'httpstco2gmoldqa5z'], '1'), (['contrata', 'a', 'natalia', 'avon', 'ela', 'entregou', 'a', 'publi', 'agora', '', '22'], '0'), (['rt', 'vaidesmaiar', 'esfregar', 'a', 'mao', 'na', 'revista', 'da', 'avon', 'para', 'sentir', 'o', 'cheiro', 'dos', 'perfumes', 'e', 'tao', 'minha', 'infancia', 'me', 'lembra', 'a', 'vizinha', 'da', 'minha', 'vo...'], '0'), (['genial', 'que', 'colocaram', 'a', 'jade', 'pra', 'cheirar', 'todos', 'os', 'perfumes', 'da', 'avon', 'httpstco0oy2fmd61a'], '1'), (['eu', 'vendo', 'aquelamarcala', '', 'e', 'tem', 'cupom', 'na', 'loja', 'online', 'httpstco75rbzroh2r\\n\\n22', 'httpstcoygxhfpbxhy'], '1'), (['colocaram', 'um', 'revistao', 'da', 'avon', 'na', 'prova', ''], '1'), (['rt', 'dudu', 'so', 'eu', 'sei', 'o', 'tanto', 'que', 'eu', 'passava', 'os', 'pulso', 'em', 'revista', 'da', 'avon', 'quando', 'era', 'crianca', 'tinha', 'uns', 'que', 'o', 'cheiro', 'tava', 'so', 'da', 'seringueira', 'e...'], '0'), ([''], '1'), (['tava', 'vendo', 'o', '', 'com', 'minha', 'bisa', 'ai', 'o', 'tadeu', 'foi', 'fazer', 'a', 'publicidade', 'da', 'avon', 'pra', 'prova', 'do', 'lider', 'quando', 'ele', 'fala', 'a', 'p...', 'httpstcoxgutp6mlb5'], '0'), (['naty', 'west', 'futura', 'garota', 'propaganda', 'da', 'avon', 'o', 'murro', 'na', 'judas', 'picao'], '1'), (['rt', 'vaidesmaiar', 'esfregar', 'a', 'mao', 'na', 'revista', 'da', 'avon', 'para', 'sentir', 'o', 'cheiro', 'dos', 'perfumes', 'e', 'tao', 'minha', 'infancia', 'me', 'lembra', 'a', 'vizinha', 'da', 'minha', 'vo...'], '0'), (['einebru', 'essa', 'da', 'avon', 'e', 'quase', 'um', 'tcc'], '1'), (['rt', 'vallreal', 'esses', 'adms', 'da', 'jade', 'piton', 'sao', 'horriveis', 'nunca', 'vi', 'uma', 'equipe', 'de', 'um', '', 'tao', 'ruim', 'como', 'essa', 'estao', 'afundando', 'a', 'propria', 'participa...'], '0'), (['rt', 'nodesabafando', 'eu', 'tentando', 'entender', 'essa', 'prova', 'da', 'avon', 'provadolider', '22', 'httpstcolkzkyg3'], '1'), (['rt', 'jonathanwsg', 'o', 'tiago', 'abravanel', 'quando', 'sair', 'da', 'casa', 'apos', 'usar', 'avon', 'em', 'vez', 'de', 'jequiti', '\\n\\n22', 'provadolider', 'rede', 'httpstcoeff...'], '1'), (['rt', 'avonbr', 'cheguei', 'com', 'novo', 'hit', 'e', 'tudo', 'ja', 'sabem', 'bem', 'o', 'que', 'fazer', 'agora', 'ne', 'tacar', 'stream', 'no', 'hino', 'aqui', '\\n\\n', 'ela', 'vem', 'que', 'vem', 'ela', 'vem', 'de', 'avo...'], '1'), (['rt', 'tracklist', 'tadeu', 'falando', 'aquela', 'marca', 'la', 'para', 'falar', 'da', 'avon', '', '22', 'httpstco3tiusg4win'], '1'), (['ultima', 'prova', 'da', 'avon', 'do', '21', 'eu', 'fui', 'tao', 'feliz'], '0'), (['giselenatural', 'foi', 'a', 'adm', 'da', 'piton', 'que', 'falou', 'isso', 'quando', 'alguem', 'perguntou', 'qual', 'baton', 'ela', 'estava', 'usando', 'e', 'responderam...', 'httpstcom5l8gloy3u'], '1'), (['a', 'avon', 'ta', 'off', 'isso', 'sim'], '1'), (['', 'prova', 'do', 'lider', 'avon', '', 'ordem', '\\n\\nnatalia', '1\\nvyni', '2\\npaulo', 'andre', '3\\narthur', '4\\nlucas', '5\\ndouglas', '6\\nlina', '7\\nbar...', 'httpstcojuoqjnborj'], '1'), (['rt', 'alissoneduardof', 'tadeu', 'alfinetando', 'a', 'equipe', 'da', 'jade', '', 'nunca', 'erra', '\\n\\no', 'eli', '', 'o', 'tadeu', '', 'ai', 'arthur', '', 'jade', '', 'beijo', '', 'herpes', '', 'a...'], '0'), (['por', 'sierto', 'este', 'es', 'mi', 'favorito', 'no', 'me', 'salgan', 'con', 'su', 'avon', 'o', 'esas', 'chingaderas', '', 'httpstcot8eobvx6tv'], '1'), (['a', 'avon', 'consegue', 'deixar', 'o', 'cheiro', 'na', 'revista', 'por', 'meses', 'mas', 'na', 'pele', 'nao', 'dura', '2', 'horas', ''], '0'), (['rt', 'babi', 'so', 'lembro', 'da', 'minha', 'avo', 'com', 'a', 'revista', 'da', 'avon', 'e', 'eu', 'esfregando', 'um', 'perfume', 'em', 'cada', 'parte', 'do', 'corpo', 'quando', 'era', 'crianca', '22'], '1'), (['blue', 'avon', 'data', 'analyzer', 'cotton', 'xss', 'kwanza', 'refined', 'sticky', 'architectures', 'berkshire', 'sdd'], '1'), (['esse', 'aqui', 'da', 'avon', 'so', 'quem', 'viveu', 'sabe', 'httpstcobtvbyjcqjq'], '1'), (['so', 'de', 'ver', 'a', 'imagem', 'desse', 'perfume', 'far', 'away', 'glamour', 'da', 'avon', 'da', 'vontade', 'de', 'vomitar', 'n', 'consegui', 'usar', 'nem', 'metade', 'do', 'q', 'eu', 'tinha'], '0'), (['rt', 'nodesabafando', 'eu', 'tentando', 'entender', 'essa', 'prova', 'da', 'avon', 'provadolider', '22', 'httpstcolkzkyg3'], '1'), (['sera', 'que', 'o', 'dono', 'da', 'avonbr', 'usa', 'avon', '22'], '1'), (['compress', 'calculate', 'gloves', 'dollar', 'avon', 'tuvalu', 'principal', 'qatar', 'avon', 'card', 'handcrafted', 'bus'], '1'), (['bchartsnet', 'jadejade', 'gtgtgtgtgtgtgtgtgt', 'avon', '\\nhttpstcowhlz8gtwzb'], '1'), (['rt', 'kakabairros', 'toda', 'vez', 'a', 'mesma', 'duvida', 'como', 'que', 'a', 'avon', 'faz', 'pra', 'colocar', 'perfume', 'na', 'revista'], '1'), (['saudades', 'de', 'pegar', 'uma', 'revista', 'da', 'avon', 'no', 'meio', 'do', 'expediente', 'esfregar', 'o', 'pulso', 'em', 'todas', 'as', 'paginas', 'e', 'devolver', 'pra', 'do...', 'httpstcor7qnjrdaci'], '1'), (['rt', 'antenadosofc', 'os', '6', 'primeiros', 'dg', 'arthur', 'paulo', 'lucas', 'natalia', 'e', 'vinicius', 'estao', 'na', 'area', 'de', 'provas\\n\\na', 'prova', 'do', 'lider', 'de', 'hoje', 'e', 'patroci...'], '1'), (['rt', 'tracklist', 'tadeu', 'falando', 'aquela', 'marca', 'la', 'para', 'falar', 'da', 'avon', '', '22', 'httpstco3tiusg4win'], '1'), (['rt', 'vaidesmaiar', 'esfregar', 'a', 'mao', 'na', 'revista', 'da', 'avon', 'para', 'sentir', 'o', 'cheiro', 'dos', 'perfumes', 'e', 'tao', 'minha', 'infancia', 'me', 'lembra', 'a', 'vizinha', 'da', 'minha', 'vo...'], '0'), (['a', 'avon', 'so', 'faz', 'propaganda', 'do', 'far', 'away', 'glamour', 'mas', 'o', 'far', 'away', 'royale', 'e', 'mil', 'vezes', 'superior', 'tenho', 'ele', 'na', 'colecao'], '1'), (['o', 'marketeiro', 'da', 'avon', 'ja', 'garantiu', 'a', 'vida'], '1'), (['se', 'fosse', 'a', 'dior', 'patrocinando', 'esta', 'prova', 'no', 'lugar', 'da', 'avon', 'como', 'a', 'jaderoviski', 'agiria', '22'], '1'), (['a', 'prova', 'avon', 'e', 'igual', 'a', 'prova', 'americanas', '22'], '1'), (['2022', 'que', 'eu', 'fui', 'descobrir', 'que', 'avon', 'de', 'tras', 'pra', 'frente', 'e', 'nova'], '1'), (['dona', 'avontaon', 'no', '22', 'na', 'prova', 'do', 'lider', 'pelo', 'amor', 'de', 'avon', 'que', 'seja', 'um', 'lider', 'jogador', 'httpstcowsee1mhpaj'], '1'), (['human', 'navigate', 'maximized', 'backing', 'rubber', 'small', 'avon', 'account', 'fresh', 'fullyconfigurable', 'emarkets', 'deploy'], '1'), (['huevon', '', 'que', 'le', 'criticas', 'a', 'pollofarsantepe', 'y', 'su', 'unico', 'reportaje', 'errado', 'si', 'paras', 'viendo', 'a', 'periodistas', 'y', 'youtubers...', 'httpstcor0eg1w8jma'], '1'), (['prova', 'do', 'lider\\nsequencia', 'do', 'sorteio\\n1', 'natalia', '\\n2', 'vyni\\n3', 'pa\\n4', 'arthur', '\\n5', 'lucas\\n6', 'dg\\n7', 'lina\\n8', 'barbara', '\\n9', 'lais', '\\n10', 'scoo...', 'httpstcoftlzzoj4r1'], '1'), (['falharam', 'equipe', 'de', 'marketing', 'da', 'avon', 'muito', 'despropositada', 'essa', 'etiqueta', 'na', 'parede', 'pra', 'cheirarem', 'logico', 'q', 'eles', 'iam', 'direto', 'pra', 'estacao', 'sabe'], '1'), (['rt', 'vaidesmaiar', 'esfregar', 'a', 'mao', 'na', 'revista', 'da', 'avon', 'para', 'sentir', 'o', 'cheiro', 'dos', 'perfumes', 'e', 'tao', 'minha', 'infancia', 'me', 'lembra', 'a', 'vizinha', 'da', 'minha', 'vo...'], '0'), (['nunca', 'imaginei', 'ver', 'o', 'tadeu', 'schimidt', 'falando', 'sobre', 'perfume', 'da', 'avon'], '1'), (['a', 'jade', 'tendo', 'q', 'sentir', 'cheiro', 'de', 'perfume', 'da', 'avon'], '1'), (['prova', 'bosta', 'que', 'nem', 'o', 'cheiro', 'do', 'perfume', 'da', 'avon'], '1'), (['prova', 'do', 'lider', 'avon\\n\\nchave', '1\\n\\n', 'natalia\\n', 'vyni\\n', 'paulo', 'andre\\n', 'arthur\\n', 'lucas\\n', 'douglas\\n\\n22'], '1'), (['rt', 'danilosanches', 'esse', 'aqui', 'da', 'avon', 'so', 'quem', 'viveu', 'sabe', 'httpstcobtvbyjcqjq'], '1'), (['prova', 'bosta', 'hein', 'avon'], '1'), (['rt', 'dudu', 'so', 'eu', 'sei', 'o', 'tanto', 'que', 'eu', 'passava', 'os', 'pulso', 'em', 'revista', 'da', 'avon', 'quando', 'era', 'crianca', 'tinha', 'uns', 'que', 'o', 'cheiro', 'tava', 'so', 'da', 'seringueira', 'e...'], '0'), (['desumano', '\\n\\na', 'jade', 'nem', 'deve', 'saber', 'o', 'que', 'e', 'essa', 'sensacao', 'de', 'tirar', 'o', 'plastico', 'da', 'revistinha', 'da', 'avon', 'pra', 'sentir', 'o', 'per...', 'httpstco59h1pydofi'], '1'), (['acho', 'que', 'nunca', 'usei', 'um', 'produto', 'da', 'avon', 'na', 'vida'], '1'), (['uma', 'saudade', 'de', 'infancia', 'pegar', 'a', 'revista', 'da', 'avon', 'aquela', 'marca', 'la', 'so', 'pra', 'ficar', 'cheirando', '22', 'avon'], '1'), (['rt', 'danilosanches', 'esse', 'aqui', 'da', 'avon', 'so', 'quem', 'viveu', 'sabe', 'httpstcobtvbyjcqjq'], '1'), (['quetzal', 'buckinghamshire', 'producer', 'copying', 'lavender', 'customer', 'incredible', 'louisiana', 'legacy', 'avon', 'violet', 'microchip'], '1'), (['sera', 'que', 'a', 'jade', 'ja', 'esfregou', 'o', 'pulso', 'em', 'uma', 'revista', 'da', 'avon', 'pra', 'sentir', 'o', 'cheiro\\n22'], '1'), (['rt', 'babi', 'so', 'lembro', 'da', 'minha', 'avo', 'com', 'a', 'revista', 'da', 'avon', 'e', 'eu', 'esfregando', 'um', 'perfume', 'em', 'cada', 'parte', 'do', 'corpo', 'quando', 'era', 'crianca', '22'], '1'), (['rss', 'innovate', 'handcrafted', 'b2b', 'djibouti', 'rwanda', 'payment', 'generating', 'benin', 'avon', 'haptic', 'sticky'], '1'), (['rt', 'avonbr', 'cheguei', 'com', 'novo', 'hit', 'e', 'tudo', 'ja', 'sabem', 'bem', 'o', 'que', 'fazer', 'agora', 'ne', 'tacar', 'stream', 'no', 'hino', 'aqui', '\\n\\n', 'ela', 'vem', 'que', 'vem', 'ela', 'vem', 'de', 'avo...'], '1'), (['rt', 'vaidesmaiar', 'esfregar', 'a', 'mao', 'na', 'revista', 'da', 'avon', 'para', 'sentir', 'o', 'cheiro', 'dos', 'perfumes', 'e', 'tao', 'minha', 'infancia', 'me', 'lembra', 'a', 'vizinha', 'da', 'minha', 'vo...'], '0'), (['moco', 'se', 'fosse', 'comigo', 'e', 'o', 'tadeuschmidt', 'fala', 'que', 'pode', 'cheirar', 'a', 'revista', 'da', 'avonbr', 'eu', 'ja', 'teria', 'ido', 'sou', 'desses', '', 'avon'], '1'), (['esse', 'perfume', 'far', 'away', 'glamour', 'e', 'muito', 'bom', 'e', 'eu', 'uso', '', '2022', 'avon'], '1'), (['avonbr', 'attraction', 'desire', 'for', 'him', 'deo', 'colonia', 'masculina', 'httpstcogqobyvw5mh\\nattraction', 'desire', 'for', 'her', 'feminino...', 'httpstco3yxmegzdbh'], '1'), (['elizer', 'nao', 'lembra', 'nem', 'o', 'nome', 'do', 'apresentador', 'vai', 'lembrar', 'atributos', 'de', 'perfume', 'da', 'avon', '22'], '1'), (['nao', 'tem', 'quem', 'tire', 'da', 'minha', 'cabeca', 'que', 'esse', 'plastico', 'que', 'tem', 'o', 'cheiro', 'do', 'perfume', 'embaixo', 'nas', 'revistas', 'da', 'avon', 'e', 'feiticaria', ''], '0'), (['rt', 'vaidesmaiar', 'esfregar', 'a', 'mao', 'na', 'revista', 'da', 'avon', 'para', 'sentir', 'o', 'cheiro', 'dos', 'perfumes', 'e', 'tao', 'minha', 'infancia', 'me', 'lembra', 'a', 'vizinha', 'da', 'minha', 'vo...'], '0'), (['prova', 'do', 'lider', 'hoje', 'com', 'a', 'avon', '22', 'httpstcoucb6xbysos'], '1'), (['tinha', 'q', 'ser', 'avon', '22'], '1'), (['mas', 'que', 'ideia', 'de', 'jerico', 'meter', 'esse', 'adesivo', 'na', 'parede', 'com', 'o', 'cheiro', 'do', 'perfume', 'eles', 'acharam', 'o', 'que', 'o', 'cara', 'vai', 'ser', 'el...', 'httpstcoxl61xj01ff'], '1'), (['rt', 'tracklist', 'tadeu', 'falando', 'aquela', 'marca', 'la', 'para', 'falar', 'da', 'avon', '', '22', 'httpstco3tiusg4win'], '1'), (['rt', 'vaidesmaiar', 'esfregar', 'a', 'mao', 'na', 'revista', 'da', 'avon', 'para', 'sentir', 'o', 'cheiro', 'dos', 'perfumes', 'e', 'tao', 'minha', 'infancia', 'me', 'lembra', 'a', 'vizinha', 'da', 'minha', 'vo...'], '0'), (['avon', 'que', 'dificuldade', 'essa', 'prova', 'vai', 'ate', 'tres', 'da', 'manha', 'daqui', 'a', 'pouco'], '1'), (['nathmego', 'whomath', 'a', 'avon', '', '22', 'httpstcojepj1lltx8'], '1'), (['eu', 'tenho', 'esse', 'perfume', 'da', 'avon', ''], '1'), (['mano', 'eu', 'usava', 'tanto', 'perfume', 'da', 'avon', 'tem', 'uns', 'muito', 'bons'], '0'), (['i', 'muito', 'dificil', 'essa', 'prova', 'dona', 'avon'], '1'), (['esfregar', 'o', 'pulsinho', 'na', 'revista', '', 'tudo'], '1'), (['esse', 'perfume', 'preto', 'menor', 'da', 'avon', 'e', 'mto', 'bomm'], '1'), (['quem', 'for', 'mais', 'cheiroso', 'ganha', 'prova', 'avon'], '1'), (['coisa', 'que', 'eu', 'nunca', 'consegui', 'descobri', 'e', 'como', 'a', 'avon', 'poe', 'cheio', 'nas', 'paginas', 'da', 'revista', '22'], '1'), (['rt', 'babi', 'so', 'lembro', 'da', 'minha', 'avo', 'com', 'a', 'revista', 'da', 'avon', 'e', 'eu', 'esfregando', 'um', 'perfume', 'em', 'cada', 'parte', 'do', 'corpo', 'quando', 'era', 'crianca', '22'], '1'), (['quando', 'eu', 'era', 'crianca', 'amava', 'ficar', 'esfregando', 'o', 'pulso', 'nas', 'revista', 'avon'], '1'), (['rt', 'danilosanches', 'esse', 'aqui', 'da', 'avon', 'so', 'quem', 'viveu', 'sabe', 'httpstcobtvbyjcqjq'], '1'), (['rt', 'cubanastyles', 'o', 'tadeu', 'falando', 'aquela', 'marca', 'la', 'pra', 'se', 'referir', 'a', 'avon', 'o', 'papi', 'nao', 'erra', 'nunca'], '1'), (['avonbr', 'avon', 'n', 'to', 'entendendo', 'a', 'prov', 'socorro'], '0'), (['perfume', 'da', 'avon', 'me', 'lembra', 'crente', 'em', 'culto', 'de', 'domingo'], '1'), (['que', 'prova', 'ruim\\n\\ndepois', 'de', 'hoje', 'avon', 'nao', 'entra', 'mais', 'na', 'minha', 'casa', '22'], '1'), (['gente', 'falando', 'em', 'prova', 'da', 'avon', 'fucking', 'como', 'eles', 'colocam', 'cheiro', 'na', 'revista', 'e', 'o', 'cheiro', 'nao', 'passa', 'pra', 'outra', 'pagina', 'e', 'nem', 'sai', 'wtf'], '1'), (['rt', 'sonsaabrao', 'saudades', 'esfregar', 'meu', 'pulso', 'na', 'revista', 'avon', '22'], '1'), (['deus', 'me', 'livre', 'participar', 'de', 'uma', 'prova', 'de', 'perfume', 'da', 'avon'], '1'), (['avon', 'fez', 'o', 'legitimo', 'me', 'empresta', 'tua', 'tarefa', 'prometo', 'que', 'nao', 'faco', 'igual', 'com', 'a', 'americanas', ''], '1'), (['rt', 'danilosanches', 'esse', 'aqui', 'da', 'avon', 'so', 'quem', 'viveu', 'sabe', 'httpstcobtvbyjcqjq'], '1'), (['rt', 'babi', 'so', 'lembro', 'da', 'minha', 'avo', 'com', 'a', 'revista', 'da', 'avon', 'e', 'eu', 'esfregando', 'um', 'perfume', 'em', 'cada', 'parte', 'do', 'corpo', 'quando', 'era', 'crianca', '22'], '1'), (['ate', 'hj', 'sem', 'entender', 'como', 'a', 'avon', 'consegue', 'deixar', 'o', 'cheiro', 'dos', 'perfumes', 'no', 'catalogo', 'por', 'tanto', 'tempo'], '0'), (['camispfcb', 'basicamente', 'e', 'igual', 'a', 'prova', 'de', 'semana', 'passada', 'so', 'que', 'com', 'palavras\\n\\ntipo', 'a', 'palavra', 'avon', 'apareceu', 'na', 'posicao', '8', 'e', 'por', 'ai', 'vai'], '1'), (['prova', 'do', 'lider', 'avon', 'quem', 'comprar', 'o', 'tom', 'certo', 'de', 'base', 'ganha'], '1'), (['como', 'que', 'colocam', 'o', 'cheiro', 'nas', 'revistas', 'da', 'avon', 'so', 'apertar', 'o', 'perfume', 'e', 'colocar', 'o', 'adesivo', 'em', 'cima', 'httpstcoifudc1rgcy'], '1'), (['rt', 'danilosanches', 'esse', 'aqui', 'da', 'avon', 'so', 'quem', 'viveu', 'sabe', 'httpstcobtvbyjcqjq'], '1'), (['paulokleber21', 'bchartsnet', 'o', 'perfil', 'no', 'tt', 'da', 'jade', 'usou', 'aquela', 'marca', 'la', 'pra', 'se', 'referir', 'a', 'avon'], '1'), (['arthur', 'decorava', 'aquelas', 'falas', 'ridiculas', 'da', 'novela', '', 'quero', 'ver', 'se', 'n', 'vai', 'decorar', 'as', 'palavras', 'da', 'avon'], '0'), (['a', 'avon', 'fazendo', 'uma', 'prova', 'pior', 'que', 'o', 'enem'], '0'), (['perguntei', 'hoje', 'a', 'uma', 'amiga', 'se', 'ainda', 'existia', 'revista', 'da', 'avon', 'e', 'ela', 'me', 'mandou', 'uma', 'em', 'pdf'], '0'), (['avonbr', 'so', 'ate', '1302', '\\n\\n', 'nas', 'compras', 'acima', 'de', 'r11990', 'o', 'frete', 'e', 'gratis', 'e', 'a', 'cliente', 'ainda', 'escolhe', '3', 'amostra...', 'httpstcoccgyz9a4ca'], '1'), (['2022', 'que', 'eu', 'fui', 'descobrir', 'que', 'avon', 'de', 'tras', 'pra', 'frente', 'e', 'nova', '22', 'rede'], '1'), (['vi', 'isso', 'na', 'aula', 'e', 'agr', 'no', '', 'revista', 'avon', 'gigante', 'sinal', 'q', 'vai', 'cair', 'na', 'oab'], '0'), (['rt', 'dudu', 'so', 'eu', 'sei', 'o', 'tanto', 'que', 'eu', 'passava', 'os', 'pulso', 'em', 'revista', 'da', 'avon', 'quando', 'era', 'crianca', 'tinha', 'uns', 'que', 'o', 'cheiro', 'tava', 'so', 'da', 'seringueira', 'e...'], '0'), (['eu', 'amo', 'perfumes', 'melhor', 'ainda', 'e', 'a', 'propria', 'escolha', 'avon', '', '22'], '0'), (['avon', 'lascada', 'no', '', 'os', 'brothers', 'nem', 'a', 'prova', 'conseguem', 'entender', 'kakakakakakaka'], '1'), (['gente', 'tadeu', 'tbm', 'nao', 'entendeu', 'hahahahahah', 'caramba', 'dona', 'avon', '22'], '0'), (['gostava', 'muito', 'daquele', 'perfume', 'petit', 'da', 'avon', '22'], '1'), (['mas', 'que', 'prova', 'confusa', 'hein', 'avon'], '1'), (['avon', 'ta', 'cheia', 'de', 'espaco', 'dentro', 'da', 'edicao', 'respeita', 'o', 'patrocinio', 'de', 'milhoes', '22'], '1'), (['essa', 'galera', 'e', 'burra', 'demais', 'faz', 'um', 'par', 'ou', 'impar', 'avon', 'e', 'ta', 'tudo', 'certo'], '0'), (['rt', 'danilosanches', 'esse', 'aqui', 'da', 'avon', 'so', 'quem', 'viveu', 'sabe', 'httpstcobtvbyjcqjq'], '1'), (['', 'prova', 'do', 'lider', 'da', 'avon', '', 'chave', '1\\n\\n1', 'natalia', '\\n2', 'vyni', '\\n3', 'paulo', 'andre', '', '\\n4', 'arthur', '\\n5', 'lucas', '\\n6', 'douglas', '\\n\\n22', 'provadolider', 'rede'], '1'), (['avon', 'nao', 'eh', 'boba', 'nem', 'nada', 'meteu', 'uma', 'prova', 'igualzinha', 'a', 'ultima', 'pra', 'ficar', '3', 'horas', 'na', 'nossa', 'tela'], '1'), (['quando', 'eu', 'era', 'crianca', 'eu', 'achava', 'o', 'auge', 'da', 'tecnologia', 'quando', 'via', 'esses', 'adesivinhos', 'dos', 'perfumes', 'nas', 'revistinhas', 'da', 'a...', 'httpstcouipx3gom90'], '1'), (['rede', '22', '\\n\\npor', 'falar', 'em', 'avon', 'lembrei', 'que', 'eu', 'to', 'devendo', '30', 'reais', 'a', 'mulher', 'do', 'avon', '', 'avonbr', ''], '0'), (['prova', 'da', 'avon', 'a', 'cada', 'rodada', 'sera', 'exibida', 'no', 'telao', 'uma', 'sequencia', 'com', 'palavras', 'relacionadas', 'a', 'um', 'perfume', 'das', 'avon', 'ao...', 'httpstcok6ybroavrv'], '1'), (['nao', 'entendi', 'a', 'prova', 'tambem', 'beijos', 'avon'], '1'), (['grow', 'avon', 'hacking', 'payment', 'azure', 'clothing', 'licensed', 'online', 'administrator', 'global', 'wooden', 'rufiyaa'], '1'), (['rt', 'oclubdalulu', 'amo', 'esfregar', 'meu', 'pulso', 'na', 'revista', 'da', 'avon', 'pra', 'sentir', 'a', 'fragrancia'], '0'), (['rt', 'danilosanches', 'esse', 'aqui', 'da', 'avon', 'so', 'quem', 'viveu', 'sabe', 'httpstcobtvbyjcqjq'], '1'), (['rt', 'danilosanches', 'esse', 'aqui', 'da', 'avon', 'so', 'quem', 'viveu', 'sabe', 'httpstcobtvbyjcqjq'], '1'), (['rt', 'vaidesmaiar', 'esfregar', 'a', 'mao', 'na', 'revista', 'da', 'avon', 'para', 'sentir', 'o', 'cheiro', 'dos', 'perfumes', 'e', 'tao', 'minha', 'infancia', 'me', 'lembra', 'a', 'vizinha', 'da', 'minha', 'vo...'], '0'), (['que', 'prova', 'dificil', 'avon', 'pqp'], '1'), (['sdd', 'prova', 'da', 'avon', 'dos', 'esmaltes', 'do', 'ano', 'passado', 'foi', 'mr', 'boa', 'kksjsyhsb', '22'], '1'), (['esse', 'segno', 'da', 'avon', 'e', 'masculino', 'amo', 'perfume', 'amadeirado', 'e', 'amo', 'vetiver'], '0'), (['rt', 'babi', 'so', 'lembro', 'da', 'minha', 'avo', 'com', 'a', 'revista', 'da', 'avon', 'e', 'eu', 'esfregando', 'um', 'perfume', 'em', 'cada', 'parte', 'do', 'corpo', 'quando', 'era', 'crianca', '22'], '1'), (['rt', 'dudu', 'so', 'eu', 'sei', 'o', 'tanto', 'que', 'eu', 'passava', 'os', 'pulso', 'em', 'revista', 'da', 'avon', 'quando', 'era', 'crianca', 'tinha', 'uns', 'que', 'o', 'cheiro', 'tava', 'so', 'da', 'seringueira', 'e...'], '0'), (['rt', 'babi', 'so', 'lembro', 'da', 'minha', 'avo', 'com', 'a', 'revista', 'da', 'avon', 'e', 'eu', 'esfregando', 'um', 'perfume', 'em', 'cada', 'parte', 'do', 'corpo', 'quando', 'era', 'crianca', '22'], '1'), (['vem', 'de', 'prova', 'chata', 'vem', 'de', 'avon', '22', 'provadolider'], '1'), (['rt', 'magaz0rd', 'a', 'prova', 'da', 'avon', 'e', 'que', 'nem', 'o', 'nome', 'dos', 'perfumes', 'deles', 'ninguem', 'entende', 'nada'], '1'), (['avon', 'faz', 'uma', 'puta', 'propaganda', 'de', 'um', 'perfume', 'no', '', 'e', 'no', 'final', 'o', 'perfume', 'e', 'mo', 'agua', 'de', 'xuxu', 'com', 'pouca', 'fixacao', 'falei', 'to', 'leve'], '0'), (['amo', 'farauei', 'da', 'avon', 'melhor', 'perfume', 'o', 'tradicional', 'claro'], '1'), (['coloca', 'na', 'palavra', 'avon', '22'], '1'), (['acho', 'os', 'perfumes', 'da', 'avon', 'tao', 'ruins'], '0'), (['ui', 'que', 'delicia', 'esfregar', 'o', 'pulso', 'na', 'revistinha', 'pra', 'sentir', 'o', 'cheiro', 'em', 'rede', 'nacional', 'avon'], '1'), (['essa', 'revistinha', 'perfumada', 'da', 'avon', 'ja', 'foi', 'esfregada', 'em', 'tantas', 'partes', 'do', 'corpo', 'ne', 'era', 'pulso', 'pescoco...', '22'], '1'), (['quando', 'eu', 'era', 'crianca', 'achava', 'muito', 'magico', 'a', 'revistinha', 'avon', 'ter', 'o', 'cheiro', 'do', 'perfume'], '1'), (['rt', 'tracklist', 'tadeu', 'falando', 'aquela', 'marca', 'la', 'para', 'falar', 'da', 'avon', '', '22', 'httpstco3tiusg4win'], '1'), (['rt', 'tracklist', 'tadeu', 'falando', 'aquela', 'marca', 'la', 'para', 'falar', 'da', 'avon', '', '22', 'httpstco3tiusg4win'], '1'), (['rt', 'falarafha', 'jade', 'com', 'certeza', 'nao', 'tem', 'essa', 'referencia', 'de', 'esfregar', 'o', 'pulso', 'na', 'revista', 'avon', '22'], '1'), (['rt', 'agapitavergara', 'sera', 'que', 'esta', 'nombrando', 'el', 'nuevo', 'jabon', 'del', 'catalogo', 'de', 'avon', 'o', 'el', 'nombre', 'de', 'la', 'mina', 'de', 'oro', 'que', 'esta', 'explotando'], '1'), (['nao', 'tem', 'nada', 'pior', 'que', 'perfume', 'da', 'avon', ''], '0'), (['avon', '...', 'sempre', 'te', 'amei', 'avonbr', '', '22', 'httpstcogje6lmhbi6'], '1'), (['minha', 'avo', 'amava', 'esse', ''], '1'), (['pessoal', 'da', 'avon', 'mandou', 'muito', 'mal', 'nessa', 'prova', ''], '0'), (['ja', 'que', 'a', 'prova', 'e', 'de', 'perfume', 'da', 'avon', 'queria', 'so', 'dizer', 'que', 'o', 'segno', 'e', 'perfeito', 'fico', 'triste', 'que', 'a', 'mamae', 'fez', 'eu', 'da', 'o', 'meu', 'pro', 'titio'], '0'), (['rt', 'danilosanches', 'esse', 'aqui', 'da', 'avon', 'so', 'quem', 'viveu', 'sabe', 'httpstcobtvbyjcqjq'], '1'), (['nao', 'sei', 'se', 'e', 'pq', 'eu', 'to', 'chapado', 'mas', 'eu', 'nao', 'entendi', 'absolutamente', 'nada', 'dessa', 'prova', 'da', 'avon'], '0'), (['esses', 'dia', 'tava', 'viajando', 'na', 'mente', 'da', 'pessoa', 'que', 'faz', 'os', 'textos', 'da', 'avon', 'eu', 'acho', 'impressionante', 'httpstcorcmbqvls9g'], '1'), (['rt', 'ticorilo', 'prova', 'da', 'avon', 'me', 'lembrando', 'ela', 'tendo', 'pane', 'no', 'cabecao', '', 'httpstcoaeb8lb1s37'], '1'), (['e', 'a', 'mesma', 'prova', 'da', 'semana', 'passada', 'so', 'que', 'da', 'avon', ''], '0'), (['essa', 'prova', 'do', 'lider', 'ta', 'uma', 'bagunca', 'avon', 'ta', 'doida'], '1'), (['bad', 'naty', 'futura', 'garota', 'propaganda', 'da', 'avon', 'httpstco2mbyebgfym'], '1'), (['avon', 'ecocentric', 'objectoriented', 'licensed', 'interactive', 'copy', 'interfaces', 'via', 'rand', 'evenkeeled', 'cambridgeshire', 'bike'], '1'), (['rt', 'vaidesmaiar', 'esfregar', 'a', 'mao', 'na', 'revista', 'da', 'avon', 'para', 'sentir', 'o', 'cheiro', 'dos', 'perfumes', 'e', 'tao', 'minha', 'infancia', 'me', 'lembra', 'a', 'vizinha', 'da', 'minha', 'vo...'], '0'), (['a', 'prova', 'do', 'lider', 'da', 'avon', 'assim', '22', 'httpstcofawlp4yswu'], '1'), (['sempre', 'na', 'penteadeira', 'da', 'vo', ''], '1'), (['boninho', 'meteu', 'um', 'avon', 'cavalar', 'pra', 'se', 'redimir', 'com', 'aquela', 'marca', 'la'], '1'), (['jade', 'ganhara', 'a', 'prova', 'do', 'lider', 'da', 'avon', 'e', 'continuara', 'sendo', 'a', 'lider', 'do', '22'], '1'), (['rt', 'danilosanches', 'esse', 'aqui', 'da', 'avon', 'so', 'quem', 'viveu', 'sabe', 'httpstcobtvbyjcqjq'], '1'), (['nao', 'entendi', 'nada', 'dessa', 'prova', 'se', 'eu', 'fosse', 'do', 'time', 'da', 'avon', 'ia', 'dar', 'umas', 'ideias', 'tops...'], '0'), (['crest', 'stravenue', 'fish', 'frozen', 'borders', 'avon', 'invoice', 'transmit', 'systemworthy', 'hat', 'visionoriented', 'recontextualized'], '1'), (['essa', 'tipografia', 'nova', 'da', 'avon', 'e', 'um', 'luxo'], '1'), (['os', 'perfume', 'da', 'avon', 'sao', 'tao', 'ruim', 'mona'], '1'), (['alguem', 'vai', 'ser', 'demitido', 'la', 'na', 'avon\\n22'], '1'), (['alguem', 'entendeu', 'a', 'prova', 'da', 'avon'], '1'), (['rt', 'chicobarney', 'tadeu', 'meteu', 'aquela', 'marca', 'la', 'para', 'se', 'referir', 'a', 'avon', 'no', 'programa', 'da', 'globo', '22'], '1'), (['', 'que', 'bagunca\\n\\na', 'avon', 'deve', 'estar', 'puta'], '0'), (['a', 'maior', 'tecnologia', 'existente', 'pra', 'mim', 'e', 'o', 'cheiro', 'dos', 'perfumes', 'na', 'revista', 'da', 'avon', 'provadolider'], '1'), (['metacomentarios', 'nao', 'isso', 'foi', 'uma', 'influenciadora', '', 'o', 'perfil', 'dela', 'respondeu', 'alguem', 'que', 'perguntou', 'qual', 'era', 'o', 'batom...', 'httpstcomcmvq5jcgx'], '1'), (['nem', 'o', 'tadeu', 'entendeu', 'a', 'prova', 'feita', 'pela', 'avon'], '1'), (['que', 'prova', 'confusa', 'dona', 'avon'], '1'), (['esse', 'tipo', 'de', 'prova', 'nao', 'me', 'faz', 'ter', 'vontade', 'de', 'comprar', 'o', 'perfume', 'ao', 'contrario', 'me', 'da', 'raiva', '22', 'avon'], '1'), (['gent', 'que', 'prova', 'cu', 'da', 'avon'], '1'), (['o', 'tanto', 'de', 'publi', 'que', 'surgiu', 'da', 'avon', 'nas', 'paginas', '', '22'], '0'), (['era', 'o', 'perfume', 'da', 'minha', 'avo', ''], '1'), (['rt', 'babi', 'so', 'lembro', 'da', 'minha', 'avo', 'com', 'a', 'revista', 'da', 'avon', 'e', 'eu', 'esfregando', 'um', 'perfume', 'em', 'cada', 'parte', 'do', 'corpo', 'quando', 'era', 'crianca', '22'], '1'), (['rt', 'tracklist', 'tadeu', 'falando', 'aquela', 'marca', 'la', 'para', 'falar', 'da', 'avon', '', '22', 'httpstco3tiusg4win'], '1'), (['pendura', 'esse', 'povo', 'num', 'frasco', 'de', 'perfume', 'gigante', 'avon', 'era', 'mais', 'facil', '22'], '1'), (['kijekijikokwe', 'i', 'suppose', 'sephora', 'is', 'more', 'of', 'an', 'aspirational', 'addiction', 'than', 'an', 'haute', 'couture', 'high', 'do', 'you', 'aspire', 'th...', 'httpstcomhlybhqjfz'], '1'), (['na', 'parede', 'aquelas', 'folhas', 'da', 'avon', 'de', 'passar', 'o', 'pulso', ''], '1'), (['to', 'imaginando', 'jade', 'usando', 'avon', ''], '0'), (['eu', 'usava', 'esse', 'avon', 'far', 'away', 'hj', 'n', 'suporto', 'o', 'cheiro', 'mais', ''], '0'), (['rt', 'kennygcover', 'a', 'americanas', 'agora', 'percebendo', 'que', 'a', 'avon', 'copiou', 'a', 'prova', 'dela'], '1'), (['as', 'instrucoes', 'dessa', 'prova', 'tao', 'mais', 'confusas', 'que', 'os', 'tweets', 'do', 'carluxo', '', 'avon'], '0'), (['rt', 'falarafha', 'jade', 'com', 'certeza', 'nao', 'tem', 'essa', 'referencia', 'de', 'esfregar', 'o', 'pulso', 'na', 'revista', 'avon', '22'], '1'), (['itsbrunah', 'hugogloss', 'que', 'a', 'prova', 'ia', 'ser', 'da', 'quela', 'marca', 'la', 'avon'], '1'), (['prova', 'de', 'resistencia', 'avon', 'eles', 'vestidos', 'de', 'batom', 'a', 'prova', 'dagua', 'encima', 'de', 'uma', 'penteadeira', 'levando', 'jatos', 'de', 'agua', 'a', 'cada', '30min', '22'], '1'), (['penislima', 'a', 'avon', 'ja', 'tem', 'direito', 'de', 'usar', 'a', 'imagem', 'dela', 'como', 'quiser', 'ne', 'eu', 'cobraria', 'horrores', 'pra', 'divulgar', 'nas', 'redes', 'dela', 'tambem', ''], '1'), (['boninho', 'pelo', 'amor', 'de', 'deus', 'eles', 'nao', 'entendem', 'bota', 'todo', 'mundo', 'dentro', 'de', 'uma', 'maleta', 'da', 'avon', 'gigante', 'quem', 'sair', 'por', 'ultimo', 'ganha', '22'], '0'), (['assistir', 'prova', 'do', 'lider', 'avon', 'ao', 'vivo', 'na', 'tv', 'e', 'online', '', 'globo', 'e', 'globoplay', 'httpstcoee99fkl7wv'], '1'), (['essa', 'prova', 'e', 'ruim', 'igual', 'a', 'avon', ''], '1'), (['que', 'prova', 'ruim', 'hein', 'avon...', ''], '1'), (['que', 'prova', 'maluca', 'essa', 'da', 'avon', '22'], '1'), (['tasty', 'transmit', 'avon', 'installation', 'ecuador', 'benchmark', 'plains', 'kong', 'tactics', 'redundant', 'endtoend', 'frozen'], '1'), (['toda', 'vez', 'que', 'eu', 'vejo', 'atividade', 'da', 'avon', 'na', 'casa', 'eu', 'so', 'lembro', 'de', 'voinha', 'que', 'vendeu', 'avon', 'ate', 'o', 'ultimo', 'ano', 'de', 'vida', 'dela...', 'httpstcozxbagec121'], '1'), (['parece', 'banquinha', 'de', 'revendedor', 'avon'], '1'), (['bacon', 'avon', 'green', 'protocol', 'webenabled', 'consultant', 'north', 'product', 'gambia', 'creative', 'program', 'scsi'], '1'), (['rt', 'tracklist', 'tadeu', 'falando', 'aquela', 'marca', 'la', 'para', 'falar', 'da', 'avon', '', '22', 'httpstco3tiusg4win'], '1'), (['rt', 'dudu', 'so', 'eu', 'sei', 'o', 'tanto', 'que', 'eu', 'passava', 'os', 'pulso', 'em', 'revista', 'da', 'avon', 'quando', 'era', 'crianca', 'tinha', 'uns', 'que', 'o', 'cheiro', 'tava', 'so', 'da', 'seringueira', 'e...'], '0'), (['gente', 'perfume', 'da', 'avon', 'e', 'ruim', 'demais', 'real', 'uma', 'vez', 'comprei', 'o', 'far', 'away', 'tradicional', 'nossa', 'e', 'muito', 'ruim', '', 'mas', 'maquiagem', 'e', 'pqp', 'de', 'bom'], '0'), (['a', 'avon', 'arrependida', 'do', 'patrocinio', 'da', 'prova'], '1'), (['muito', 'interessante', 'o', 'slogan', 'da', 'avonbr', 'vemdeavon\\ntanto', 'serve', 'para', 'quem', 'compra', 'vem', 'de', 'avon\\nquanto', 'serve', 'para', 'atrai...', 'httpstcop7drsyauiy'], '1'), (['a', 'equipe', 'de', 'marketing', 'da', 'avon', 'surtando', 'agora', 'sem', 'duvidas'], '1'), (['22', 'eu', 'tentando', 'enteder', 'essa', 'prova', 'da', 'avon', 'httpstcoroexkx5tuu'], '1'), (['rt', 'tracklist', 'tadeu', 'falando', 'aquela', 'marca', 'la', 'para', 'falar', 'da', 'avon', '', '22', 'httpstco3tiusg4win'], '1'), (['avon', 'colocou', 'uma', 'prova', 'que', 'ninguem', 'entende', 'so', 'pra', 'aparecer', 'mais', 'tempo', 'na', 'globo'], '1'), (['rt', 'jonathanwsg', 'o', 'tiago', 'abravanel', 'quando', 'sair', 'da', 'casa', 'apos', 'usar', 'avon', 'em', 'vez', 'de', 'jequiti', '\\n\\n22', 'provadolider', 'rede', 'httpstcoeff...'], '1'), (['o', 'silvio', 'santos', 'entrando', 'no', 'programa', 'pra', 'vetar', 'o', 'abravanel', 'da', 'prova', 'da', 'avon'], '1'), (['avon', 'e', 'nova', 'ao', 'contrario', 'ne'], '1'), (['rt', 'flamenguistama', '2022', 'que', 'eu', 'fui', 'descobrir', 'que', 'avon', 'de', 'tras', 'pra', 'frente', 'e', 'nova', '22', 'rede'], '1'), (['pequenalo', 'eu', 'olhando', 'essa', 'prova', 'e', 'se', 'lembro', 'disso', 'quando', 'penso', 'em', 'avon', 'httpstcocdejtxfuir'], '1'), (['endtoend', 'envisioneer', 'disintermediate', 'account', 'handcrafted', 'rupee', 'generate', 'sql', 'virtual', 'avon', 'associate', 'berkshire'], '1'), (['group', 'digital', 'functionalities', 'optical', 'rubber', 'sports', 'solutions', 'sexy', 'avon', 'webreadiness', 'legacy', 'arkansas'], '1'), (['to', 'assim', 'com', 'essa', 'prova', 'da', 'avon', '22', 'httpstcol7veaqgheh'], '0'), (['rt', 'dudu', 'so', 'eu', 'sei', 'o', 'tanto', 'que', 'eu', 'passava', 'os', 'pulso', 'em', 'revista', 'da', 'avon', 'quando', 'era', 'crianca', 'tinha', 'uns', 'que', 'o', 'cheiro', 'tava', 'so', 'da', 'seringueira', 'e...'], '0'), (['essa', 'prova', 'e', 'uma', 'brincadeira', 'de', 'extremissimo', 'mau', 'gosto', 'tal', 'qual', 'os', 'perfumes', 'avon', 'belissima', 'propaganda'], '1'), (['avon', 'que', 'prova', 'e', 'essa', 'minha', 'filha'], '1'), (['kaheleal', 'fabiogaj', 'nao', 'duvido', 'q', 'tenha', 'sido', 'por', 'causa', 'da', 'avon', ''], '0'), (['gente', 'ninguem', 'quis', 'ir', 'cheirar', 'o', 'perfume', 'da', 'avon', 'teve', 'que', 'mandar', 'a', 'natalia', '', '', '', '', '22'], '0'), (['vaidesmaiar', 'me', 'lembrou', 'da', 'amiga', 'da', 'minha', 'vo', 'que', 'vendia', 'avon', 'tambem', 'faleceu', 'ano', 'passado', 'por', 'conta', 'do', 'covid'], '0'), (['prova', 'chata', 'igual', 'a', 'avon', 'sou', 'mais', 'produtos', 'ivone'], '1'), (['perfume', 'da', 'avon', 'eu', 'lembro', 'desse', 'aqui\\nminha', 'avo', 'sempre', 'tinha', 'esses', 'vidros', 'no', 'quarto', 'dela', '\\n\\n22', 'httpstcoub4yr59zcw'], '1'), ([''], '1'), (['rt', 'tatinefertari', 'a', 'prova', 'de', 'hoje', 'e', 'com', 'aquela', 'marca', 'la', 'a', 'avon', '\\n\\no', 'deboche', 'do', 'tadeu', 'reizinho', 'melhor', 'apresentador...'], '1'), (['associate', 'rubber', 'avon', 'heights', 'cayman', 'deposit', 'driver', 'extension', 'generic', 'grocery', 'index', 'lime'], '1')]]\n"
     ]
    },
    {
     "ename": "KeyboardInterrupt",
     "evalue": "",
     "output_type": "error",
     "traceback": [
      "\u001b[0;31m---------------------------------------------------------------------------\u001b[0m",
      "\u001b[0;31mKeyboardInterrupt\u001b[0m                         Traceback (most recent call last)",
      "\u001b[0;32m<ipython-input-34-fb38919cd12e>\u001b[0m in \u001b[0;36m<module>\u001b[0;34m\u001b[0m\n\u001b[1;32m      6\u001b[0m     \u001b[0mRDD_TWEET\u001b[0m \u001b[0;34m=\u001b[0m \u001b[0mOUTPUT_DATA\u001b[0m \u001b[0;34m+\u001b[0m \u001b[0mtime\u001b[0m\u001b[0;34m.\u001b[0m\u001b[0mstrftime\u001b[0m\u001b[0;34m(\u001b[0m\u001b[0;34m\"%I%M%S\"\u001b[0m\u001b[0;34m)\u001b[0m\u001b[0;34m+\u001b[0m\u001b[0;34m'/'\u001b[0m\u001b[0;34m\u001b[0m\u001b[0;34m\u001b[0m\u001b[0m\n\u001b[1;32m      7\u001b[0m     \u001b[0mcont\u001b[0m \u001b[0;34m=\u001b[0m \u001b[0;32mTrue\u001b[0m\u001b[0;34m\u001b[0m\u001b[0;34m\u001b[0m\u001b[0m\n\u001b[0;32m----> 8\u001b[0;31m     \u001b[0;32mwhile\u001b[0m \u001b[0mcont\u001b[0m\u001b[0;34m:\u001b[0m\u001b[0;34m\u001b[0m\u001b[0;34m\u001b[0m\u001b[0m\n\u001b[0m\u001b[1;32m      9\u001b[0m       \u001b[0;32mif\u001b[0m \u001b[0mlen\u001b[0m\u001b[0;34m(\u001b[0m\u001b[0mresultados\u001b[0m\u001b[0;34m)\u001b[0m \u001b[0;34m>\u001b[0m \u001b[0mUPDATE\u001b[0m\u001b[0;34m:\u001b[0m\u001b[0;34m\u001b[0m\u001b[0;34m\u001b[0m\u001b[0m\n\u001b[1;32m     10\u001b[0m         \u001b[0mcont\u001b[0m \u001b[0;34m=\u001b[0m \u001b[0;32mFalse\u001b[0m\u001b[0;34m\u001b[0m\u001b[0;34m\u001b[0m\u001b[0m\n",
      "\u001b[0;31mKeyboardInterrupt\u001b[0m: "
     ]
    }
   ],
   "source": [
    "# Obtendo os resultados e salvando em disco\n",
    "time_now = time.strftime(\"%Y-%m-%d-%H-%M-%S\")\n",
    "\n",
    "while time_now < FINAL_TIME:\n",
    "    RDD_SAVE = RDD_ADDRESS + time.strftime(\"%I%M%S\")+'/'\n",
    "    RDD_TWEET = OUTPUT_DATA + time.strftime(\"%I%M%S\")+'/'\n",
    "    cont = True\n",
    "    while cont:\n",
    "      if len(resultados) > UPDATE:\n",
    "        cont = False\n",
    "\n",
    "    # Grava os resultados\n",
    "    resultados_rdd = sc.parallelize(resultados)\n",
    "    resultados_rdd.saveAsTextFile(RDD_SAVE)\n",
    "    \n",
    "    tweet_list_rdd = sc.parallelize(tweet_list)\n",
    "    tweet_list_rdd.saveAsTextFile(RDD_TWEET)\n",
    "\n",
    "    # Visualiza os resultados\n",
    "    resultados_rdd.collect()\n",
    "    tweet_list_rdd.collect()\n",
    "    \n",
    "    resultados = []\n",
    "    tweet_list = []\n",
    "\n",
    "    time_now = time.strftime(\"%Y-%m-%d-%H-%M-%S\")"
   ]
  },
  {
   "cell_type": "code",
   "execution_count": null,
   "metadata": {},
   "outputs": [],
   "source": [
    "# Visualiza os resultados\n",
    "resultados_rdd.collect()\n",
    "#tweet_list_rdd.collect()"
   ]
  },
  {
   "cell_type": "code",
   "execution_count": null,
   "metadata": {},
   "outputs": [],
   "source": [
    "# Finaliza o streaming\n",
    "ssc.stop()"
   ]
  },
  {
   "cell_type": "markdown",
   "metadata": {},
   "source": [
    "# Fim"
   ]
  }
 ],
 "metadata": {
  "anaconda-cloud": {},
  "kernelspec": {
   "display_name": "Python 3",
   "language": "python",
   "name": "python3"
  },
  "language_info": {
   "codemirror_mode": {
    "name": "ipython",
    "version": 3
   },
   "file_extension": ".py",
   "mimetype": "text/x-python",
   "name": "python",
   "nbconvert_exporter": "python",
   "pygments_lexer": "ipython3",
   "version": "3.7.10"
  }
 },
 "nbformat": 4,
 "nbformat_minor": 1
}
