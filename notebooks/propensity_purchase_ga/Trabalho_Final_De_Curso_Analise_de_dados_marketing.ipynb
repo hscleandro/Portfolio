{
  "cells": [
    {
      "cell_type": "markdown",
      "metadata": {
        "id": "3xlFTeKk-2av"
      },
      "source": [
        "**Project**: E-commerce propensity purchase based on Google Analytics Data \n",
        "\n",
        "**developed by**: Leandro Corrêa\n",
        "\n",
        "**Versão**: 1.0\n",
        "\n",
        "**Last update:** 10.01:.2022"
      ]
    },
    {
      "cell_type": "markdown",
      "metadata": {
        "id": "U3KTVPvmkc3l"
      },
      "source": [
        "**Definition of the Problem:**\n",
        "\n",
        "Build a predictive model to identify the user's propensity to purchase, based on browsing behavior metrics obtained from Google Analytics."
      ]
    },
    {
      "cell_type": "markdown",
      "metadata": {
        "id": "f7ln9IglkwfW"
      },
      "source": [
        "**Data source used:**\n",
        "\n",
        "*Online Shoppers Purchasing Intention Dataset*\n",
        "\n",
        "https://archive.ics.uci.edu/ml/datasets/Online+Shoppers+Purchasing+Intention+Dataset\n",
        "\n",
        "The dataset consists of feature vectors belonging to 12,330 online sessions. The dataset was formed so that each session belongs to a different user over a period of 1 year.\n",
        "\n",
        "```\n",
        "# Isto está formatado como código\n",
        "```\n",
        "\n",
        "\n"
      ]
    },
    {
      "cell_type": "markdown",
      "metadata": {
        "id": "l-Y7IreDlLgb"
      },
      "source": [
        "## **Importando pacotes**\n",
        "## Libraries"
      ]
    },
    {
      "cell_type": "code",
      "execution_count": null,
      "metadata": {
        "colab": {
          "base_uri": "https://localhost:8080/"
        },
        "id": "WFbEvaPrlfbZ",
        "outputId": "99ff0f4b-7949-4dcf-b4be-50c228e510d9"
      },
      "outputs": [
        {
          "output_type": "stream",
          "name": "stdout",
          "text": [
            "Looking in indexes: https://pypi.org/simple, https://us-python.pkg.dev/colab-wheels/public/simple/\n",
            "Collecting icecream\n",
            "  Downloading icecream-2.1.3-py2.py3-none-any.whl (8.4 kB)\n",
            "Requirement already satisfied: pygments>=2.2.0 in /usr/local/lib/python3.9/dist-packages (from icecream) (2.14.0)\n",
            "Collecting colorama>=0.3.9\n",
            "  Downloading colorama-0.4.6-py2.py3-none-any.whl (25 kB)\n",
            "Collecting asttokens>=2.0.1\n",
            "  Downloading asttokens-2.2.1-py2.py3-none-any.whl (26 kB)\n",
            "Collecting executing>=0.3.1\n",
            "  Downloading executing-1.2.0-py2.py3-none-any.whl (24 kB)\n",
            "Requirement already satisfied: six in /usr/local/lib/python3.9/dist-packages (from asttokens>=2.0.1->icecream) (1.16.0)\n",
            "Installing collected packages: executing, colorama, asttokens, icecream\n",
            "Successfully installed asttokens-2.2.1 colorama-0.4.6 executing-1.2.0 icecream-2.1.3\n"
          ]
        }
      ],
      "source": [
        "#Install packages\n",
        "!pip install -q imblearn\n",
        "!pip install icecream"
      ]
    },
    {
      "cell_type": "code",
      "execution_count": null,
      "metadata": {
        "id": "A3b7F3KJlb11"
      },
      "outputs": [],
      "source": [
        "# Imports\n",
        "import time\n",
        "import numpy as np\n",
        "import pandas as pd\n",
        "import seaborn as sns\n",
        "import matplotlib.pyplot as plt\n",
        "from sklearn.preprocessing import StandardScaler\n",
        "from sklearn.preprocessing import LabelEncoder\n",
        "from sklearn.model_selection import train_test_split\n",
        "from sklearn.model_selection import GridSearchCV\n",
        "from sklearn.ensemble import RandomForestClassifier\n",
        "from sklearn.ensemble import AdaBoostClassifier\n",
        "import lightgbm as lgb\n",
        "from sklearn.metrics import precision_score, recall_score, f1_score, accuracy_score, roc_auc_score\n",
        "from sklearn.model_selection import KFold\n",
        "from sklearn.model_selection import cross_val_score\n",
        "from sklearn import svm\n",
        "import sklearn\n",
        "import matplotlib\n",
        "\n",
        "from icecream import ic\n",
        "import imblearn\n",
        "from imblearn.over_sampling import SMOTE\n",
        "\n",
        "import warnings\n",
        "warnings.filterwarnings('ignore')\n",
        "# Seed para reproduzir o mesmo resultado\n",
        "seed = 100"
      ]
    },
    {
      "cell_type": "markdown",
      "metadata": {
        "id": "M8HpQV2MMNn_"
      },
      "source": [
        "## **Definindo classes e funções**\n",
        "## Defining classes and functions"
      ]
    },
    {
      "cell_type": "code",
      "execution_count": null,
      "metadata": {
        "id": "XK8A4UzdpUz-"
      },
      "outputs": [],
      "source": [
        "class Loader:\n",
        "\n",
        "    def __init__(self):\n",
        "      \"\"\" Initialize the dataset object\n",
        "      \"\"\"\n",
        "      self.dataset = None\n",
        "\n",
        "    def load_data(self, dataset_url: str):\n",
        "        \"\"\" Loads and returns a dataset.\n",
        "        \"\"\"\n",
        "        self.dataset = pd.read_csv(dataset_url)\n",
        "\n",
        "        return self.dataset\n",
        "\n",
        "    def data_dictionary(self,):\n",
        "      \"\"\" Write the loaded data dictionary\n",
        "      \"\"\"\n",
        "      f = open(\"dict.txt\", \"r\")\n",
        "      print(f.read())\n",
        "\n",
        "class PreProcessor:\n",
        "\n",
        "    def remove_missing(self, df):\n",
        "      \"\"\" remove missing data\n",
        "      \"\"\"\n",
        "      initial_shape = df.shape[0]\n",
        "      df.dropna(inplace = True)\n",
        "      final_shape =  df.shape[0]\n",
        "\n",
        "      print(f'{initial_shape - final_shape} instâncias foram removidas.')\n",
        "\n",
        "      return df\n",
        "\n",
        "    def extract_categorical_continuos_vars(self, df, xlim = 30):\n",
        "      \"\"\" Method distinguishes between categorical and continuous variables,\n",
        "           that makes up the dataset.\n",
        "           We are using variables with number of\n",
        "           unique instances greater than or equal to xlim for\n",
        "           infer that a variable is continuous, and the reverse\n",
        "           to classify it as categorical.\n",
        "      \"\"\"\n",
        "      # Empty lists for results\n",
        "      continuous = []\n",
        "      categorical = []\n",
        "\n",
        "      # Loop pelas colunas\n",
        "      for c in df.columns[:-1]:\n",
        "          if df.nunique()[c] >= 30:\n",
        "              continuous.append(c)\n",
        "          else:\n",
        "              categorical.append(c)\n",
        "\n",
        "      return categorical, continuous\n",
        "\n",
        "    def encoder(self, df, vars):\n",
        "      \"\"\" Method that transforms categorical values into numerical ones.\n",
        "           vars: list of categorical variables to be transformed \n",
        "      \"\"\"\n",
        "      # Cria o encoder\n",
        "      lb = LabelEncoder()\n",
        "      initial_shape = df.shape[0]\n",
        "      \n",
        "      # Aplica o encoder nas variáveis que estão com string\n",
        "      df[vars[0]] = lb.fit_transform(df[vars[0]])\n",
        "      df[vars[1]] = lb.fit_transform(df[vars[1]])\n",
        "\n",
        "      # Remove valores missing eventualmente gerados\n",
        "      df.dropna(inplace = True)\n",
        "      print(f'{initial_shape - df.shape[0]} instâncias foram removidas.')\n",
        "\n",
        "      return df\n",
        "\n",
        "    def balance_classes(self, df, ylimit = 17):\n",
        "      \"\"\" Method that balances output classes using oversampling\n",
        "      \"\"\"\n",
        "      print(str(type(df)))\n",
        "      # Separa X e y\n",
        "      X = df.iloc[:, 0:ylimit]  \n",
        "      y = df.iloc[:, ylimit] \n",
        "\n",
        "      # Cria o balanceador SMOTE\n",
        "      smote_bal = SMOTE(random_state = seed)\n",
        "\n",
        "      # Aplica o balanceador\n",
        "      X_res, y_res = smote_bal.fit_resample(X, y)\n",
        "\n",
        "      print('Numero de linhas no conjunto X: ' + str(X_res.shape[0]))\n",
        "      print('Numero de cokunas no conjunto X: ' + str(X_res.shape[1]))\n",
        "\n",
        "      print('Numero de linhas no conjunto y: ' + str(y_res.shape[0]))\n",
        "\n",
        "      return X_res, y_res\n",
        " \n",
        "class MLModel:\n",
        "\n",
        "    def trainLinearSVM(self, X_treino, y_treino):\n",
        "        \"\"\" Create and train an SVM model with Linear Kernel.\n",
        "        \"\"\"\n",
        "        # Cria o modelo\n",
        "        model = svm.SVC(kernel = 'linear')\n",
        "        # Treinamento\n",
        "        start = time.time()\n",
        "        model.fit(X_treino, y_treino)\n",
        "        end = time.time()\n",
        "        print('Model Training Time:', end - start)\n",
        "\n",
        "        return model\n",
        "      \n",
        "    def trainRbfGridSVM(self, X_treino, y_treino):\n",
        "        \"\"\" Create and train an SVM model with Kernel from a function of\n",
        "           radial base (RBF). Uses a grid search strategy like\n",
        "           hyperparameter.\n",
        "      \"\"\"\n",
        "      # create model\n",
        "      model = svm.SVC(kernel = 'rbf')\n",
        "\n",
        "      # grid values\n",
        "      c_range = np.array([50., 100., 200.])\n",
        "      gamma_range = np.array([0.3*0.001,0.001,3*0.001])\n",
        "\n",
        "      # Grid dhiperparameters\n",
        "      svm_param_grid = dict(gamma = gamma_range, C = c_range)\n",
        "\n",
        "      # Grid Search\n",
        "      start = time.time()\n",
        "      model_grid_search_rbf = GridSearchCV(model, svm_param_grid, cv = 3)\n",
        "\n",
        "      # Treining\n",
        "      model_grid_search_rbf.fit(X_treino, y_treino)\n",
        "      end = time.time()\n",
        "      print('Model Training Time com Grid Search:', end - start)\n",
        "\n",
        "      # Acuracy in taining\n",
        "      print(f\"Acurácia em Treinamento: {model_grid_search_rbf.best_score_ :.2%}\")\n",
        "      print(\"\")\n",
        "      print(f\"Hiperparâmetros Ideais: {model_grid_search_rbf.best_params_}\")\n",
        "\n",
        "      return model_grid_search_rbf\n",
        "\n",
        "    def trainPoliGridSVM(self, X_treino, y_treino):\n",
        "      \"\"\" Create and train an SVM model with Kernel from a function\n",
        "           polynomial. Uses a grid search strategy like\n",
        "           hyperparameter.\n",
        "      \"\"\"\n",
        "      # Create model\n",
        "      model = svm.SVC(kernel = 'poly')\n",
        "\n",
        "      # Grid values\n",
        "      r_range =  np.array([0.5, 1])\n",
        "      gamma_range =  np.array([0.001, 0.01])\n",
        "      d_range = np.array([2,3, 4])\n",
        "\n",
        "      # Grid de hiperparamters\n",
        "      param_grid_poly = dict(gamma = gamma_range, degree = d_range, coef0 = r_range)\n",
        "\n",
        "      # Grid Search\n",
        "      start = time.time()\n",
        "      model_grid_search_poly = GridSearchCV(model, param_grid_poly, cv = 3)\n",
        "\n",
        "      # Training\n",
        "      model_grid_search_poly.fit(X_treino, y_treino)\n",
        "      end = time.time()\n",
        "      print('Model Training Time com Grid Search:', end - start)\n",
        "\n",
        "      # Acuracy in traning\n",
        "      print(f\"Acuracy in traning: {model_grid_search_poly.best_score_ :.2%}\")\n",
        "      print(\"\")\n",
        "      print(f\"Best hiperparameters: {model_grid_search_poly.best_params_}\")\n",
        "\n",
        "      return model_grid_search_poly\n",
        "\n",
        "    def adaboostCl(self, X_train, y_train, estimators = 1000, learning_rt = 1):\n",
        "      \"\"\" Create and train an Adaa Boost model.\n",
        "           It receives as parameter: number of estimators and learning rate.\n",
        "      \"\"\"\n",
        "      print('EStimators number: ' + str(estimators))\n",
        "      print('Learning tax: ' + str(learning_rt))\n",
        "      start = time.time()\n",
        "      \n",
        "      abc = AdaBoostClassifier(n_estimators=estimators,\n",
        "                               learning_rate=learning_rt)\n",
        "      # Train Adaboost Classifer\n",
        "      model = abc.fit(X_train, y_train)\n",
        "\n",
        "      end = time.time()\n",
        "      print('Model Training Time:', end - start)\n",
        "\n",
        "      return model\n",
        "\n",
        "    def trainRandonForestCl(self, X_train, y_train, estimators = 1000):\n",
        "      f adaboostCl(self, X_train, y_train, estimators = 1000, learning_rt = 1):\n",
        "      \"\"\" Create and train a Random Forest model. \n",
        "          Receives as a parameter: number of estimators.\n",
        "      \"\"\"\n",
        "      print('Numero de estimadores: ' + str(estimators))\n",
        "      start = time.time()\n",
        "\n",
        "      # Create model\n",
        "      rf = RandomForestClassifier(n_estimators = estimators)\n",
        "\n",
        "      # Training model\n",
        "      rf.fit(X_train, y_train)\n",
        "\n",
        "      end = time.time()\n",
        "      print('Model Training Time:', end - start)\n",
        "\n",
        "      return rf\n",
        "    \n",
        "    def trainLGBMcl(self, X_train, y_train):\n",
        "      \"\"\" Create and train an LGMB model\n",
        "      \"\"\"\n",
        "      start = time.time()\n",
        "\n",
        "      # Cria o modelo\n",
        "      lgbm = lgb.LGBMClassifier()\n",
        "      \n",
        "      # Treina modelo\n",
        "      lgbm.fit(X_train, y_train)\n",
        "\n",
        "      end = time.time()\n",
        "      print('Model Training Time:', end - start)\n",
        "\n",
        "      return lgbm\n",
        "\n",
        "\n",
        "class MlEvaluator:\n",
        "\n",
        "    def evaluate_accuracy(self, model, X_test, y_teste, kernel = \"NO\", \n",
        "                          algorithm = \"\", version = '1'):\n",
        "        \"\"\" Make a prediction and evaluate the models.\n",
        "             Returns a dictionary containing the evaluation metrics\n",
        "             and basic description of the model. \n",
        "        \"\"\"\n",
        "        # Previsions\n",
        "        predictions = model.predict(X_test)\n",
        "        \n",
        "        # Dictionary of metrics and metadata\n",
        "        dict_previsions = {'Modelo':algorithm,\n",
        "                          'Versão':version,\n",
        "                          'Kernel':kernel,\n",
        "                          'Precision':precision_score(predictions, y_teste),\n",
        "                          'Recall':recall_score(predictions, y_teste),\n",
        "                          'F1 Score':f1_score(predictions, y_teste),\n",
        "                          'Acurácia':accuracy_score(predictions, y_teste),\n",
        "                          'AUC':roc_auc_score(y_teste, predictions)}\n",
        "        ic(dict_previsions)\n",
        "\n",
        "        return dict_previsions\n",
        "\n",
        "    def cross_validationCl(self, models, folds = 10, scoring = 'accuracy):\n",
        "        \"\"\" Receives a list of models and returns the result containing metrics\n",
        "             assessment based on a cross-validation analysis.\n",
        "        \"\"\"\n",
        "        # evaluating one model at a time\n",
        "        results = []\n",
        "        names = []\n",
        "\n",
        "        for name, model in models:\n",
        "          kfold = KFold(n_splits=folds)\n",
        "          cv_results = cross_val_score(model, X_treino_scaled, y_treino, cv=kfold, scoring=scoring)\n",
        "          results.append(cv_results)\n",
        "          names.append(name)\n",
        "          msg = \"%s: %f (%f)\" % (name, cv_results.mean(), cv_results.std()) \n",
        "          print(msg)\n",
        "\n",
        "        return results"
      ]
    },
    {
      "cell_type": "markdown",
      "metadata": {
        "id": "Ld-9UBIBugX4"
      },
      "source": [
        "## **Carregando os dados**\n",
        "## Data Loading"
      ]
    },
    {
      "cell_type": "code",
      "execution_count": null,
      "metadata": {
        "id": "N7cajBKJusfn"
      },
      "outputs": [],
      "source": [
        "url_dados = 'online_shoppers_intention.csv'\n",
        "loader = Loader()"
      ]
    },
    {
      "cell_type": "code",
      "execution_count": null,
      "metadata": {
        "colab": {
          "base_uri": "https://localhost:8080/",
          "height": 255
        },
        "id": "qQvENnkEl7U5",
        "outputId": "76d76abf-b0ae-47bb-9b6c-5d0acdb4f5a2"
      },
      "outputs": [
        {
          "data": {
            "text/html": [
              "\n",
              "  <div id=\"df-78055845-c2c9-4361-b6b6-3fcaa0d2b7d6\">\n",
              "    <div class=\"colab-df-container\">\n",
              "      <div>\n",
              "<style scoped>\n",
              "    .dataframe tbody tr th:only-of-type {\n",
              "        vertical-align: middle;\n",
              "    }\n",
              "\n",
              "    .dataframe tbody tr th {\n",
              "        vertical-align: top;\n",
              "    }\n",
              "\n",
              "    .dataframe thead th {\n",
              "        text-align: right;\n",
              "    }\n",
              "</style>\n",
              "<table border=\"1\" class=\"dataframe\">\n",
              "  <thead>\n",
              "    <tr style=\"text-align: right;\">\n",
              "      <th></th>\n",
              "      <th>Administrative</th>\n",
              "      <th>Administrative_Duration</th>\n",
              "      <th>Informational</th>\n",
              "      <th>Informational_Duration</th>\n",
              "      <th>ProductRelated</th>\n",
              "      <th>ProductRelated_Duration</th>\n",
              "      <th>BounceRates</th>\n",
              "      <th>ExitRates</th>\n",
              "      <th>PageValues</th>\n",
              "      <th>SpecialDay</th>\n",
              "      <th>Month</th>\n",
              "      <th>OperatingSystems</th>\n",
              "      <th>Browser</th>\n",
              "      <th>Region</th>\n",
              "      <th>TrafficType</th>\n",
              "      <th>VisitorType</th>\n",
              "      <th>Weekend</th>\n",
              "      <th>Revenue</th>\n",
              "    </tr>\n",
              "  </thead>\n",
              "  <tbody>\n",
              "    <tr>\n",
              "      <th>0</th>\n",
              "      <td>0.0</td>\n",
              "      <td>0.0</td>\n",
              "      <td>0.0</td>\n",
              "      <td>0.0</td>\n",
              "      <td>1.0</td>\n",
              "      <td>0.000000</td>\n",
              "      <td>0.20</td>\n",
              "      <td>0.20</td>\n",
              "      <td>0.0</td>\n",
              "      <td>0.0</td>\n",
              "      <td>Feb</td>\n",
              "      <td>1</td>\n",
              "      <td>1</td>\n",
              "      <td>1</td>\n",
              "      <td>1</td>\n",
              "      <td>Returning_Visitor</td>\n",
              "      <td>False</td>\n",
              "      <td>False</td>\n",
              "    </tr>\n",
              "    <tr>\n",
              "      <th>1</th>\n",
              "      <td>0.0</td>\n",
              "      <td>0.0</td>\n",
              "      <td>0.0</td>\n",
              "      <td>0.0</td>\n",
              "      <td>2.0</td>\n",
              "      <td>64.000000</td>\n",
              "      <td>0.00</td>\n",
              "      <td>0.10</td>\n",
              "      <td>0.0</td>\n",
              "      <td>0.0</td>\n",
              "      <td>Feb</td>\n",
              "      <td>2</td>\n",
              "      <td>2</td>\n",
              "      <td>1</td>\n",
              "      <td>2</td>\n",
              "      <td>Returning_Visitor</td>\n",
              "      <td>False</td>\n",
              "      <td>False</td>\n",
              "    </tr>\n",
              "    <tr>\n",
              "      <th>2</th>\n",
              "      <td>0.0</td>\n",
              "      <td>-1.0</td>\n",
              "      <td>0.0</td>\n",
              "      <td>-1.0</td>\n",
              "      <td>1.0</td>\n",
              "      <td>-1.000000</td>\n",
              "      <td>0.20</td>\n",
              "      <td>0.20</td>\n",
              "      <td>0.0</td>\n",
              "      <td>0.0</td>\n",
              "      <td>Feb</td>\n",
              "      <td>4</td>\n",
              "      <td>1</td>\n",
              "      <td>9</td>\n",
              "      <td>3</td>\n",
              "      <td>Returning_Visitor</td>\n",
              "      <td>False</td>\n",
              "      <td>False</td>\n",
              "    </tr>\n",
              "    <tr>\n",
              "      <th>3</th>\n",
              "      <td>0.0</td>\n",
              "      <td>0.0</td>\n",
              "      <td>0.0</td>\n",
              "      <td>0.0</td>\n",
              "      <td>2.0</td>\n",
              "      <td>2.666667</td>\n",
              "      <td>0.05</td>\n",
              "      <td>0.14</td>\n",
              "      <td>0.0</td>\n",
              "      <td>0.0</td>\n",
              "      <td>Feb</td>\n",
              "      <td>3</td>\n",
              "      <td>2</td>\n",
              "      <td>2</td>\n",
              "      <td>4</td>\n",
              "      <td>Returning_Visitor</td>\n",
              "      <td>False</td>\n",
              "      <td>False</td>\n",
              "    </tr>\n",
              "    <tr>\n",
              "      <th>4</th>\n",
              "      <td>0.0</td>\n",
              "      <td>0.0</td>\n",
              "      <td>0.0</td>\n",
              "      <td>0.0</td>\n",
              "      <td>10.0</td>\n",
              "      <td>627.500000</td>\n",
              "      <td>0.02</td>\n",
              "      <td>0.05</td>\n",
              "      <td>0.0</td>\n",
              "      <td>0.0</td>\n",
              "      <td>Feb</td>\n",
              "      <td>3</td>\n",
              "      <td>3</td>\n",
              "      <td>1</td>\n",
              "      <td>4</td>\n",
              "      <td>Returning_Visitor</td>\n",
              "      <td>True</td>\n",
              "      <td>False</td>\n",
              "    </tr>\n",
              "  </tbody>\n",
              "</table>\n",
              "</div>\n",
              "      <button class=\"colab-df-convert\" onclick=\"convertToInteractive('df-78055845-c2c9-4361-b6b6-3fcaa0d2b7d6')\"\n",
              "              title=\"Convert this dataframe to an interactive table.\"\n",
              "              style=\"display:none;\">\n",
              "        \n",
              "  <svg xmlns=\"http://www.w3.org/2000/svg\" height=\"24px\"viewBox=\"0 0 24 24\"\n",
              "       width=\"24px\">\n",
              "    <path d=\"M0 0h24v24H0V0z\" fill=\"none\"/>\n",
              "    <path d=\"M18.56 5.44l.94 2.06.94-2.06 2.06-.94-2.06-.94-.94-2.06-.94 2.06-2.06.94zm-11 1L8.5 8.5l.94-2.06 2.06-.94-2.06-.94L8.5 2.5l-.94 2.06-2.06.94zm10 10l.94 2.06.94-2.06 2.06-.94-2.06-.94-.94-2.06-.94 2.06-2.06.94z\"/><path d=\"M17.41 7.96l-1.37-1.37c-.4-.4-.92-.59-1.43-.59-.52 0-1.04.2-1.43.59L10.3 9.45l-7.72 7.72c-.78.78-.78 2.05 0 2.83L4 21.41c.39.39.9.59 1.41.59.51 0 1.02-.2 1.41-.59l7.78-7.78 2.81-2.81c.8-.78.8-2.07 0-2.86zM5.41 20L4 18.59l7.72-7.72 1.47 1.35L5.41 20z\"/>\n",
              "  </svg>\n",
              "      </button>\n",
              "      \n",
              "  <style>\n",
              "    .colab-df-container {\n",
              "      display:flex;\n",
              "      flex-wrap:wrap;\n",
              "      gap: 12px;\n",
              "    }\n",
              "\n",
              "    .colab-df-convert {\n",
              "      background-color: #E8F0FE;\n",
              "      border: none;\n",
              "      border-radius: 50%;\n",
              "      cursor: pointer;\n",
              "      display: none;\n",
              "      fill: #1967D2;\n",
              "      height: 32px;\n",
              "      padding: 0 0 0 0;\n",
              "      width: 32px;\n",
              "    }\n",
              "\n",
              "    .colab-df-convert:hover {\n",
              "      background-color: #E2EBFA;\n",
              "      box-shadow: 0px 1px 2px rgba(60, 64, 67, 0.3), 0px 1px 3px 1px rgba(60, 64, 67, 0.15);\n",
              "      fill: #174EA6;\n",
              "    }\n",
              "\n",
              "    [theme=dark] .colab-df-convert {\n",
              "      background-color: #3B4455;\n",
              "      fill: #D2E3FC;\n",
              "    }\n",
              "\n",
              "    [theme=dark] .colab-df-convert:hover {\n",
              "      background-color: #434B5C;\n",
              "      box-shadow: 0px 1px 3px 1px rgba(0, 0, 0, 0.15);\n",
              "      filter: drop-shadow(0px 1px 2px rgba(0, 0, 0, 0.3));\n",
              "      fill: #FFFFFF;\n",
              "    }\n",
              "  </style>\n",
              "\n",
              "      <script>\n",
              "        const buttonEl =\n",
              "          document.querySelector('#df-78055845-c2c9-4361-b6b6-3fcaa0d2b7d6 button.colab-df-convert');\n",
              "        buttonEl.style.display =\n",
              "          google.colab.kernel.accessAllowed ? 'block' : 'none';\n",
              "\n",
              "        async function convertToInteractive(key) {\n",
              "          const element = document.querySelector('#df-78055845-c2c9-4361-b6b6-3fcaa0d2b7d6');\n",
              "          const dataTable =\n",
              "            await google.colab.kernel.invokeFunction('convertToInteractive',\n",
              "                                                     [key], {});\n",
              "          if (!dataTable) return;\n",
              "\n",
              "          const docLinkHtml = 'Like what you see? Visit the ' +\n",
              "            '<a target=\"_blank\" href=https://colab.research.google.com/notebooks/data_table.ipynb>data table notebook</a>'\n",
              "            + ' to learn more about interactive tables.';\n",
              "          element.innerHTML = '';\n",
              "          dataTable['output_type'] = 'display_data';\n",
              "          await google.colab.output.renderOutput(dataTable, element);\n",
              "          const docLink = document.createElement('div');\n",
              "          docLink.innerHTML = docLinkHtml;\n",
              "          element.appendChild(docLink);\n",
              "        }\n",
              "      </script>\n",
              "    </div>\n",
              "  </div>\n",
              "  "
            ],
            "text/plain": [
              "   Administrative  Administrative_Duration  ...  Weekend  Revenue\n",
              "0             0.0                      0.0  ...    False    False\n",
              "1             0.0                      0.0  ...    False    False\n",
              "2             0.0                     -1.0  ...    False    False\n",
              "3             0.0                      0.0  ...    False    False\n",
              "4             0.0                      0.0  ...     True    False\n",
              "\n",
              "[5 rows x 18 columns]"
            ]
          },
          "execution_count": 5,
          "metadata": {},
          "output_type": "execute_result"
        }
      ],
      "source": [
        "# Carregando os dados\n",
        "dataset = loader.load_data(url_dados)\n",
        "dataset.head()"
      ]
    },
    {
      "cell_type": "code",
      "execution_count": null,
      "metadata": {
        "colab": {
          "base_uri": "https://localhost:8080/"
        },
        "id": "_tQgoYMynrWR",
        "outputId": "4cafbfe3-9cbf-40a0-8a1c-97607dc3218b"
      },
      "outputs": [
        {
          "name": "stdout",
          "output_type": "stream",
          "text": [
            "Dicionário de Dados:\n",
            "\n",
            "\"Administrativo\", \"Duração administrativa\", \"Informativo\", \"Duração informativo\", \"Relacionado ao produto\" e \"Duração relacionada ao produto\" representam o número de diferentes tipos de páginas visitadas pelo visitante nessa sessão e o tempo total gasto em cada uma dessas categorias de página. Os valores desses recursos são derivados das informações de URL das páginas visitadas pelo usuário e atualizadas em tempo real quando um usuário executa uma ação, por exemplo, passando de uma página para outra.\n",
            "\n",
            "Os recursos \"Taxa de rejeição\", \"Taxa de saída\" e \"Valor da página\" representam as métricas medidas pelo \"Google Analytics\" para cada página no site de comércio eletrônico.\n",
            "\n",
            "O valor do recurso \"Taxa de rejeição\" de uma página da web refere-se à porcentagem de visitantes que entram no site a partir dessa página e saem (\"rejeição\") sem acionar outras solicitações ao servidor durante essa sessão.\n",
            "\n",
            "O valor do recurso \"Taxa de saída\" para uma página da web específica é calculado como a porcentagem que foi a última na sessão, para todas as exibições de página a página.\n",
            "\n",
            "O recurso \"Valor da página\" representa o valor médio para uma página da web que um usuário visitou antes de concluir uma transação de comércio eletrônico.\n",
            "\n",
            "O recurso \"Dia especial\" indica a proximidade do horário de visita do site a um dia especial específico (por exemplo, dia das mães, dia dos namorados) em que as sessões têm mais probabilidade de serem finalizadas com a transação. O valor desse atributo é determinado considerando a dinâmica do comércio eletrônico, como a duração entre a data do pedido e a data de entrega. Por exemplo, no dia dos namorados, esse valor assume um valor diferente de zero entre 2 e 12 de fevereiro (dia dos namorados nos EUA e Europa), zero antes e depois dessa data, a menos que esteja próximo de outro dia especial e seu valor máximo de 1 em 8 de fevereiro.\n",
            "\n",
            "O conjunto de dados também inclui o tipo de sistema operacional, navegador, região, tipo de tráfego, tipo de visitante como visitante novo ou recorrente, um valor booleano indicando se a data da visita é final de semana e mês do ano.\n",
            "\n",
            "A variável alvo (Revenue) é booleana, com True se a sessão gerou receita e False se não gerou.\n"
          ]
        }
      ],
      "source": [
        "# Printando informações sobre os dados\n",
        "loader.data_dictionary()"
      ]
    },
    {
      "cell_type": "markdown",
      "metadata": {
        "id": "TUyHMkOPwZrU"
      },
      "source": [
        "## **Préprocessamento - Parte 1**\n",
        "## Preprocessing - Part 1"
      ]
    },
    {
      "cell_type": "code",
      "execution_count": null,
      "metadata": {
        "colab": {
          "base_uri": "https://localhost:8080/"
        },
        "id": "5LmWAVEvoTki",
        "outputId": "a2cf5ed1-be22-4f59-c33f-a33cf93fe432"
      },
      "outputs": [
        {
          "name": "stdout",
          "output_type": "stream",
          "text": [
            "14 instâncias foram removidas.\n"
          ]
        },
        {
          "data": {
            "text/plain": [
              "(12316, 18)"
            ]
          },
          "execution_count": 7,
          "metadata": {},
          "output_type": "execute_result"
        }
      ],
      "source": [
        "# Removing the missing values\n",
        "preprocessor = PreProcessor()\n",
        "dataset = preprocessor.remove_missing(dataset)\n",
        "# Checking the number of rows and columns\n",
        "dataset.shape"
      ]
    },
    {
      "cell_type": "code",
      "execution_count": null,
      "metadata": {
        "colab": {
          "base_uri": "https://localhost:8080/"
        },
        "id": "LaC84lrHzoVh",
        "outputId": "d606a63a-e2fa-4729-aece-acdccc7d1b82"
      },
      "outputs": [
        {
          "data": {
            "text/plain": [
              "Administrative               27\n",
              "Administrative_Duration    3336\n",
              "Informational                17\n",
              "Informational_Duration     1259\n",
              "ProductRelated              311\n",
              "ProductRelated_Duration    9552\n",
              "BounceRates                1872\n",
              "ExitRates                  4777\n",
              "PageValues                 2704\n",
              "SpecialDay                    6\n",
              "Month                        10\n",
              "OperatingSystems              8\n",
              "Browser                      13\n",
              "Region                        9\n",
              "TrafficType                  20\n",
              "VisitorType                   3\n",
              "Weekend                       2\n",
              "Revenue                       2\n",
              "dtype: int64"
            ]
          },
          "execution_count": 8,
          "metadata": {},
          "output_type": "execute_result"
        }
      ],
      "source": [
        "# Checking for Unique Values\n",
        "dataset.nunique()"
      ]
    },
    {
      "cell_type": "code",
      "execution_count": null,
      "metadata": {
        "colab": {
          "base_uri": "https://localhost:8080/"
        },
        "id": "-uhU_mBF1M_H",
        "outputId": "37874732-6ac8-466e-9e1c-d80ff2e16269"
      },
      "outputs": [
        {
          "data": {
            "text/html": [
              "\n",
              "  <div id=\"df-20367ad7-3696-48b7-86fd-a595460fcb3a\">\n",
              "    <div class=\"colab-df-container\">\n",
              "      <div>\n",
              "<style scoped>\n",
              "    .dataframe tbody tr th:only-of-type {\n",
              "        vertical-align: middle;\n",
              "    }\n",
              "\n",
              "    .dataframe tbody tr th {\n",
              "        vertical-align: top;\n",
              "    }\n",
              "\n",
              "    .dataframe thead th {\n",
              "        text-align: right;\n",
              "    }\n",
              "</style>\n",
              "<table border=\"1\" class=\"dataframe\">\n",
              "  <thead>\n",
              "    <tr style=\"text-align: right;\">\n",
              "      <th></th>\n",
              "      <th>Administrative</th>\n",
              "      <th>Informational</th>\n",
              "      <th>SpecialDay</th>\n",
              "      <th>Month</th>\n",
              "      <th>OperatingSystems</th>\n",
              "      <th>Browser</th>\n",
              "      <th>Region</th>\n",
              "      <th>TrafficType</th>\n",
              "      <th>VisitorType</th>\n",
              "      <th>Weekend</th>\n",
              "    </tr>\n",
              "  </thead>\n",
              "  <tbody>\n",
              "    <tr>\n",
              "      <th>0</th>\n",
              "      <td>0.0</td>\n",
              "      <td>0.0</td>\n",
              "      <td>0.0</td>\n",
              "      <td>Feb</td>\n",
              "      <td>1</td>\n",
              "      <td>1</td>\n",
              "      <td>1</td>\n",
              "      <td>1</td>\n",
              "      <td>Returning_Visitor</td>\n",
              "      <td>False</td>\n",
              "    </tr>\n",
              "    <tr>\n",
              "      <th>1</th>\n",
              "      <td>0.0</td>\n",
              "      <td>0.0</td>\n",
              "      <td>0.0</td>\n",
              "      <td>Feb</td>\n",
              "      <td>2</td>\n",
              "      <td>2</td>\n",
              "      <td>1</td>\n",
              "      <td>2</td>\n",
              "      <td>Returning_Visitor</td>\n",
              "      <td>False</td>\n",
              "    </tr>\n",
              "    <tr>\n",
              "      <th>2</th>\n",
              "      <td>0.0</td>\n",
              "      <td>0.0</td>\n",
              "      <td>0.0</td>\n",
              "      <td>Feb</td>\n",
              "      <td>4</td>\n",
              "      <td>1</td>\n",
              "      <td>9</td>\n",
              "      <td>3</td>\n",
              "      <td>Returning_Visitor</td>\n",
              "      <td>False</td>\n",
              "    </tr>\n",
              "    <tr>\n",
              "      <th>3</th>\n",
              "      <td>0.0</td>\n",
              "      <td>0.0</td>\n",
              "      <td>0.0</td>\n",
              "      <td>Feb</td>\n",
              "      <td>3</td>\n",
              "      <td>2</td>\n",
              "      <td>2</td>\n",
              "      <td>4</td>\n",
              "      <td>Returning_Visitor</td>\n",
              "      <td>False</td>\n",
              "    </tr>\n",
              "    <tr>\n",
              "      <th>4</th>\n",
              "      <td>0.0</td>\n",
              "      <td>0.0</td>\n",
              "      <td>0.0</td>\n",
              "      <td>Feb</td>\n",
              "      <td>3</td>\n",
              "      <td>3</td>\n",
              "      <td>1</td>\n",
              "      <td>4</td>\n",
              "      <td>Returning_Visitor</td>\n",
              "      <td>True</td>\n",
              "    </tr>\n",
              "  </tbody>\n",
              "</table>\n",
              "</div>\n",
              "      <button class=\"colab-df-convert\" onclick=\"convertToInteractive('df-20367ad7-3696-48b7-86fd-a595460fcb3a')\"\n",
              "              title=\"Convert this dataframe to an interactive table.\"\n",
              "              style=\"display:none;\">\n",
              "        \n",
              "  <svg xmlns=\"http://www.w3.org/2000/svg\" height=\"24px\"viewBox=\"0 0 24 24\"\n",
              "       width=\"24px\">\n",
              "    <path d=\"M0 0h24v24H0V0z\" fill=\"none\"/>\n",
              "    <path d=\"M18.56 5.44l.94 2.06.94-2.06 2.06-.94-2.06-.94-.94-2.06-.94 2.06-2.06.94zm-11 1L8.5 8.5l.94-2.06 2.06-.94-2.06-.94L8.5 2.5l-.94 2.06-2.06.94zm10 10l.94 2.06.94-2.06 2.06-.94-2.06-.94-.94-2.06-.94 2.06-2.06.94z\"/><path d=\"M17.41 7.96l-1.37-1.37c-.4-.4-.92-.59-1.43-.59-.52 0-1.04.2-1.43.59L10.3 9.45l-7.72 7.72c-.78.78-.78 2.05 0 2.83L4 21.41c.39.39.9.59 1.41.59.51 0 1.02-.2 1.41-.59l7.78-7.78 2.81-2.81c.8-.78.8-2.07 0-2.86zM5.41 20L4 18.59l7.72-7.72 1.47 1.35L5.41 20z\"/>\n",
              "  </svg>\n",
              "      </button>\n",
              "      \n",
              "  <style>\n",
              "    .colab-df-container {\n",
              "      display:flex;\n",
              "      flex-wrap:wrap;\n",
              "      gap: 12px;\n",
              "    }\n",
              "\n",
              "    .colab-df-convert {\n",
              "      background-color: #E8F0FE;\n",
              "      border: none;\n",
              "      border-radius: 50%;\n",
              "      cursor: pointer;\n",
              "      display: none;\n",
              "      fill: #1967D2;\n",
              "      height: 32px;\n",
              "      padding: 0 0 0 0;\n",
              "      width: 32px;\n",
              "    }\n",
              "\n",
              "    .colab-df-convert:hover {\n",
              "      background-color: #E2EBFA;\n",
              "      box-shadow: 0px 1px 2px rgba(60, 64, 67, 0.3), 0px 1px 3px 1px rgba(60, 64, 67, 0.15);\n",
              "      fill: #174EA6;\n",
              "    }\n",
              "\n",
              "    [theme=dark] .colab-df-convert {\n",
              "      background-color: #3B4455;\n",
              "      fill: #D2E3FC;\n",
              "    }\n",
              "\n",
              "    [theme=dark] .colab-df-convert:hover {\n",
              "      background-color: #434B5C;\n",
              "      box-shadow: 0px 1px 3px 1px rgba(0, 0, 0, 0.15);\n",
              "      filter: drop-shadow(0px 1px 2px rgba(0, 0, 0, 0.3));\n",
              "      fill: #FFFFFF;\n",
              "    }\n",
              "  </style>\n",
              "\n",
              "      <script>\n",
              "        const buttonEl =\n",
              "          document.querySelector('#df-20367ad7-3696-48b7-86fd-a595460fcb3a button.colab-df-convert');\n",
              "        buttonEl.style.display =\n",
              "          google.colab.kernel.accessAllowed ? 'block' : 'none';\n",
              "\n",
              "        async function convertToInteractive(key) {\n",
              "          const element = document.querySelector('#df-20367ad7-3696-48b7-86fd-a595460fcb3a');\n",
              "          const dataTable =\n",
              "            await google.colab.kernel.invokeFunction('convertToInteractive',\n",
              "                                                     [key], {});\n",
              "          if (!dataTable) return;\n",
              "\n",
              "          const docLinkHtml = 'Like what you see? Visit the ' +\n",
              "            '<a target=\"_blank\" href=https://colab.research.google.com/notebooks/data_table.ipynb>data table notebook</a>'\n",
              "            + ' to learn more about interactive tables.';\n",
              "          element.innerHTML = '';\n",
              "          dataTable['output_type'] = 'display_data';\n",
              "          await google.colab.output.renderOutput(dataTable, element);\n",
              "          const docLink = document.createElement('div');\n",
              "          docLink.innerHTML = docLinkHtml;\n",
              "          element.appendChild(docLink);\n",
              "        }\n",
              "      </script>\n",
              "    </div>\n",
              "  </div>\n",
              "  "
            ],
            "text/plain": [
              "   Administrative  Informational  ...        VisitorType Weekend\n",
              "0             0.0            0.0  ...  Returning_Visitor   False\n",
              "1             0.0            0.0  ...  Returning_Visitor   False\n",
              "2             0.0            0.0  ...  Returning_Visitor   False\n",
              "3             0.0            0.0  ...  Returning_Visitor   False\n",
              "4             0.0            0.0  ...  Returning_Visitor    True\n",
              "\n",
              "[5 rows x 10 columns]"
            ]
          },
          "execution_count": 9,
          "metadata": {},
          "output_type": "execute_result"
        }
      ],
      "source": [
        "# Identifying categorical and continuous variables\n",
        "categorical, continuous = preprocessor.extract_categorical_continuos_vars(dataset)\n",
        "# categorical variables\n",
        "dataset[categorical].head()"
      ]
    },
    {
      "cell_type": "code",
      "execution_count": null,
      "metadata": {
        "colab": {
          "base_uri": "https://localhost:8080/"
        },
        "id": "M7yQ3_J61YoD",
        "outputId": "7162c3f8-249e-40ad-faf4-ce183347949d"
      },
      "outputs": [
        {
          "data": {
            "text/html": [
              "\n",
              "  <div id=\"df-a1d7a879-cd6a-4e62-86d7-25002daceb9a\">\n",
              "    <div class=\"colab-df-container\">\n",
              "      <div>\n",
              "<style scoped>\n",
              "    .dataframe tbody tr th:only-of-type {\n",
              "        vertical-align: middle;\n",
              "    }\n",
              "\n",
              "    .dataframe tbody tr th {\n",
              "        vertical-align: top;\n",
              "    }\n",
              "\n",
              "    .dataframe thead th {\n",
              "        text-align: right;\n",
              "    }\n",
              "</style>\n",
              "<table border=\"1\" class=\"dataframe\">\n",
              "  <thead>\n",
              "    <tr style=\"text-align: right;\">\n",
              "      <th></th>\n",
              "      <th>Administrative_Duration</th>\n",
              "      <th>Informational_Duration</th>\n",
              "      <th>ProductRelated</th>\n",
              "      <th>ProductRelated_Duration</th>\n",
              "      <th>BounceRates</th>\n",
              "      <th>ExitRates</th>\n",
              "      <th>PageValues</th>\n",
              "    </tr>\n",
              "  </thead>\n",
              "  <tbody>\n",
              "    <tr>\n",
              "      <th>0</th>\n",
              "      <td>0.0</td>\n",
              "      <td>0.0</td>\n",
              "      <td>1.0</td>\n",
              "      <td>0.000000</td>\n",
              "      <td>0.20</td>\n",
              "      <td>0.20</td>\n",
              "      <td>0.0</td>\n",
              "    </tr>\n",
              "    <tr>\n",
              "      <th>1</th>\n",
              "      <td>0.0</td>\n",
              "      <td>0.0</td>\n",
              "      <td>2.0</td>\n",
              "      <td>64.000000</td>\n",
              "      <td>0.00</td>\n",
              "      <td>0.10</td>\n",
              "      <td>0.0</td>\n",
              "    </tr>\n",
              "    <tr>\n",
              "      <th>2</th>\n",
              "      <td>-1.0</td>\n",
              "      <td>-1.0</td>\n",
              "      <td>1.0</td>\n",
              "      <td>-1.000000</td>\n",
              "      <td>0.20</td>\n",
              "      <td>0.20</td>\n",
              "      <td>0.0</td>\n",
              "    </tr>\n",
              "    <tr>\n",
              "      <th>3</th>\n",
              "      <td>0.0</td>\n",
              "      <td>0.0</td>\n",
              "      <td>2.0</td>\n",
              "      <td>2.666667</td>\n",
              "      <td>0.05</td>\n",
              "      <td>0.14</td>\n",
              "      <td>0.0</td>\n",
              "    </tr>\n",
              "    <tr>\n",
              "      <th>4</th>\n",
              "      <td>0.0</td>\n",
              "      <td>0.0</td>\n",
              "      <td>10.0</td>\n",
              "      <td>627.500000</td>\n",
              "      <td>0.02</td>\n",
              "      <td>0.05</td>\n",
              "      <td>0.0</td>\n",
              "    </tr>\n",
              "  </tbody>\n",
              "</table>\n",
              "</div>\n",
              "      <button class=\"colab-df-convert\" onclick=\"convertToInteractive('df-a1d7a879-cd6a-4e62-86d7-25002daceb9a')\"\n",
              "              title=\"Convert this dataframe to an interactive table.\"\n",
              "              style=\"display:none;\">\n",
              "        \n",
              "  <svg xmlns=\"http://www.w3.org/2000/svg\" height=\"24px\"viewBox=\"0 0 24 24\"\n",
              "       width=\"24px\">\n",
              "    <path d=\"M0 0h24v24H0V0z\" fill=\"none\"/>\n",
              "    <path d=\"M18.56 5.44l.94 2.06.94-2.06 2.06-.94-2.06-.94-.94-2.06-.94 2.06-2.06.94zm-11 1L8.5 8.5l.94-2.06 2.06-.94-2.06-.94L8.5 2.5l-.94 2.06-2.06.94zm10 10l.94 2.06.94-2.06 2.06-.94-2.06-.94-.94-2.06-.94 2.06-2.06.94z\"/><path d=\"M17.41 7.96l-1.37-1.37c-.4-.4-.92-.59-1.43-.59-.52 0-1.04.2-1.43.59L10.3 9.45l-7.72 7.72c-.78.78-.78 2.05 0 2.83L4 21.41c.39.39.9.59 1.41.59.51 0 1.02-.2 1.41-.59l7.78-7.78 2.81-2.81c.8-.78.8-2.07 0-2.86zM5.41 20L4 18.59l7.72-7.72 1.47 1.35L5.41 20z\"/>\n",
              "  </svg>\n",
              "      </button>\n",
              "      \n",
              "  <style>\n",
              "    .colab-df-container {\n",
              "      display:flex;\n",
              "      flex-wrap:wrap;\n",
              "      gap: 12px;\n",
              "    }\n",
              "\n",
              "    .colab-df-convert {\n",
              "      background-color: #E8F0FE;\n",
              "      border: none;\n",
              "      border-radius: 50%;\n",
              "      cursor: pointer;\n",
              "      display: none;\n",
              "      fill: #1967D2;\n",
              "      height: 32px;\n",
              "      padding: 0 0 0 0;\n",
              "      width: 32px;\n",
              "    }\n",
              "\n",
              "    .colab-df-convert:hover {\n",
              "      background-color: #E2EBFA;\n",
              "      box-shadow: 0px 1px 2px rgba(60, 64, 67, 0.3), 0px 1px 3px 1px rgba(60, 64, 67, 0.15);\n",
              "      fill: #174EA6;\n",
              "    }\n",
              "\n",
              "    [theme=dark] .colab-df-convert {\n",
              "      background-color: #3B4455;\n",
              "      fill: #D2E3FC;\n",
              "    }\n",
              "\n",
              "    [theme=dark] .colab-df-convert:hover {\n",
              "      background-color: #434B5C;\n",
              "      box-shadow: 0px 1px 3px 1px rgba(0, 0, 0, 0.15);\n",
              "      filter: drop-shadow(0px 1px 2px rgba(0, 0, 0, 0.3));\n",
              "      fill: #FFFFFF;\n",
              "    }\n",
              "  </style>\n",
              "\n",
              "      <script>\n",
              "        const buttonEl =\n",
              "          document.querySelector('#df-a1d7a879-cd6a-4e62-86d7-25002daceb9a button.colab-df-convert');\n",
              "        buttonEl.style.display =\n",
              "          google.colab.kernel.accessAllowed ? 'block' : 'none';\n",
              "\n",
              "        async function convertToInteractive(key) {\n",
              "          const element = document.querySelector('#df-a1d7a879-cd6a-4e62-86d7-25002daceb9a');\n",
              "          const dataTable =\n",
              "            await google.colab.kernel.invokeFunction('convertToInteractive',\n",
              "                                                     [key], {});\n",
              "          if (!dataTable) return;\n",
              "\n",
              "          const docLinkHtml = 'Like what you see? Visit the ' +\n",
              "            '<a target=\"_blank\" href=https://colab.research.google.com/notebooks/data_table.ipynb>data table notebook</a>'\n",
              "            + ' to learn more about interactive tables.';\n",
              "          element.innerHTML = '';\n",
              "          dataTable['output_type'] = 'display_data';\n",
              "          await google.colab.output.renderOutput(dataTable, element);\n",
              "          const docLink = document.createElement('div');\n",
              "          docLink.innerHTML = docLinkHtml;\n",
              "          element.appendChild(docLink);\n",
              "        }\n",
              "      </script>\n",
              "    </div>\n",
              "  </div>\n",
              "  "
            ],
            "text/plain": [
              "   Administrative_Duration  Informational_Duration  ...  ExitRates  PageValues\n",
              "0                      0.0                     0.0  ...       0.20         0.0\n",
              "1                      0.0                     0.0  ...       0.10         0.0\n",
              "2                     -1.0                    -1.0  ...       0.20         0.0\n",
              "3                      0.0                     0.0  ...       0.14         0.0\n",
              "4                      0.0                     0.0  ...       0.05         0.0\n",
              "\n",
              "[5 rows x 7 columns]"
            ]
          },
          "execution_count": 10,
          "metadata": {},
          "output_type": "execute_result"
        }
      ],
      "source": [
        "# continuous variables\n",
        "dataset[continuous].head()"
      ]
    },
    {
      "cell_type": "markdown",
      "metadata": {
        "id": "yp-yPPwh34Zp"
      },
      "source": [
        "## **Analisando os dados**\n",
        "## Analyzing the data"
      ]
    },
    {
      "cell_type": "code",
      "execution_count": null,
      "metadata": {
        "colab": {
          "base_uri": "https://localhost:8080/"
        },
        "id": "WbsY40KT387F",
        "outputId": "386f3647-2ca7-456b-c8e8-ca7d3f2ec517"
      },
      "outputs": [
        {
          "data": {
            "text/plain": [
              "<matplotlib.axes._subplots.AxesSubplot at 0x7f21440c7c10>"
            ]
          },
          "execution_count": 11,
          "metadata": {},
          "output_type": "execute_result"
        },
        {
          "data": {
            "image/png": "[encoded data removed]",
            "text/plain": [
              "<Figure size 720x720 with 2 Axes>"
            ]
          },
          "metadata": {
            "needs_background": "light"
          },
          "output_type": "display_data"
        }
      ],
      "source": [
        "## Correlation between continuous variables\n",
        "\n",
        "# plotting area\n",
        "plt.figure(figsize = (10,10))\n",
        "\n",
        "# Correlation Matrix \n",
        "sns.heatmap(dataset[ ['Administrative_Duration',\n",
        "                     'Informational_Duration',  \n",
        "                     'ProductRelated_Duration',\n",
        "                     'BounceRates', \n",
        "                     'ExitRates', \n",
        "                     'PageValues',\n",
        "                     'Revenue']].corr(), vmax = 1., square = True, linewidths=.5)"
      ]
    },
    {
      "cell_type": "markdown",
      "metadata": {
        "id": "m7wIRQma46v4"
      },
      "source": [
        "* We noticed the negative correlation between Bounce and Revenue, and ExitRates and Revenue, which was already expected, since the less time the user spends on the site, we imagine that the lower the probability of purchase."
      ]
    },
    {
      "cell_type": "code",
      "execution_count": null,
      "metadata": {
        "colab": {
          "base_uri": "https://localhost:8080/"
        },
        "id": "cOIo8i_y4P48",
        "outputId": "0ebf1d10-b2a2-4fa7-a320-c9b18859b7af"
      },
      "outputs": [
        {
          "data": {
            "text/plain": [
              "<matplotlib.axes._subplots.AxesSubplot at 0x7f213a317550>"
            ]
          },
          "execution_count": 12,
          "metadata": {},
          "output_type": "execute_result"
        },
        {
          "data": {
            "image/png": "[encoded data removed]",
            "text/plain": [
              "<Figure size 1080x360 with 1 Axes>"
            ]
          },
          "metadata": {
            "needs_background": "light"
          },
          "output_type": "display_data"
        }
      ],
      "source": [
        "# Stacked Bar Weekend x Revenue\n",
        "colors = sns.color_palette(\"Set2\", 2)\n",
        "pd.crosstab(dataset['Weekend'], dataset['Revenue']).plot(kind = 'bar', \n",
        "                                                         stacked = True, \n",
        "                                                         figsize = (15, 5), \n",
        "                                                         color = colors)"
      ]
    },
    {
      "cell_type": "markdown",
      "metadata": {
        "id": "sp_w9CzC8oek"
      },
      "source": [
        "*   Notamos que a maior parte das vendas é realizada fora dos finais de semana (parte laranja do gráfico a direita)"
      ]
    },
    {
      "cell_type": "code",
      "execution_count": null,
      "metadata": {
        "colab": {
          "base_uri": "https://localhost:8080/"
        },
        "id": "sU2rPdt_9EqZ",
        "outputId": "13157a06-c20b-4503-83db-e4ca791f06d9"
      },
      "outputs": [
        {
          "data": {
            "text/plain": [
              "<matplotlib.legend.Legend at 0x7f213a23a250>"
            ]
          },
          "execution_count": 13,
          "metadata": {},
          "output_type": "execute_result"
        },
        {
          "data": {
            "image/png": "[encoded data removed]",
            "text/plain": [
              "<Figure size 432x288 with 1 Axes>"
            ]
          },
          "metadata": {},
          "output_type": "display_data"
        }
      ],
      "source": [
        "# Pie Chart Types of Visitors\n",
        "colors = sns.color_palette(\"Set3\", 3)\n",
        "labels = ['Visitante_Retornando', 'Novo_Visitante', 'Outro']\n",
        "plt.title(\"Tipos de Visitantes\")\n",
        "plt.pie(dataset['VisitorType'].value_counts(), labels = labels, autopct = '%.2f%%', colors= colors)\n",
        "plt.legend()"
      ]
    },
    {
      "cell_type": "markdown",
      "metadata": {
        "id": "OdUWF3Vg9L6C"
      },
      "source": [
        "* We also note that the majority of visitors are return visitors."
      ]
    },
    {
      "cell_type": "markdown",
      "metadata": {
        "id": "pSlfEqpw9hr6"
      },
      "source": [
        "## **Pré-processamento - Parte 2**\n",
        "## Preprocessing - Part 1"
      ]
    },
    {
      "cell_type": "code",
      "execution_count": null,
      "metadata": {
        "colab": {
          "base_uri": "https://localhost:8080/",
          "height": 271
        },
        "id": "vUwwU7Yf9_Jb",
        "outputId": "f0a43bcf-7d55-4fe2-a5eb-01ec4c4623f7"
      },
      "outputs": [
        {
          "name": "stdout",
          "output_type": "stream",
          "text": [
            "0 instâncias foram removidas.\n"
          ]
        },
        {
          "data": {
            "text/html": [
              "\n",
              "  <div id=\"df-9d150321-c776-4e45-b2d5-f22f994170d6\">\n",
              "    <div class=\"colab-df-container\">\n",
              "      <div>\n",
              "<style scoped>\n",
              "    .dataframe tbody tr th:only-of-type {\n",
              "        vertical-align: middle;\n",
              "    }\n",
              "\n",
              "    .dataframe tbody tr th {\n",
              "        vertical-align: top;\n",
              "    }\n",
              "\n",
              "    .dataframe thead th {\n",
              "        text-align: right;\n",
              "    }\n",
              "</style>\n",
              "<table border=\"1\" class=\"dataframe\">\n",
              "  <thead>\n",
              "    <tr style=\"text-align: right;\">\n",
              "      <th></th>\n",
              "      <th>Administrative</th>\n",
              "      <th>Administrative_Duration</th>\n",
              "      <th>Informational</th>\n",
              "      <th>Informational_Duration</th>\n",
              "      <th>ProductRelated</th>\n",
              "      <th>ProductRelated_Duration</th>\n",
              "      <th>BounceRates</th>\n",
              "      <th>ExitRates</th>\n",
              "      <th>PageValues</th>\n",
              "      <th>SpecialDay</th>\n",
              "      <th>Month</th>\n",
              "      <th>OperatingSystems</th>\n",
              "      <th>Browser</th>\n",
              "      <th>Region</th>\n",
              "      <th>TrafficType</th>\n",
              "      <th>VisitorType</th>\n",
              "      <th>Weekend</th>\n",
              "      <th>Revenue</th>\n",
              "    </tr>\n",
              "  </thead>\n",
              "  <tbody>\n",
              "    <tr>\n",
              "      <th>0</th>\n",
              "      <td>0.0</td>\n",
              "      <td>0.0</td>\n",
              "      <td>0.0</td>\n",
              "      <td>0.0</td>\n",
              "      <td>1.0</td>\n",
              "      <td>0.000000</td>\n",
              "      <td>0.20</td>\n",
              "      <td>0.20</td>\n",
              "      <td>0.0</td>\n",
              "      <td>0.0</td>\n",
              "      <td>2</td>\n",
              "      <td>1</td>\n",
              "      <td>1</td>\n",
              "      <td>1</td>\n",
              "      <td>1</td>\n",
              "      <td>2</td>\n",
              "      <td>False</td>\n",
              "      <td>False</td>\n",
              "    </tr>\n",
              "    <tr>\n",
              "      <th>1</th>\n",
              "      <td>0.0</td>\n",
              "      <td>0.0</td>\n",
              "      <td>0.0</td>\n",
              "      <td>0.0</td>\n",
              "      <td>2.0</td>\n",
              "      <td>64.000000</td>\n",
              "      <td>0.00</td>\n",
              "      <td>0.10</td>\n",
              "      <td>0.0</td>\n",
              "      <td>0.0</td>\n",
              "      <td>2</td>\n",
              "      <td>2</td>\n",
              "      <td>2</td>\n",
              "      <td>1</td>\n",
              "      <td>2</td>\n",
              "      <td>2</td>\n",
              "      <td>False</td>\n",
              "      <td>False</td>\n",
              "    </tr>\n",
              "    <tr>\n",
              "      <th>2</th>\n",
              "      <td>0.0</td>\n",
              "      <td>-1.0</td>\n",
              "      <td>0.0</td>\n",
              "      <td>-1.0</td>\n",
              "      <td>1.0</td>\n",
              "      <td>-1.000000</td>\n",
              "      <td>0.20</td>\n",
              "      <td>0.20</td>\n",
              "      <td>0.0</td>\n",
              "      <td>0.0</td>\n",
              "      <td>2</td>\n",
              "      <td>4</td>\n",
              "      <td>1</td>\n",
              "      <td>9</td>\n",
              "      <td>3</td>\n",
              "      <td>2</td>\n",
              "      <td>False</td>\n",
              "      <td>False</td>\n",
              "    </tr>\n",
              "    <tr>\n",
              "      <th>3</th>\n",
              "      <td>0.0</td>\n",
              "      <td>0.0</td>\n",
              "      <td>0.0</td>\n",
              "      <td>0.0</td>\n",
              "      <td>2.0</td>\n",
              "      <td>2.666667</td>\n",
              "      <td>0.05</td>\n",
              "      <td>0.14</td>\n",
              "      <td>0.0</td>\n",
              "      <td>0.0</td>\n",
              "      <td>2</td>\n",
              "      <td>3</td>\n",
              "      <td>2</td>\n",
              "      <td>2</td>\n",
              "      <td>4</td>\n",
              "      <td>2</td>\n",
              "      <td>False</td>\n",
              "      <td>False</td>\n",
              "    </tr>\n",
              "    <tr>\n",
              "      <th>4</th>\n",
              "      <td>0.0</td>\n",
              "      <td>0.0</td>\n",
              "      <td>0.0</td>\n",
              "      <td>0.0</td>\n",
              "      <td>10.0</td>\n",
              "      <td>627.500000</td>\n",
              "      <td>0.02</td>\n",
              "      <td>0.05</td>\n",
              "      <td>0.0</td>\n",
              "      <td>0.0</td>\n",
              "      <td>2</td>\n",
              "      <td>3</td>\n",
              "      <td>3</td>\n",
              "      <td>1</td>\n",
              "      <td>4</td>\n",
              "      <td>2</td>\n",
              "      <td>True</td>\n",
              "      <td>False</td>\n",
              "    </tr>\n",
              "  </tbody>\n",
              "</table>\n",
              "</div>\n",
              "      <button class=\"colab-df-convert\" onclick=\"convertToInteractive('df-9d150321-c776-4e45-b2d5-f22f994170d6')\"\n",
              "              title=\"Convert this dataframe to an interactive table.\"\n",
              "              style=\"display:none;\">\n",
              "        \n",
              "  <svg xmlns=\"http://www.w3.org/2000/svg\" height=\"24px\"viewBox=\"0 0 24 24\"\n",
              "       width=\"24px\">\n",
              "    <path d=\"M0 0h24v24H0V0z\" fill=\"none\"/>\n",
              "    <path d=\"M18.56 5.44l.94 2.06.94-2.06 2.06-.94-2.06-.94-.94-2.06-.94 2.06-2.06.94zm-11 1L8.5 8.5l.94-2.06 2.06-.94-2.06-.94L8.5 2.5l-.94 2.06-2.06.94zm10 10l.94 2.06.94-2.06 2.06-.94-2.06-.94-.94-2.06-.94 2.06-2.06.94z\"/><path d=\"M17.41 7.96l-1.37-1.37c-.4-.4-.92-.59-1.43-.59-.52 0-1.04.2-1.43.59L10.3 9.45l-7.72 7.72c-.78.78-.78 2.05 0 2.83L4 21.41c.39.39.9.59 1.41.59.51 0 1.02-.2 1.41-.59l7.78-7.78 2.81-2.81c.8-.78.8-2.07 0-2.86zM5.41 20L4 18.59l7.72-7.72 1.47 1.35L5.41 20z\"/>\n",
              "  </svg>\n",
              "      </button>\n",
              "      \n",
              "  <style>\n",
              "    .colab-df-container {\n",
              "      display:flex;\n",
              "      flex-wrap:wrap;\n",
              "      gap: 12px;\n",
              "    }\n",
              "\n",
              "    .colab-df-convert {\n",
              "      background-color: #E8F0FE;\n",
              "      border: none;\n",
              "      border-radius: 50%;\n",
              "      cursor: pointer;\n",
              "      display: none;\n",
              "      fill: #1967D2;\n",
              "      height: 32px;\n",
              "      padding: 0 0 0 0;\n",
              "      width: 32px;\n",
              "    }\n",
              "\n",
              "    .colab-df-convert:hover {\n",
              "      background-color: #E2EBFA;\n",
              "      box-shadow: 0px 1px 2px rgba(60, 64, 67, 0.3), 0px 1px 3px 1px rgba(60, 64, 67, 0.15);\n",
              "      fill: #174EA6;\n",
              "    }\n",
              "\n",
              "    [theme=dark] .colab-df-convert {\n",
              "      background-color: #3B4455;\n",
              "      fill: #D2E3FC;\n",
              "    }\n",
              "\n",
              "    [theme=dark] .colab-df-convert:hover {\n",
              "      background-color: #434B5C;\n",
              "      box-shadow: 0px 1px 3px 1px rgba(0, 0, 0, 0.15);\n",
              "      filter: drop-shadow(0px 1px 2px rgba(0, 0, 0, 0.3));\n",
              "      fill: #FFFFFF;\n",
              "    }\n",
              "  </style>\n",
              "\n",
              "      <script>\n",
              "        const buttonEl =\n",
              "          document.querySelector('#df-9d150321-c776-4e45-b2d5-f22f994170d6 button.colab-df-convert');\n",
              "        buttonEl.style.display =\n",
              "          google.colab.kernel.accessAllowed ? 'block' : 'none';\n",
              "\n",
              "        async function convertToInteractive(key) {\n",
              "          const element = document.querySelector('#df-9d150321-c776-4e45-b2d5-f22f994170d6');\n",
              "          const dataTable =\n",
              "            await google.colab.kernel.invokeFunction('convertToInteractive',\n",
              "                                                     [key], {});\n",
              "          if (!dataTable) return;\n",
              "\n",
              "          const docLinkHtml = 'Like what you see? Visit the ' +\n",
              "            '<a target=\"_blank\" href=https://colab.research.google.com/notebooks/data_table.ipynb>data table notebook</a>'\n",
              "            + ' to learn more about interactive tables.';\n",
              "          element.innerHTML = '';\n",
              "          dataTable['output_type'] = 'display_data';\n",
              "          await google.colab.output.renderOutput(dataTable, element);\n",
              "          const docLink = document.createElement('div');\n",
              "          docLink.innerHTML = docLinkHtml;\n",
              "          element.appendChild(docLink);\n",
              "        }\n",
              "      </script>\n",
              "    </div>\n",
              "  </div>\n",
              "  "
            ],
            "text/plain": [
              "   Administrative  Administrative_Duration  ...  Weekend  Revenue\n",
              "0             0.0                      0.0  ...    False    False\n",
              "1             0.0                      0.0  ...    False    False\n",
              "2             0.0                     -1.0  ...    False    False\n",
              "3             0.0                      0.0  ...    False    False\n",
              "4             0.0                      0.0  ...     True    False\n",
              "\n",
              "[5 rows x 18 columns]"
            ]
          },
          "execution_count": 14,
          "metadata": {},
          "output_type": "execute_result"
        }
      ],
      "source": [
        "# Transforming some categorical variables into numerical ones\n",
        "dataset = preprocessor.encoder(dataset, vars = ['Month','VisitorType'])\n",
        "dataset.head()"
      ]
    },
    {
      "cell_type": "code",
      "execution_count": null,
      "metadata": {
        "colab": {
          "base_uri": "https://localhost:8080/",
          "height": 310
        },
        "id": "oSJtKC6hAbz8",
        "outputId": "72fab629-facc-4495-b458-1611bd5a1e3c"
      },
      "outputs": [
        {
          "data": {
            "image/png": "[encoded data removed]",
            "text/plain": [
              "<Figure size 432x288 with 1 Axes>"
            ]
          },
          "metadata": {
            "needs_background": "light"
          },
          "output_type": "display_data"
        }
      ],
      "source": [
        "# Checking if the class variable is balanced\n",
        "sns.countplot(dataset.Revenue, palette = \"OrRd\")\n",
        "plt.box(False)\n",
        "plt.xlabel('Receita por sessão: Não (False) / Sim (True)', fontsize = 11)\n",
        "plt.ylabel('Total de Sessões', fontsize = 11)\n",
        "plt.title('Contagem de Classes\\n')\n",
        "plt.show()"
      ]
    },
    {
      "cell_type": "markdown",
      "metadata": {
        "id": "brxG4J8YCVzK"
      },
      "source": [
        "* Note that there is an imbalance between buyer and non-buyer user classes. In order not to reduce the number of samples, we decided to use the oversample method, from the SMOTE function of the imblearn.over_sampling package"
      ]
    },
    {
      "cell_type": "code",
      "execution_count": null,
      "metadata": {
        "colab": {
          "base_uri": "https://localhost:8080/",
          "height": 375
        },
        "id": "1NtGgkmdEmaQ",
        "outputId": "0f8cdc80-6255-416b-c7e3-3f6f02b5938c"
      },
      "outputs": [
        {
          "name": "stdout",
          "output_type": "stream",
          "text": [
            "<class 'pandas.core.frame.DataFrame'>\n",
            "Numero de linhas no conjunto X: 20816\n",
            "Numero de cokunas no conjunto X: 17\n",
            "Numero de linhas no conjunto y: 20816\n"
          ]
        },
        {
          "data": {
            "image/png": "[encoded data removed]",
            "text/plain": [
              "<Figure size 432x288 with 1 Axes>"
            ]
          },
          "metadata": {
            "needs_background": "light"
          },
          "output_type": "display_data"
        }
      ],
      "source": [
        "# Balancing the classes\n",
        "X, y = preprocessor.balance_classes(dataset)\n",
        "# Plotting the new result of class balancing\n",
        "sns.countplot(y, palette = \"OrRd\")\n",
        "plt.box(False)\n",
        "plt.xlabel('Receita (Revenue) Por Sessão Não (0) / Sim (1)', fontsize = 11)\n",
        "plt.ylabel('Total Sessões', fontsize = 11)\n",
        "plt.title('Contagem de Classes\\n')\n",
        "plt.show()"
      ]
    },
    {
      "cell_type": "code",
      "execution_count": null,
      "metadata": {
        "id": "7S4Nat8_qK1F"
      },
      "outputs": [],
      "source": [
        "# Split into Training and Test Data.\n",
        "X_treino, X_teste, y_treino, y_teste = train_test_split(X, y, test_size = 0.3, random_state = 42)\n",
        "# Re-scrambling the data\n",
        "sc = StandardScaler()\n",
        "X_treino_scaled = sc.fit_transform(X_treino)\n",
        "X_teste_scaled = sc.transform(X_teste)"
      ]
    },
    {
      "cell_type": "markdown",
      "metadata": {
        "id": "lGoPUM3ohLwT"
      },
      "source": [
        "## **Modelo de Classificação**\n",
        "## Classification Model\n"
      ]
    },
    {
      "cell_type": "code",
      "execution_count": null,
      "metadata": {
        "id": "kaT8_ney6knp"
      },
      "outputs": [],
      "source": [
        "# Initializing the MLModel and MlEvaluator classes\n",
        "mlmodel = MLModel() \n",
        "evaluator = MlEvaluator()"
      ]
    },
    {
      "cell_type": "markdown",
      "metadata": {
        "id": "DKojEFtkrEyt"
      },
      "source": [
        "### **SVM - Kernel Linear**\n",
        "### SVM - Linear Kernel"
      ]
    },
    {
      "cell_type": "code",
      "execution_count": null,
      "metadata": {
        "colab": {
          "base_uri": "https://localhost:8080/"
        },
        "id": "kAEMdg8hrByK",
        "outputId": "a777e1a1-e8dc-4d98-b23b-a141fe452c59"
      },
      "outputs": [
        {
          "name": "stdout",
          "output_type": "stream",
          "text": [
            "Tempo de Treinamento do Modelo: 6743.027759075165\n"
          ]
        },
        {
          "name": "stderr",
          "output_type": "stream",
          "text": [
            "ic| dict_previsions: {'AUC': 0.5729798918522366,\n",
            "                      'Acurácia': 0.5727782225780624,\n",
            "                      'F1 Score': 0.567304573467402,\n",
            "                      'Kernel': 'Linear',\n",
            "                      'Modelo': 'SVM',\n",
            "                      'Precision': 0.5541825095057035,\n",
            "                      'Recall': 0.5810631229235881,\n",
            "                      'Versão': '1'}\n"
          ]
        }
      ],
      "source": [
        "# Executando o modelo svm linear \n",
        "# dados não reescalados: V2\n",
        "modelo_v1 = mlmodel.trainLinearSVM(X_treino, y_treino)\n",
        "# Avaliando o modelo v1\n",
        "evaluator_v1 = evaluator.evaluate_accuracy(model_v1, X_teste_scaled, y_teste, \n",
        "                              kernel = 'Linear', algorithm = 'SVM',\n",
        "                              version = '1')"
      ]
    },
    {
      "cell_type": "code",
      "execution_count": null,
      "metadata": {
        "colab": {
          "base_uri": "https://localhost:8080/"
        },
        "id": "WhwUhNRVxY5E",
        "outputId": "e5474810-3953-49c5-c5f6-bab0e6184fcf"
      },
      "outputs": [
        {
          "name": "stdout",
          "output_type": "stream",
          "text": [
            "Tempo de Treinamento do Modelo: 9.809322357177734\n"
          ]
        },
        {
          "name": "stderr",
          "output_type": "stream",
          "text": [
            "ic| dict_previsions: {'AUC': 0.8452763926619704,\n",
            "                      'Acurácia': 0.844675740592474,\n",
            "                      'F1 Score': 0.8370295698924732,\n",
            "                      'Kernel': 'Linear',\n",
            "                      'Modelo': 'SVM',\n",
            "                      'Precision': 0.7892902408111534,\n",
            "                      'Recall': 0.8909155937052933,\n",
            "                      'Versão': '2'}\n"
          ]
        }
      ],
      "source": [
        "# Executando o modelo svm linear \n",
        "# dados reescalados: V2\n",
        "modelo_v2 = mlmodel.trainLinearSVM(X_treino_scaled, y_treino)\n",
        "evaluator_v2 = evaluator.evaluate_accuracy(model_v2, X_teste_scaled, y_teste, \n",
        "                              kernel = 'Linear', algorithm = 'SVM',\n",
        "                              version = '2')"
      ]
    },
    {
      "cell_type": "markdown",
      "metadata": {
        "id": "Ovnu6A4l1LBs"
      },
      "source": [
        "### **SVM - Kernel RBF e Hiperparâmetros com Grid Search**\n",
        "### SVM - Kernel RBF and Hyperparameters with Grid Search"
      ]
    },
    {
      "cell_type": "code",
      "execution_count": null,
      "metadata": {
        "colab": {
          "base_uri": "https://localhost:8080/"
        },
        "id": "URtmdFfCxmRP",
        "outputId": "5297e88c-6191-4095-f524-8dfc1c451e84"
      },
      "outputs": [
        {
          "name": "stdout",
          "output_type": "stream",
          "text": [
            "Tempo de Treinamento do Modelo com Grid Search: 146.93501234054565\n",
            "Acurácia em Treinamento: 87.41%\n",
            "\n",
            "Hiperparâmetros Ideais: {'C': 200.0, 'gamma': 0.003}\n"
          ]
        },
        {
          "name": "stderr",
          "output_type": "stream",
          "text": [
            "ic| dict_previsions: {'AUC': 0.8684000650741152,\n",
            "                      'Acurácia': 0.8680544435548438,\n",
            "                      'F1 Score': 0.8649623074401837,\n",
            "                      'Kernel': 'RBF',\n",
            "                      'Modelo': 'SVM',\n",
            "                      'Precision': 0.8361850443599493,\n",
            "                      'Recall': 0.8957909029192125,\n",
            "                      'Versão': '3'}\n"
          ]
        }
      ],
      "source": [
        "# Running the svm model with RBF kernel and grid search\n",
        "# rescaled data: V3\n",
        "model_v3 = mlmodel.trainRbfGridSVM(X_treino_scaled, y_treino)\n",
        "evaluator_v3 = evaluator.evaluate_accuracy(model_v3, X_teste_scaled, y_teste, \n",
        "                              kernel = 'RBF', algorithm = 'SVM',\n",
        "                              version = '3')"
      ]
    },
    {
      "cell_type": "markdown",
      "metadata": {
        "id": "N8k2lWRh7s1M"
      },
      "source": [
        "### **SVM - Kernel Polinomial e Hiperparâmetros com Grid Search**\n",
        "### SVM - Kernel Polynomial and Hyperparameters with Grid Search"
      ]
    },
    {
      "cell_type": "code",
      "execution_count": null,
      "metadata": {
        "colab": {
          "base_uri": "https://localhost:8080/"
        },
        "id": "AdScr7fr2tPC",
        "outputId": "54ec1062-b668-4352-f267-5a1a052f8496"
      },
      "outputs": [
        {
          "name": "stdout",
          "output_type": "stream",
          "text": [
            "Tempo de Treinamento do Modelo com Grid Search: 124.74637007713318\n",
            "Acurácia em Treinamento: 86.14%\n",
            "\n",
            "Hiperparâmetros Ideais: {'coef0': 1.0, 'degree': 4, 'gamma': 0.01}\n"
          ]
        },
        {
          "name": "stderr",
          "output_type": "stream",
          "text": [
            "ic| dict_previsions: {'AUC': 0.8547442968856743,\n",
            "                      'Acurácia': 0.8542834267413931,\n",
            "                      'F1 Score': 0.8491879350348028,\n",
            "                      'Kernel': 'Polinomial',\n",
            "                      'Modelo': 'SVM',\n",
            "                      'Precision': 0.811787072243346,\n",
            "                      'Recall': 0.8902015288394719,\n",
            "                      'Versão': '4'}\n"
          ]
        }
      ],
      "source": [
        "# Running svm model with polynomial kernel and grid search\n",
        "# rescaled data: V4\n",
        "model_v4 = mlmodel.trainPoliGridSVM(X_treino_scaled, y_treino)\n",
        "evaluator_v4 = evaluator.evaluate_accuracy(model_v4, X_teste_scaled, y_teste, \n",
        "                              kernel = 'Polinomial', algorithm = 'SVM',\n",
        "                              version = '4')"
      ]
    },
    {
      "cell_type": "markdown",
      "metadata": {
        "id": "WlJLOf0nEp2p"
      },
      "source": [
        "### **Random Forest Classifier**"
      ]
    },
    {
      "cell_type": "code",
      "execution_count": null,
      "metadata": {
        "colab": {
          "base_uri": "https://localhost:8080/"
        },
        "id": "FCYD1GrwBXw2",
        "outputId": "b2c7ab34-d9f3-4aa8-d9eb-5771f76578f7"
      },
      "outputs": [
        {
          "name": "stdout",
          "output_type": "stream",
          "text": [
            "Numero de estimadores: 1000\n",
            "Tempo de Treinamento do Modelo: 27.751112461090088\n"
          ]
        },
        {
          "name": "stderr",
          "output_type": "stream",
          "text": [
            "ic| dict_previsions: {'AUC': 0.9275522716241161,\n",
            "                      'Acurácia': 0.9277822257806245,\n",
            "                      'F1 Score': 0.9299798167986337,\n",
            "                      'Kernel': 'NO',\n",
            "                      'Modelo': 'RF',\n",
            "                      'Precision': 0.9489860583016476,\n",
            "                      'Recall': 0.9117199391171994,\n",
            "                      'Versão': '5'}\n"
          ]
        }
      ],
      "source": [
        "# Instantiating the model with 1000 decision trees\n",
        "model_v5 = mlmodel.trainRandonForestCl(X_treino_scaled, y_treino, estimators=1000)\n",
        "# Using random forest on test set\n",
        "evaluator_v5 = evaluator.evaluate_accuracy(model_v5, X_teste_scaled, y_teste, \n",
        "                                           version = '5', algorithm = \"RF\")"
      ]
    },
    {
      "cell_type": "markdown",
      "metadata": {
        "id": "KSo1rbXKR0F9"
      },
      "source": [
        "### **LightGBM Classifier**"
      ]
    },
    {
      "cell_type": "code",
      "execution_count": null,
      "metadata": {
        "colab": {
          "base_uri": "https://localhost:8080/"
        },
        "id": "_lOmftqFMA7C",
        "outputId": "2a062131-91f5-4f3e-8180-2a460b08cbf8"
      },
      "outputs": [
        {
          "name": "stderr",
          "output_type": "stream",
          "text": [
            "ic| dict_previsions: {'AUC': 0.9291911771644835,\n",
            "                      'Acurácia': 0.9292233787029623,\n",
            "                      'F1 Score': 0.9301296237748972,\n",
            "                      'Kernel': 'NO',\n",
            "                      'Modelo': 'LGBM',\n",
            "                      'Precision': 0.9321926489226869,\n",
            "                      '"
          ]
        },
        {
          "name": "stdout",
          "output_type": "stream",
          "text": [
            "Tempo de Treinamento do Modelo: 0.3331410884857178\n"
          ]
        },
        {
          "name": "stderr",
          "output_type": "stream",
          "text": [
            "Recall': 0.9280757097791799,\n",
            "                      'Versão': '6'}\n"
          ]
        }
      ],
      "source": [
        "# Instantiating the LGBM model\n",
        "model_v6 = mlmodel.trainLGBMcl(X_treino_scaled, y_treino)\n",
        "# Using the model in the test set\n",
        "evaluator_v6 = evaluator.evaluate_accuracy(model_v6, X_teste_scaled, y_teste, \n",
        "                                           version = '6', algorithm = \"LGBM\")"
      ]
    },
    {
      "cell_type": "markdown",
      "metadata": {
        "id": "0kTGAfXKWVcd"
      },
      "source": [
        "### **Adaa Boost Classifier**"
      ]
    },
    {
      "cell_type": "code",
      "execution_count": null,
      "metadata": {
        "colab": {
          "base_uri": "https://localhost:8080/"
        },
        "id": "faLcQOQtWbZf",
        "outputId": "778e5968-c503-472f-911a-6910ea3cc955"
      },
      "outputs": [
        {
          "name": "stdout",
          "output_type": "stream",
          "text": [
            "Numero de estimadores: 1000\n",
            "Taxa de aprendizado: 1\n",
            "Tempo de Treinamento do Modelo: 19.988719940185547\n"
          ]
        },
        {
          "name": "stderr",
          "output_type": "stream",
          "text": [
            "ic| dict_previsions: {'AUC': 0.9221309844285767,\n",
            "                      'Acurácia': 0.922177742193755,\n",
            "                      'F1 Score': 0.9232712346068834,\n",
            "                      'Kernel': 'NO',\n",
            "                      'Modelo': 'AdaBoost',\n",
            "                      'Precision': 0.926489226869455,\n",
            "                      'Recall': 0.920075519194462,\n",
            "                      'Versão': '7'}\n"
          ]
        }
      ],
      "source": [
        "# Instantiating the model with 1000 estimators\n",
        "model_v7 = mlmodel.adaboostCl(X_treino_scaled, y_treino, estimators=1000)\n",
        "\n",
        "#P redict the response for test dataset\n",
        "evaluator_v7 = evaluator.evaluate_accuracy(model_v7, X_teste_scaled, y_teste, \n",
        "                                           version = '7', algorithm = \"AdaBoost\")"
      ]
    },
    {
      "cell_type": "markdown",
      "metadata": {
        "id": "A6pJL43tJerL"
      },
      "source": [
        "### **Benchmark**"
      ]
    },
    {
      "cell_type": "code",
      "execution_count": null,
      "metadata": {
        "colab": {
          "base_uri": "https://localhost:8080/",
          "height": 248
        },
        "id": "05FfNHqY7Xjm",
        "outputId": "3bbe32e7-b26b-4455-9727-e0fb8e6b3439"
      },
      "outputs": [
        {
          "data": {
            "text/html": [
              "\n",
              "  <div id=\"df-94055cf2-062a-4df7-83ce-4f4bafcf2e75\">\n",
              "    <div class=\"colab-df-container\">\n",
              "      <div>\n",
              "<style scoped>\n",
              "    .dataframe tbody tr th:only-of-type {\n",
              "        vertical-align: middle;\n",
              "    }\n",
              "\n",
              "    .dataframe tbody tr th {\n",
              "        vertical-align: top;\n",
              "    }\n",
              "\n",
              "    .dataframe thead th {\n",
              "        text-align: right;\n",
              "    }\n",
              "</style>\n",
              "<table border=\"1\" class=\"dataframe\">\n",
              "  <thead>\n",
              "    <tr style=\"text-align: right;\">\n",
              "      <th></th>\n",
              "      <th>AUC</th>\n",
              "      <th>Acurácia</th>\n",
              "      <th>F1 Score</th>\n",
              "      <th>Kernel</th>\n",
              "      <th>Modelo</th>\n",
              "      <th>Precision</th>\n",
              "      <th>Recall</th>\n",
              "      <th>Versão</th>\n",
              "    </tr>\n",
              "  </thead>\n",
              "  <tbody>\n",
              "    <tr>\n",
              "      <th>Execution_6</th>\n",
              "      <td>0.929191</td>\n",
              "      <td>0.929223</td>\n",
              "      <td>0.93013</td>\n",
              "      <td>NO</td>\n",
              "      <td>LGBM</td>\n",
              "      <td>0.932193</td>\n",
              "      <td>0.928076</td>\n",
              "      <td>6</td>\n",
              "    </tr>\n",
              "    <tr>\n",
              "      <th>Execution_5</th>\n",
              "      <td>0.927552</td>\n",
              "      <td>0.927782</td>\n",
              "      <td>0.92998</td>\n",
              "      <td>NO</td>\n",
              "      <td>RF</td>\n",
              "      <td>0.948986</td>\n",
              "      <td>0.91172</td>\n",
              "      <td>5</td>\n",
              "    </tr>\n",
              "    <tr>\n",
              "      <th>Execution_7</th>\n",
              "      <td>0.922131</td>\n",
              "      <td>0.922178</td>\n",
              "      <td>0.923271</td>\n",
              "      <td>NO</td>\n",
              "      <td>AdaBoost</td>\n",
              "      <td>0.926489</td>\n",
              "      <td>0.920076</td>\n",
              "      <td>7</td>\n",
              "    </tr>\n",
              "    <tr>\n",
              "      <th>Execution_3</th>\n",
              "      <td>0.8684</td>\n",
              "      <td>0.868054</td>\n",
              "      <td>0.864962</td>\n",
              "      <td>RBF</td>\n",
              "      <td>SVM</td>\n",
              "      <td>0.836185</td>\n",
              "      <td>0.895791</td>\n",
              "      <td>3</td>\n",
              "    </tr>\n",
              "    <tr>\n",
              "      <th>Execution_4</th>\n",
              "      <td>0.854744</td>\n",
              "      <td>0.854283</td>\n",
              "      <td>0.849188</td>\n",
              "      <td>Polinomial</td>\n",
              "      <td>SVM</td>\n",
              "      <td>0.811787</td>\n",
              "      <td>0.890202</td>\n",
              "      <td>4</td>\n",
              "    </tr>\n",
              "    <tr>\n",
              "      <th>Execution_2</th>\n",
              "      <td>0.845276</td>\n",
              "      <td>0.844676</td>\n",
              "      <td>0.83703</td>\n",
              "      <td>Linear</td>\n",
              "      <td>SVM</td>\n",
              "      <td>0.78929</td>\n",
              "      <td>0.890916</td>\n",
              "      <td>2</td>\n",
              "    </tr>\n",
              "    <tr>\n",
              "      <th>Execution_1</th>\n",
              "      <td>0.57298</td>\n",
              "      <td>0.572778</td>\n",
              "      <td>0.567305</td>\n",
              "      <td>Linear</td>\n",
              "      <td>SVM</td>\n",
              "      <td>0.554183</td>\n",
              "      <td>0.581063</td>\n",
              "      <td>1</td>\n",
              "    </tr>\n",
              "  </tbody>\n",
              "</table>\n",
              "</div>\n",
              "      <button class=\"colab-df-convert\" onclick=\"convertToInteractive('df-94055cf2-062a-4df7-83ce-4f4bafcf2e75')\"\n",
              "              title=\"Convert this dataframe to an interactive table.\"\n",
              "              style=\"display:none;\">\n",
              "        \n",
              "  <svg xmlns=\"http://www.w3.org/2000/svg\" height=\"24px\"viewBox=\"0 0 24 24\"\n",
              "       width=\"24px\">\n",
              "    <path d=\"M0 0h24v24H0V0z\" fill=\"none\"/>\n",
              "    <path d=\"M18.56 5.44l.94 2.06.94-2.06 2.06-.94-2.06-.94-.94-2.06-.94 2.06-2.06.94zm-11 1L8.5 8.5l.94-2.06 2.06-.94-2.06-.94L8.5 2.5l-.94 2.06-2.06.94zm10 10l.94 2.06.94-2.06 2.06-.94-2.06-.94-.94-2.06-.94 2.06-2.06.94z\"/><path d=\"M17.41 7.96l-1.37-1.37c-.4-.4-.92-.59-1.43-.59-.52 0-1.04.2-1.43.59L10.3 9.45l-7.72 7.72c-.78.78-.78 2.05 0 2.83L4 21.41c.39.39.9.59 1.41.59.51 0 1.02-.2 1.41-.59l7.78-7.78 2.81-2.81c.8-.78.8-2.07 0-2.86zM5.41 20L4 18.59l7.72-7.72 1.47 1.35L5.41 20z\"/>\n",
              "  </svg>\n",
              "      </button>\n",
              "      \n",
              "  <style>\n",
              "    .colab-df-container {\n",
              "      display:flex;\n",
              "      flex-wrap:wrap;\n",
              "      gap: 12px;\n",
              "    }\n",
              "\n",
              "    .colab-df-convert {\n",
              "      background-color: #E8F0FE;\n",
              "      border: none;\n",
              "      border-radius: 50%;\n",
              "      cursor: pointer;\n",
              "      display: none;\n",
              "      fill: #1967D2;\n",
              "      height: 32px;\n",
              "      padding: 0 0 0 0;\n",
              "      width: 32px;\n",
              "    }\n",
              "\n",
              "    .colab-df-convert:hover {\n",
              "      background-color: #E2EBFA;\n",
              "      box-shadow: 0px 1px 2px rgba(60, 64, 67, 0.3), 0px 1px 3px 1px rgba(60, 64, 67, 0.15);\n",
              "      fill: #174EA6;\n",
              "    }\n",
              "\n",
              "    [theme=dark] .colab-df-convert {\n",
              "      background-color: #3B4455;\n",
              "      fill: #D2E3FC;\n",
              "    }\n",
              "\n",
              "    [theme=dark] .colab-df-convert:hover {\n",
              "      background-color: #434B5C;\n",
              "      box-shadow: 0px 1px 3px 1px rgba(0, 0, 0, 0.15);\n",
              "      filter: drop-shadow(0px 1px 2px rgba(0, 0, 0, 0.3));\n",
              "      fill: #FFFFFF;\n",
              "    }\n",
              "  </style>\n",
              "\n",
              "      <script>\n",
              "        const buttonEl =\n",
              "          document.querySelector('#df-94055cf2-062a-4df7-83ce-4f4bafcf2e75 button.colab-df-convert');\n",
              "        buttonEl.style.display =\n",
              "          google.colab.kernel.accessAllowed ? 'block' : 'none';\n",
              "\n",
              "        async function convertToInteractive(key) {\n",
              "          const element = document.querySelector('#df-94055cf2-062a-4df7-83ce-4f4bafcf2e75');\n",
              "          const dataTable =\n",
              "            await google.colab.kernel.invokeFunction('convertToInteractive',\n",
              "                                                     [key], {});\n",
              "          if (!dataTable) return;\n",
              "\n",
              "          const docLinkHtml = 'Like what you see? Visit the ' +\n",
              "            '<a target=\"_blank\" href=https://colab.research.google.com/notebooks/data_table.ipynb>data table notebook</a>'\n",
              "            + ' to learn more about interactive tables.';\n",
              "          element.innerHTML = '';\n",
              "          dataTable['output_type'] = 'display_data';\n",
              "          await google.colab.output.renderOutput(dataTable, element);\n",
              "          const docLink = document.createElement('div');\n",
              "          docLink.innerHTML = docLinkHtml;\n",
              "          element.appendChild(docLink);\n",
              "        }\n",
              "      </script>\n",
              "    </div>\n",
              "  </div>\n",
              "  "
            ],
            "text/plain": [
              "                  AUC  Acurácia  F1 Score  ... Precision    Recall Versão\n",
              "Execution_6  0.929191  0.929223   0.93013  ...  0.932193  0.928076      6\n",
              "Execution_5  0.927552  0.927782   0.92998  ...  0.948986   0.91172      5\n",
              "Execution_7  0.922131  0.922178  0.923271  ...  0.926489  0.920076      7\n",
              "Execution_3    0.8684  0.868054  0.864962  ...  0.836185  0.895791      3\n",
              "Execution_4  0.854744  0.854283  0.849188  ...  0.811787  0.890202      4\n",
              "Execution_2  0.845276  0.844676   0.83703  ...   0.78929  0.890916      2\n",
              "Execution_1   0.57298  0.572778  0.567305  ...  0.554183  0.581063      1\n",
              "\n",
              "[7 rows x 8 columns]"
            ]
          },
          "execution_count": 85,
          "metadata": {},
          "output_type": "execute_result"
        }
      ],
      "source": [
        "# Concatenates all ratings into a pandas dataframe\n",
        "benchmark = pd.DataFrame({'Execution_1':pd.Series(evaluator_v1),\n",
        "                          'Execution_2':pd.Series(evaluator_v2),\n",
        "                          'Execution_3':pd.Series(evaluator_v3),\n",
        "                          'Execution_4':pd.Series(evaluator_v4),\n",
        "                          'Execution_5':pd.Series(evaluator_v5),\n",
        "                          'Execution_6':pd.Series(evaluator_v6),\n",
        "                          'Execution_7':pd.Series(evaluator_v7)\n",
        "                          })\n",
        "benchmark.T.sort_values(by='Acurácia', ascending= False)"
      ]
    },
    {
      "cell_type": "markdown",
      "metadata": {
        "id": "63WklujZKaR9"
      },
      "source": [
        "* Due to the execution time, the initial tests were made from the 70-30 split, training and testing respectively.\n",
        "\n",
        "* Comparison of Benckmark versions 1 and 2, SVM algorithm with Linear kernel, showed that data rescaled by the StandardScaler() function returned better accuracy when compared to data without pre-processing.\n",
        "\n",
        "* The LighGBM algorithm, run from the data rescaled by the StandardScaler() function, demonstrated better F1 Score, Recall, Accuracy and AUC considering the test against 6 other different classification models.\n",
        "\n",
        "* The Random Forest algorithm, executed from the data rescaled by the StandardScaler() function, recorded better precision than the other comparative tests.\n",
        "\n",
        "* For a better evaluation, we will select the most outstanding models in the last benchmark for a new evaluation, this time through cross-validation."
      ]
    },
    {
      "cell_type": "markdown",
      "metadata": {
        "id": "UvPIn72ka5X7"
      },
      "source": [
        "### **Benchmark - Validação Cruzada**\n",
        "### Benchmark - Cross Validation\n",
        "\n"
      ]
    },
    {
      "cell_type": "code",
      "execution_count": null,
      "metadata": {
        "colab": {
          "base_uri": "https://localhost:8080/"
        },
        "id": "eMkXReFPS9Lf",
        "outputId": "afed4221-73ec-4dd7-d94e-f44a3a000068"
      },
      "outputs": [
        {
          "name": "stdout",
          "output_type": "stream",
          "text": [
            "LGBM: 0.932469 (0.006765)\n",
            "RF: 0.929517 (0.006774)\n",
            "AdaBoost: 0.923684 (0.008333)\n"
          ]
        }
      ],
      "source": [
        "# Selecionando os 3 melhores modelos para validação cruzada\n",
        "models = []\n",
        "models.append(('LGBM', model_v6))\n",
        "models.append(('RF', model_v5)) \n",
        "models.append(('AdaBoost', model_v7))\n",
        "results = evaluator.cross_validationCl(models)"
      ]
    },
    {
      "cell_type": "code",
      "execution_count": null,
      "metadata": {
        "colab": {
          "base_uri": "https://localhost:8080/",
          "height": 701
        },
        "id": "rN2GtIPvWItg",
        "outputId": "f2cd2d05-c383-433e-9654-0eb9d8ed6857"
      },
      "outputs": [
        {
          "data": {
            "image/png": "[encoded data removed]",
            "text/plain": [
              "<Figure size 1080x720 with 1 Axes>"
            ]
          },
          "metadata": {
            "needs_background": "light"
          },
          "output_type": "display_data"
        }
      ],
      "source": [
        "# boxplot de comparação dos algoritmos\n",
        "fig = plt.figure(figsize=(15,10)) \n",
        "fig.suptitle('Comparação da Acurácia dos Algoritmos') \n",
        "ax = fig.add_subplot(111) \n",
        "plt.boxplot(results) \n",
        "ax.set_xticklabels(names) \n",
        "plt.xticks(rotation=90)\n",
        "plt.show()"
      ]
    },
    {
      "cell_type": "markdown",
      "metadata": {
        "id": "gM3IbwukdV7m"
      },
      "source": [
        "* Boxplot above shows the strength of the LighGBM model when compared to the Random Forest and AdaBoost models. The results of the first and second quartiles are clearly superior to those of the other models. On average, the results of the random forest algorithm and lgbm are very similar, with a small difference in performance for lgbm."
      ]
    },
    {
      "cell_type": "markdown",
      "metadata": {
        "id": "Av5x1qPQ6KMy"
      },
      "source": [
        "## **Fazendo Previsões de novos dados a partir do melhor modelo identificado**\n",
        "## Making Predictions from new data from the best identified model"
      ]
    },
    {
      "cell_type": "markdown",
      "metadata": {
        "id": "YSqF8BuRPzuw"
      },
      "source": [
        "### **Selecionando um novo usuário para identificação de propensão de compra**\n",
        "### Selecting a new user to identify purchase propensity"
      ]
    },
    {
      "cell_type": "code",
      "execution_count": null,
      "metadata": {
        "colab": {
          "base_uri": "https://localhost:8080/",
          "height": 140
        },
        "id": "j4ZoLF3O6Nww",
        "outputId": "69d08728-a7fe-42db-dddf-5ff8f15c06dd"
      },
      "outputs": [
        {
          "data": {
            "text/html": [
              "\n",
              "  <div id=\"df-6b34690b-36d9-4911-9f9b-3948703264ae\">\n",
              "    <div class=\"colab-df-container\">\n",
              "      <div>\n",
              "<style scoped>\n",
              "    .dataframe tbody tr th:only-of-type {\n",
              "        vertical-align: middle;\n",
              "    }\n",
              "\n",
              "    .dataframe tbody tr th {\n",
              "        vertical-align: top;\n",
              "    }\n",
              "\n",
              "    .dataframe thead th {\n",
              "        text-align: right;\n",
              "    }\n",
              "</style>\n",
              "<table border=\"1\" class=\"dataframe\">\n",
              "  <thead>\n",
              "    <tr style=\"text-align: right;\">\n",
              "      <th></th>\n",
              "      <th>Administrative</th>\n",
              "      <th>Administrative_Duration</th>\n",
              "      <th>Informational</th>\n",
              "      <th>Informational_Duration</th>\n",
              "      <th>ProductRelated</th>\n",
              "      <th>ProductRelated_Duration</th>\n",
              "      <th>BounceRates</th>\n",
              "      <th>ExitRates</th>\n",
              "      <th>PageValues</th>\n",
              "      <th>SpecialDay</th>\n",
              "      <th>Month</th>\n",
              "      <th>OperatingSystems</th>\n",
              "      <th>Browser</th>\n",
              "      <th>Region</th>\n",
              "      <th>TrafficType</th>\n",
              "      <th>VisitorType</th>\n",
              "      <th>Weekend</th>\n",
              "    </tr>\n",
              "  </thead>\n",
              "  <tbody>\n",
              "    <tr>\n",
              "      <th>0</th>\n",
              "      <td>4.0</td>\n",
              "      <td>5.56</td>\n",
              "      <td>1.0</td>\n",
              "      <td>3.78</td>\n",
              "      <td>2.995</td>\n",
              "      <td>6.0</td>\n",
              "      <td>0.69</td>\n",
              "      <td>0.7</td>\n",
              "      <td>0.69</td>\n",
              "      <td>0.0</td>\n",
              "      <td>6.0</td>\n",
              "      <td>1.0</td>\n",
              "      <td>1.0</td>\n",
              "      <td>3.0</td>\n",
              "      <td>3.0</td>\n",
              "      <td>2.0</td>\n",
              "      <td>0.0</td>\n",
              "    </tr>\n",
              "  </tbody>\n",
              "</table>\n",
              "</div>\n",
              "      <button class=\"colab-df-convert\" onclick=\"convertToInteractive('df-6b34690b-36d9-4911-9f9b-3948703264ae')\"\n",
              "              title=\"Convert this dataframe to an interactive table.\"\n",
              "              style=\"display:none;\">\n",
              "        \n",
              "  <svg xmlns=\"http://www.w3.org/2000/svg\" height=\"24px\"viewBox=\"0 0 24 24\"\n",
              "       width=\"24px\">\n",
              "    <path d=\"M0 0h24v24H0V0z\" fill=\"none\"/>\n",
              "    <path d=\"M18.56 5.44l.94 2.06.94-2.06 2.06-.94-2.06-.94-.94-2.06-.94 2.06-2.06.94zm-11 1L8.5 8.5l.94-2.06 2.06-.94-2.06-.94L8.5 2.5l-.94 2.06-2.06.94zm10 10l.94 2.06.94-2.06 2.06-.94-2.06-.94-.94-2.06-.94 2.06-2.06.94z\"/><path d=\"M17.41 7.96l-1.37-1.37c-.4-.4-.92-.59-1.43-.59-.52 0-1.04.2-1.43.59L10.3 9.45l-7.72 7.72c-.78.78-.78 2.05 0 2.83L4 21.41c.39.39.9.59 1.41.59.51 0 1.02-.2 1.41-.59l7.78-7.78 2.81-2.81c.8-.78.8-2.07 0-2.86zM5.41 20L4 18.59l7.72-7.72 1.47 1.35L5.41 20z\"/>\n",
              "  </svg>\n",
              "      </button>\n",
              "      \n",
              "  <style>\n",
              "    .colab-df-container {\n",
              "      display:flex;\n",
              "      flex-wrap:wrap;\n",
              "      gap: 12px;\n",
              "    }\n",
              "\n",
              "    .colab-df-convert {\n",
              "      background-color: #E8F0FE;\n",
              "      border: none;\n",
              "      border-radius: 50%;\n",
              "      cursor: pointer;\n",
              "      display: none;\n",
              "      fill: #1967D2;\n",
              "      height: 32px;\n",
              "      padding: 0 0 0 0;\n",
              "      width: 32px;\n",
              "    }\n",
              "\n",
              "    .colab-df-convert:hover {\n",
              "      background-color: #E2EBFA;\n",
              "      box-shadow: 0px 1px 2px rgba(60, 64, 67, 0.3), 0px 1px 3px 1px rgba(60, 64, 67, 0.15);\n",
              "      fill: #174EA6;\n",
              "    }\n",
              "\n",
              "    [theme=dark] .colab-df-convert {\n",
              "      background-color: #3B4455;\n",
              "      fill: #D2E3FC;\n",
              "    }\n",
              "\n",
              "    [theme=dark] .colab-df-convert:hover {\n",
              "      background-color: #434B5C;\n",
              "      box-shadow: 0px 1px 3px 1px rgba(0, 0, 0, 0.15);\n",
              "      filter: drop-shadow(0px 1px 2px rgba(0, 0, 0, 0.3));\n",
              "      fill: #FFFFFF;\n",
              "    }\n",
              "  </style>\n",
              "\n",
              "      <script>\n",
              "        const buttonEl =\n",
              "          document.querySelector('#df-6b34690b-36d9-4911-9f9b-3948703264ae button.colab-df-convert');\n",
              "        buttonEl.style.display =\n",
              "          google.colab.kernel.accessAllowed ? 'block' : 'none';\n",
              "\n",
              "        async function convertToInteractive(key) {\n",
              "          const element = document.querySelector('#df-6b34690b-36d9-4911-9f9b-3948703264ae');\n",
              "          const dataTable =\n",
              "            await google.colab.kernel.invokeFunction('convertToInteractive',\n",
              "                                                     [key], {});\n",
              "          if (!dataTable) return;\n",
              "\n",
              "          const docLinkHtml = 'Like what you see? Visit the ' +\n",
              "            '<a target=\"_blank\" href=https://colab.research.google.com/notebooks/data_table.ipynb>data table notebook</a>'\n",
              "            + ' to learn more about interactive tables.';\n",
              "          element.innerHTML = '';\n",
              "          dataTable['output_type'] = 'display_data';\n",
              "          await google.colab.output.renderOutput(dataTable, element);\n",
              "          const docLink = document.createElement('div');\n",
              "          docLink.innerHTML = docLinkHtml;\n",
              "          element.appendChild(docLink);\n",
              "        }\n",
              "      </script>\n",
              "    </div>\n",
              "  </div>\n",
              "  "
            ],
            "text/plain": [
              "   Administrative  Administrative_Duration  ...  VisitorType  Weekend\n",
              "0             4.0                     5.56  ...          2.0      0.0\n",
              "\n",
              "[1 rows x 17 columns]"
            ]
          },
          "execution_count": 71,
          "metadata": {},
          "output_type": "execute_result"
        }
      ],
      "source": [
        "# new data entry\n",
        "user_jorunay_01 = np.array([4.0, 5.56, 1.0, 3.78, 2.995, 6.00, 0.69, 0.70, 0.69, 0, 6, 1, 1, 3, 3, 2, False]).reshape(1, -1)\n",
        "new_user = pd.DataFrame(user_jorunay_01)\n",
        "new_user.columns = dataset.columns[:-1]\n",
        "new_user\n"
      ]
    },
    {
      "cell_type": "code",
      "execution_count": null,
      "metadata": {
        "colab": {
          "base_uri": "https://localhost:8080/",
          "height": 76
        },
        "id": "se_R7ITOMacF",
        "outputId": "36bd2300-6600-4849-d126-724400bffcd5"
      },
      "outputs": [
        {
          "data": {
            "text/html": [
              "\n",
              "  <div id=\"df-54b91e29-1b85-44a5-8573-73aa55a96387\">\n",
              "    <div class=\"colab-df-container\">\n",
              "      <div>\n",
              "<style scoped>\n",
              "    .dataframe tbody tr th:only-of-type {\n",
              "        vertical-align: middle;\n",
              "    }\n",
              "\n",
              "    .dataframe tbody tr th {\n",
              "        vertical-align: top;\n",
              "    }\n",
              "\n",
              "    .dataframe thead th {\n",
              "        text-align: right;\n",
              "    }\n",
              "</style>\n",
              "<table border=\"1\" class=\"dataframe\">\n",
              "  <thead>\n",
              "    <tr style=\"text-align: right;\">\n",
              "      <th></th>\n",
              "      <th>0</th>\n",
              "    </tr>\n",
              "  </thead>\n",
              "  <tbody>\n",
              "    <tr>\n",
              "      <th>0</th>\n",
              "      <td>True</td>\n",
              "    </tr>\n",
              "  </tbody>\n",
              "</table>\n",
              "</div>\n",
              "      <button class=\"colab-df-convert\" onclick=\"convertToInteractive('df-54b91e29-1b85-44a5-8573-73aa55a96387')\"\n",
              "              title=\"Convert this dataframe to an interactive table.\"\n",
              "              style=\"display:none;\">\n",
              "        \n",
              "  <svg xmlns=\"http://www.w3.org/2000/svg\" height=\"24px\"viewBox=\"0 0 24 24\"\n",
              "       width=\"24px\">\n",
              "    <path d=\"M0 0h24v24H0V0z\" fill=\"none\"/>\n",
              "    <path d=\"M18.56 5.44l.94 2.06.94-2.06 2.06-.94-2.06-.94-.94-2.06-.94 2.06-2.06.94zm-11 1L8.5 8.5l.94-2.06 2.06-.94-2.06-.94L8.5 2.5l-.94 2.06-2.06.94zm10 10l.94 2.06.94-2.06 2.06-.94-2.06-.94-.94-2.06-.94 2.06-2.06.94z\"/><path d=\"M17.41 7.96l-1.37-1.37c-.4-.4-.92-.59-1.43-.59-.52 0-1.04.2-1.43.59L10.3 9.45l-7.72 7.72c-.78.78-.78 2.05 0 2.83L4 21.41c.39.39.9.59 1.41.59.51 0 1.02-.2 1.41-.59l7.78-7.78 2.81-2.81c.8-.78.8-2.07 0-2.86zM5.41 20L4 18.59l7.72-7.72 1.47 1.35L5.41 20z\"/>\n",
              "  </svg>\n",
              "      </button>\n",
              "      \n",
              "  <style>\n",
              "    .colab-df-container {\n",
              "      display:flex;\n",
              "      flex-wrap:wrap;\n",
              "      gap: 12px;\n",
              "    }\n",
              "\n",
              "    .colab-df-convert {\n",
              "      background-color: #E8F0FE;\n",
              "      border: none;\n",
              "      border-radius: 50%;\n",
              "      cursor: pointer;\n",
              "      display: none;\n",
              "      fill: #1967D2;\n",
              "      height: 32px;\n",
              "      padding: 0 0 0 0;\n",
              "      width: 32px;\n",
              "    }\n",
              "\n",
              "    .colab-df-convert:hover {\n",
              "      background-color: #E2EBFA;\n",
              "      box-shadow: 0px 1px 2px rgba(60, 64, 67, 0.3), 0px 1px 3px 1px rgba(60, 64, 67, 0.15);\n",
              "      fill: #174EA6;\n",
              "    }\n",
              "\n",
              "    [theme=dark] .colab-df-convert {\n",
              "      background-color: #3B4455;\n",
              "      fill: #D2E3FC;\n",
              "    }\n",
              "\n",
              "    [theme=dark] .colab-df-convert:hover {\n",
              "      background-color: #434B5C;\n",
              "      box-shadow: 0px 1px 3px 1px rgba(0, 0, 0, 0.15);\n",
              "      filter: drop-shadow(0px 1px 2px rgba(0, 0, 0, 0.3));\n",
              "      fill: #FFFFFF;\n",
              "    }\n",
              "  </style>\n",
              "\n",
              "      <script>\n",
              "        const buttonEl =\n",
              "          document.querySelector('#df-54b91e29-1b85-44a5-8573-73aa55a96387 button.colab-df-convert');\n",
              "        buttonEl.style.display =\n",
              "          google.colab.kernel.accessAllowed ? 'block' : 'none';\n",
              "\n",
              "        async function convertToInteractive(key) {\n",
              "          const element = document.querySelector('#df-54b91e29-1b85-44a5-8573-73aa55a96387');\n",
              "          const dataTable =\n",
              "            await google.colab.kernel.invokeFunction('convertToInteractive',\n",
              "                                                     [key], {});\n",
              "          if (!dataTable) return;\n",
              "\n",
              "          const docLinkHtml = 'Like what you see? Visit the ' +\n",
              "            '<a target=\"_blank\" href=https://colab.research.google.com/notebooks/data_table.ipynb>data table notebook</a>'\n",
              "            + ' to learn more about interactive tables.';\n",
              "          element.innerHTML = '';\n",
              "          dataTable['output_type'] = 'display_data';\n",
              "          await google.colab.output.renderOutput(dataTable, element);\n",
              "          const docLink = document.createElement('div');\n",
              "          docLink.innerHTML = docLinkHtml;\n",
              "          element.appendChild(docLink);\n",
              "        }\n",
              "      </script>\n",
              "    </div>\n",
              "  </div>\n",
              "  "
            ],
            "text/plain": [
              "      0\n",
              "0  True"
            ]
          },
          "execution_count": 72,
          "metadata": {},
          "output_type": "execute_result"
        }
      ],
      "source": [
        "# Rescaling the new record\n",
        "user_jorunay_01_scaled = StandardScaler().fit_transform(user_jorunay_01)\n",
        "\n",
        "# Prevision\n",
        "prevision_user_jorunay_01 = model_v6.predict(user_jorunay_01_scaled)\n",
        "# Writing the forecast value\n",
        "pd.DataFrame(prevision_user_jorunay_01)"
      ]
    },
    {
      "cell_type": "markdown",
      "metadata": {
        "id": "9LOfcoIIPpQ9"
      },
      "source": [
        "### **Conclusão**\n",
        "### Conclusion"
      ]
    },
    {
      "cell_type": "markdown",
      "metadata": {
        "id": "E401v-ppPIP5"
      },
      "source": [
        "* **Based on the New User Journey, we can predict with 93.24% accuracy that this user is likely to purchase from this e-commerce.**\n",
        "\n",
        "* **Users with a purchase forecast identified by the algorithm can be forwarded to google analitycs to send targeted advertising containing discounts on the product offered to enhance customer loyalty.**"
      ]
    }
  ],
  "metadata": {
    "colab": {
      "collapsed_sections": [
        "Ld-9UBIBugX4",
        "TUyHMkOPwZrU",
        "yp-yPPwh34Zp",
        "pSlfEqpw9hr6",
        "DKojEFtkrEyt",
        "Ovnu6A4l1LBs",
        "N8k2lWRh7s1M"
      ],
      "machine_shape": "hm",
      "provenance": []
    },
    "kernelspec": {
      "display_name": "Python 3",
      "language": "python",
      "name": "python3"
    },
    "language_info": {
      "codemirror_mode": {
        "name": "ipython",
        "version": 3
      },
      "file_extension": ".py",
      "mimetype": "text/x-python",
      "name": "python",
      "nbconvert_exporter": "python",
      "pygments_lexer": "ipython3",
      "version": "3.7.10"
    }
  },
  "nbformat": 4,
  "nbformat_minor": 0
}